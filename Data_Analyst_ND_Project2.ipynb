{
 "cells": [
  {
   "cell_type": "markdown",
   "metadata": {},
   "source": [
    "# Analyzing the NYC Subway Dataset\n",
    "\n",
    "Craig Nicholson\n",
    "September 9th 2015\n",
    "\n",
    "In this notebook, we will review look the NYC Subway data and determine if more people ride the subway when it is raining versus when it is not raining."
   ]
  },
  {
   "cell_type": "markdown",
   "metadata": {},
   "source": [
    "## Imports"
   ]
  },
  {
   "cell_type": "code",
   "execution_count": 94,
   "metadata": {
    "collapsed": false
   },
   "outputs": [],
   "source": [
    "import pandas as pd\n",
    "import numpy as np\n",
    "import scipy.stats as stats\n",
    "import statsmodels.api as sm\n",
    "import matplotlib.pyplot as plt\n",
    "from scipy.stats import ttest_ind\n",
    "from sklearn.linear_model import SGDRegressor"
   ]
  },
  {
   "cell_type": "code",
   "execution_count": 95,
   "metadata": {
    "collapsed": false
   },
   "outputs": [
    {
     "name": "stdout",
     "output_type": "stream",
     "text": [
      "Populating the interactive namespace from numpy and matplotlib\n"
     ]
    }
   ],
   "source": [
    "# display plot within the notebook rather than a new window\n",
    "%pylab inline\n"
   ]
  },
  {
   "cell_type": "markdown",
   "metadata": {},
   "source": [
    "## Load the Data"
   ]
  },
  {
   "cell_type": "code",
   "execution_count": 96,
   "metadata": {
    "collapsed": false
   },
   "outputs": [
    {
     "data": {
      "text/html": [
       "<div>\n",
       "<table border=\"1\" class=\"dataframe\">\n",
       "  <thead>\n",
       "    <tr style=\"text-align: right;\">\n",
       "      <th></th>\n",
       "      <th>UNIT</th>\n",
       "      <th>DATEn</th>\n",
       "      <th>TIMEn</th>\n",
       "      <th>ENTRIESn</th>\n",
       "      <th>EXITSn</th>\n",
       "      <th>ENTRIESn_hourly</th>\n",
       "      <th>EXITSn_hourly</th>\n",
       "      <th>datetime</th>\n",
       "      <th>hour</th>\n",
       "      <th>day_week</th>\n",
       "      <th>...</th>\n",
       "      <th>pressurei</th>\n",
       "      <th>rain</th>\n",
       "      <th>tempi</th>\n",
       "      <th>wspdi</th>\n",
       "      <th>meanprecipi</th>\n",
       "      <th>meanpressurei</th>\n",
       "      <th>meantempi</th>\n",
       "      <th>meanwspdi</th>\n",
       "      <th>weather_lat</th>\n",
       "      <th>weather_lon</th>\n",
       "    </tr>\n",
       "  </thead>\n",
       "  <tbody>\n",
       "    <tr>\n",
       "      <th>0</th>\n",
       "      <td>R003</td>\n",
       "      <td>05-01-11</td>\n",
       "      <td>00:00:00</td>\n",
       "      <td>4388333</td>\n",
       "      <td>2911002</td>\n",
       "      <td>0</td>\n",
       "      <td>0</td>\n",
       "      <td>2011-05-01 00:00:00</td>\n",
       "      <td>0</td>\n",
       "      <td>6</td>\n",
       "      <td>...</td>\n",
       "      <td>30.22</td>\n",
       "      <td>0</td>\n",
       "      <td>55.9</td>\n",
       "      <td>3.5</td>\n",
       "      <td>0</td>\n",
       "      <td>30.258</td>\n",
       "      <td>55.98</td>\n",
       "      <td>7.86</td>\n",
       "      <td>40.700348</td>\n",
       "      <td>-73.887177</td>\n",
       "    </tr>\n",
       "    <tr>\n",
       "      <th>1</th>\n",
       "      <td>R003</td>\n",
       "      <td>05-01-11</td>\n",
       "      <td>04:00:00</td>\n",
       "      <td>4388333</td>\n",
       "      <td>2911002</td>\n",
       "      <td>0</td>\n",
       "      <td>0</td>\n",
       "      <td>2011-05-01 04:00:00</td>\n",
       "      <td>4</td>\n",
       "      <td>6</td>\n",
       "      <td>...</td>\n",
       "      <td>30.25</td>\n",
       "      <td>0</td>\n",
       "      <td>52.0</td>\n",
       "      <td>3.5</td>\n",
       "      <td>0</td>\n",
       "      <td>30.258</td>\n",
       "      <td>55.98</td>\n",
       "      <td>7.86</td>\n",
       "      <td>40.700348</td>\n",
       "      <td>-73.887177</td>\n",
       "    </tr>\n",
       "  </tbody>\n",
       "</table>\n",
       "<p>2 rows × 27 columns</p>\n",
       "</div>"
      ],
      "text/plain": [
       "   UNIT     DATEn     TIMEn  ENTRIESn   EXITSn  ENTRIESn_hourly  \\\n",
       "0  R003  05-01-11  00:00:00   4388333  2911002                0   \n",
       "1  R003  05-01-11  04:00:00   4388333  2911002                0   \n",
       "\n",
       "   EXITSn_hourly             datetime  hour  day_week     ...       pressurei  \\\n",
       "0              0  2011-05-01 00:00:00     0         6     ...           30.22   \n",
       "1              0  2011-05-01 04:00:00     4         6     ...           30.25   \n",
       "\n",
       "  rain  tempi  wspdi meanprecipi  meanpressurei  meantempi  meanwspdi  \\\n",
       "0    0   55.9    3.5           0         30.258      55.98       7.86   \n",
       "1    0   52.0    3.5           0         30.258      55.98       7.86   \n",
       "\n",
       "   weather_lat  weather_lon  \n",
       "0    40.700348   -73.887177  \n",
       "1    40.700348   -73.887177  \n",
       "\n",
       "[2 rows x 27 columns]"
      ]
     },
     "execution_count": 96,
     "metadata": {},
     "output_type": "execute_result"
    }
   ],
   "source": [
    "# load the stroopdata.csv\n",
    "path = '~/Downloads/P2-1/turnstile_weather_v2.csv'\n",
    "df = pd.read_csv(path)\n",
    "df.head(2)"
   ]
  },
  {
   "cell_type": "code",
   "execution_count": 97,
   "metadata": {
    "collapsed": false
   },
   "outputs": [],
   "source": [
    "# fetch two samples, the one with rain and the one without rain\n",
    "# 1 = rain, 0 = no rain for the entry\n",
    "# reset the indexes since we have new dataframes\n",
    "rain = df[df['rain']==1].reset_index()\n",
    "norain =  df[df['rain']==0].reset_index()"
   ]
  },
  {
   "cell_type": "markdown",
   "metadata": {},
   "source": [
    "## Section 1. Statistical Test\n",
    "\n",
    "The mean difference of people ride the subway when it is raining versus when it is not raining.\n",
    "#### null Hypothesis\n",
    "H0: μd = μ0\n",
    "#### Alternate Hypothesis\n",
    "HA: μd ≠ μ0\n",
    "#### Statistical Test\n",
    "Since we have one large sample and are reviewing riders on the days it is raining vs. not raining we will run an Independant T-test.\n",
    "#### Independant variables\n",
    "Rain vs No Rain\n",
    "#### Dependent variable\n",
    "The number of ENTRIESn_hourly"
   ]
  },
  {
   "cell_type": "markdown",
   "metadata": {},
   "source": [
    "## Data Validation"
   ]
  },
  {
   "cell_type": "markdown",
   "metadata": {},
   "source": [
    "any mising dates  \n",
    "are all dates valid  \n",
    "any missing ENTRIESn_hourly  \n",
    "any missing hours, any hours out of the correct date?  \n",
    "we have day_week can we use this for the weekend   \n",
    "do we have folks using more UNITs in other areas more than others...   \n",
    "what happens on the weekend with the data...  \n",
    "when it rains does it rain for all hours in the day or just like early in the AM...\n",
    "what is the hourly entries like throughout the day... \n"
   ]
  },
  {
   "cell_type": "markdown",
   "metadata": {},
   "source": [
    "## Calculations"
   ]
  },
  {
   "cell_type": "code",
   "execution_count": 102,
   "metadata": {
    "collapsed": false,
    "scrolled": true
   },
   "outputs": [
    {
     "name": "stdout",
     "output_type": "stream",
     "text": [
      "Independent T-test\n",
      "T-statistic: 5.043\tp-value: 0.00000046\n"
     ]
    }
   ],
   "source": [
    "# t-test via scipy\n",
    "# returns t-statistic and two-tailed p-value\n",
    "# equal_var = False, perform Welch’s t-test, which does not assume equal population \n",
    "# Welch does not assume equal sample size or equal variences\n",
    "# returns 5.33\n",
    "t_test_results = stats.ttest_ind(rain['ENTRIESn_hourly'],norain['ENTRIESn_hourly']\n",
    "                                 ,equal_var = False)\n",
    "t_statistic = t_test_results[0]\n",
    "p_value = t_test_results[1]\n",
    "print'Independent T-test''\\nT-statistic: %.3f\\tp-value: %.8f' % (t_statistic, p_value)"
   ]
  },
  {
   "cell_type": "code",
   "execution_count": 103,
   "metadata": {
    "collapsed": false
   },
   "outputs": [
    {
     "name": "stdout",
     "output_type": "stream",
     "text": [
      "Mann-Whitney U test \n",
      "u statistic: 153635120.500 \tp-value: 0.000\n"
     ]
    }
   ],
   "source": [
    "# The Mann-Whitney U test is used to compare differences between two independent groups \n",
    "# when the dependent variable is either ordinal or continuous, but not normally distributed. \n",
    "# Returns The Mann-Whitney statistics, p-value (one sided)\n",
    "# Mann-Whitney U is significant if the u-obtained is LESS THAN or equal to the critical value of U\n",
    "# I think this is insignificant here... because of Mann Whitney.  Hard to figure out U critical value\n",
    "# http://www.real-statistics.com/statistics-tables/mann-whitney-table/\n",
    "# http://sphweb.bumc.bu.edu/otlt/MPH-Modules/BS/BS704_Nonparametric/BS704_Nonparametric4.html\n",
    "# \n",
    "u_statistic, mannwhitney_p_value = stats.mannwhitneyu(rain['ENTRIESn_hourly'], norain['ENTRIESn_hourly']\n",
    "                                                      , use_continuity=True)\n",
    "print 'Mann-Whitney U test \\nu statistic: %.3f \\tp-value: %.3f' % (u_statistic, mannwhitney_p_value)"
   ]
  },
  {
   "cell_type": "code",
   "execution_count": 104,
   "metadata": {
    "collapsed": false
   },
   "outputs": [
    {
     "name": "stdout",
     "output_type": "stream",
     "text": [
      "Levene test for equal variances\n",
      "W statistic: 103.813 \tp-value: 0.000\n"
     ]
    }
   ],
   "source": [
    "''' \n",
    " Perform Levene test for equal variances\\n.\n",
    " http://docs.scipy.org/doc/scipy-0.14.0/reference/generated/scipy.stats.levene.html\n",
    " \n",
    " The Levene test tests the null hypothesis that all input samples are from populations \n",
    " with equal variances. \n",
    " \n",
    " Levene’s test is an alternative to Bartlett’s test bartlett in the case where there \n",
    " are significant deviations from normality.\n",
    " \n",
    " Three variations of Levene’s test are possible. The possibilities and their recommended usages are:\n",
    "    ‘median’ : Recommended for skewed (non-normal) distributions>\n",
    "    ‘mean’ : Recommended for symmetric, moderate-tailed distributions.\n",
    "    ‘trimmed’ : Recommended for heavy-tailed distributions.\n",
    "    \n",
    "'''\n",
    "w, levene_p_value = stats.levene(rain['ENTRIESn_hourly'], norain['ENTRIESn_hourly'] ,center='trimmed')\n",
    "print 'Levene test for equal variances\\nW statistic: %.3f \\tp-value: %.3f' % (w, levene_p_value)"
   ]
  },
  {
   "cell_type": "code",
   "execution_count": 105,
   "metadata": {
    "collapsed": false
   },
   "outputs": [],
   "source": [
    "# Get the (n) number of samples in each \n",
    "rain_n = rain['UNIT'].count() \n",
    "norain_n = norain['UNIT'].count() \n",
    "\n",
    "# Get the (df) number of samples in each \n",
    "# We are using the independent t test \n",
    "rain_df = rain_n-1\n",
    "norain_df = norain_n-1\n",
    "pooled_df = rain_df+norain_df"
   ]
  },
  {
   "cell_type": "code",
   "execution_count": 106,
   "metadata": {
    "collapsed": true
   },
   "outputs": [],
   "source": [
    "# Get the means and medians for the rain\n",
    "rain_xbar= rain['ENTRIESn_hourly'].mean()\n",
    "rain_median = rain['ENTRIESn_hourly'].median()\n",
    "\n",
    "# Get the means and medians for the norain\n",
    "norain_xbar = norain['ENTRIESn_hourly'].mean()\n",
    "norain_median = norain['ENTRIESn_hourly'].median()"
   ]
  },
  {
   "cell_type": "code",
   "execution_count": 107,
   "metadata": {
    "collapsed": false
   },
   "outputs": [
    {
     "name": "stdout",
     "output_type": "stream",
     "text": [
      "3189.26699226 2878.72731433\n"
     ]
    }
   ],
   "source": [
    "# Get the standard deviations of the samples\n",
    "# http://docs.scipy.org/doc/scipy/reference/generated/scipy.stats.ttest_rel.html\n",
    "rain_sd = stats.tstd(rain['ENTRIESn_hourly'], limits=None, inclusive=(True, True))\n",
    "norain_sd = stats.tstd(norain['ENTRIESn_hourly'], limits=None, inclusive=(True, True))\n",
    "\n",
    "# Standard Error of the Mean\n",
    "# I need to run this calculations myself and valiate the independant test\n",
    "rain_se = stats.sem(rain['ENTRIESn_hourly'], axis=None, ddof=rain_df)\n",
    "norain_se = stats.sem(norain['ENTRIESn_hourly'], axis=None, ddof=norain_df)\n",
    "print rain_se, norain_se"
   ]
  },
  {
   "cell_type": "code",
   "execution_count": 108,
   "metadata": {
    "collapsed": true
   },
   "outputs": [],
   "source": [
    "# Calculate the t-critical value, instead of using a table - woohoo\n",
    "# http://docs.scipy.org/doc/scipy-0.15.1/reference/generated/scipy.stats.t.html\n",
    "# By adding 1 to 0.95 and then dividing by 2, we get the critical value for 2 tail test\n",
    "degrees_of_freedom = pooled_df\n",
    "#critical_value = stats.t._ppf((1+0.95)/2., degrees_of_freedom)\n",
    "critical_value = stats.t._ppf((1+0.99)/2., degrees_of_freedom)"
   ]
  },
  {
   "cell_type": "code",
   "execution_count": 109,
   "metadata": {
    "collapsed": false
   },
   "outputs": [
    {
     "name": "stdout",
     "output_type": "stream",
     "text": [
      "97493098540.7 2.74003713901e+11\n"
     ]
    }
   ],
   "source": [
    "# Calculate Sum of Squares (SS for rain), pooled var, pooled SE\n",
    "# (X1 - XBar)**2\n",
    "rain_SS = np.sum((rain['ENTRIESn_hourly']-rain_xbar)**2)\n",
    "norain_SS = np.sum((norain['ENTRIESn_hourly']-norain_xbar)**2)\n",
    "print rain_SS,norain_SS"
   ]
  },
  {
   "cell_type": "code",
   "execution_count": 110,
   "metadata": {
    "collapsed": false
   },
   "outputs": [
    {
     "name": "stdout",
     "output_type": "stream",
     "text": [
      "97493098540.7 2.74003713901e+11\n",
      "3189.43337288 2878.77084798\n"
     ]
    }
   ],
   "source": [
    "# Validate the above equation for rain\n",
    "rain['dff_mean_var']  = rain['ENTRIESn_hourly']-rain_xbar\n",
    "rain['SS'] = np.square(rain['dff_mean_var'])\n",
    "\n",
    "# Validate the above equation for rain\n",
    "norain['dff_mean_var']  = norain['ENTRIESn_hourly']-norain_xbar\n",
    "norain['SS'] = np.square(norain['dff_mean_var'])\n",
    "print  rain['SS'].sum(), norain['SS'].sum()\n",
    "\n",
    "# Calculate the Standard Error for each for checking scipy and learning std error\n",
    "print np.sqrt(rain['SS'].sum()/rain_df), np.sqrt(norain['SS'].sum()/norain_df)"
   ]
  },
  {
   "cell_type": "code",
   "execution_count": 111,
   "metadata": {
    "collapsed": false
   },
   "outputs": [
    {
     "name": "stdout",
     "output_type": "stream",
     "text": [
      "8710971.75513\n"
     ]
    }
   ],
   "source": [
    "# Pooled Varience is the Total of the Sum of Squares  / Total df\n",
    "pooled_varience = (rain_SS+norain_SS)/(pooled_df)\n",
    "print pooled_varience"
   ]
  },
  {
   "cell_type": "code",
   "execution_count": 112,
   "metadata": {
    "collapsed": false
   },
   "outputs": [
    {
     "name": "stdout",
     "output_type": "stream",
     "text": [
      "34.2384404399\n"
     ]
    }
   ],
   "source": [
    "# Corrected Standard Error is the Total of the Sum of Squares  / Total Degrees of freedom\n",
    "# SE Corrected with pooled var\n",
    "# divide by n- sample size not df.\n",
    "# the standard error is never negative\n",
    "# Pooled Variance Sum of Squares has some corrections it uses the df instead of the sample sizes\n",
    "pooled_SE = np.sqrt(pooled_varience/rain_n + pooled_varience/norain_n)\n",
    "print pooled_SE"
   ]
  },
  {
   "cell_type": "code",
   "execution_count": 113,
   "metadata": {
    "collapsed": false
   },
   "outputs": [
    {
     "name": "stdout",
     "output_type": "stream",
     "text": [
      "5.33483986013\n"
     ]
    }
   ],
   "source": [
    "# calculate the t-statistic, to compare with scipy\n",
    "t_stat_check = (rain_xbar-norain_xbar)/pooled_SE\n",
    "print t_stat_check"
   ]
  },
  {
   "cell_type": "code",
   "execution_count": 114,
   "metadata": {
    "collapsed": true
   },
   "outputs": [],
   "source": [
    "# r squared\n",
    "r_squared = ( np.square(t_statistic) /  (np.square(t_statistic) + (degrees_of_freedom)  ))"
   ]
  },
  {
   "cell_type": "code",
   "execution_count": 115,
   "metadata": {
    "collapsed": false
   },
   "outputs": [],
   "source": [
    "# Cohens D\n",
    "cohens_d = (rain_xbar-norain_xbar)/pooled_varience"
   ]
  },
  {
   "cell_type": "code",
   "execution_count": 116,
   "metadata": {
    "collapsed": true
   },
   "outputs": [],
   "source": [
    "# Calculate Confidence Intervals Independent Samples\n",
    "# SE +/- (t_critical * SE) \n",
    "# https://www.udacity.com/course/viewer#!/c-ud134-nd/l-4576163829/e-154863542/m-154863544\n",
    "lower_CI = (rain_xbar-norain_xbar)-(critical_value*pooled_SE)\n",
    "upper_CI = (rain_xbar-norain_xbar)+(critical_value*pooled_SE)"
   ]
  },
  {
   "cell_type": "markdown",
   "metadata": {},
   "source": [
    "### 1.1 Which statistical test did you use to analyze the NYC subway data? \n",
    "The independent-samples t-test (or independent t-test, for short) compares the means between two unrelated groups on the same continuous, dependent variable.\n",
    "\n",
    "The independent t-test, also called the two sample t-test or student's t-test, is an inferential statistical test that determines whether there is a statistically significant difference between the means in two unrelated groups.\n",
    "\n",
    "#### Did you use a one-tail or a two-tail P value?\n",
    "A two-tail test is used to analze the data.\n",
    "\n",
    "#### What is the null hypothesis?   \n",
    "There is no difference in hourly entries for rainy and non rainy days:\n",
    "\n",
    "H0: u1 = u2\n",
    "\n",
    "#### What is the alternative hypothesis?\n",
    "There is a difference between hourly entries on rain and no rain days.\n",
    "\n",
    "HA: u1 ≠ u2  \n",
    "\n",
    "\n",
    "\n",
    "\n",
    "#### What is your p-critical value?\n",
    "99%, Significance Level: alpha \t = 0.01 , two tail test  \n",
    "\n",
    "t-critical is +/- 2.576 \n",
    "p critical is 0.005\n"
   ]
  },
  {
   "cell_type": "markdown",
   "metadata": {},
   "source": [
    "### 1.2 Why is this statistical test applicable to the dataset?\n",
    "\n",
    "We have two unrelated groups on the same continuous, dependent variable, with different sample sizes.\n",
    "\n",
    "###  In particular, consider the assumptions that the test is making about the distribution of ridership in the two samples.\n",
    "\n",
    "#### Assumption of normality of the dependent variable\n",
    "The independent t-test requires that the dependent variable is approximately normally distributed **within each group**. We can test for this using a multitude of tests, but the Shapiro-Wilks Test or a graphical method, such as a Q-Q Plot, are very common. \n",
    "\n",
    "However, the t-test is described as a robust test with respect to the assumption of normality. This means that even deviations away from normality do not have a large influence on Type I error rates. The exception to this is if the difference in the size of the groups is greater than 1.5 (largest compared to smallest).\n",
    "\n",
    "The RAIN sample is 3.44 times smaller than no rain hourly entries so it possible to be un normal.\n",
    "\n",
    "Our distributions are skewed distributions in the positive direction.  The distributions are similar.\n",
    "\n",
    "A distribution is skewed if one of its tails is longer than the other. The first distribution shown has a positive skew. This means that it has a long tail in the positive direction. The distribution below it has a negative skew since it has a long tail in the negative direction.\n",
    "\n",
    "We do not have a normal distribution.  The values are not equally distributed about the mean.\n",
    "\n",
    "\n",
    "#### What to do when you violate the normality assumption:\n",
    "Run the Mann-Whitney U Test which is a non-parametric test that does not require the assumption of normality.\n",
    "\n",
    "Mann-Whitney U test  \n",
    "u statistic: 153,635,120 \tp-value: 0.000\n",
    "\n",
    "Our p-value <  0.005 (p-critical)\n",
    "\n",
    "\n",
    "#### Assumption of Homogeneity of Variance\n",
    "The independent t-test assumes the variances of the two groups you are measuring to be equal. \n",
    "\n",
    "To test the Homogeneity of Variance we use Levene's Test for Equality of Variances'.\n",
    "\n",
    "> If your variances are unequal, this can affect the Type I error rate. The assumption of homogeneity of variance can be tested using Levene's Test of Equality of Variances, which is produced in SPSS when running the independent t-test. If you have run Levene's Test of Equality of Variances, whether in SPSS or by another means, you will get a result similar to that below\n",
    "\n",
    "> This test for homogeneity of variance provides an F statistic and a significance value (p-value). We are primarily concerned with the significance level - if it is greater than 0.05, our group variances can be treated as equal. However, if p < 0.05, we have unequal variances and we have violated the assumption of homogeneity of variance.\n",
    "\n",
    "Levene test for equal variances\n",
    "W statistic: 103.813 \tp-value: 0.000\n",
    "\n",
    "We have violated the assumption of equal variances.\n",
    "\n",
    "#### Overcoming a Violation of the Assumption of Homogeneity of Variance\n",
    "\n",
    "> If the Levene's Test for Equality of Variances is statistically significant, and therefore indicates unequal variances, we can correct for this violation by not using the pooled estimate for the error term for the t-statistic, and also making adjustments to the degrees of freedom using the Welch-Satterthwaite method. \n",
    "\n",
    "#### References \n",
    "Independent T-Test for Two Samples, Laerd Statistics Blog  \n",
    "Retreived From https://statistics.laerd.com/statistical-guides/independent-t-test-statistical-guide.php"
   ]
  },
  {
   "cell_type": "code",
   "execution_count": 121,
   "metadata": {
    "collapsed": false
   },
   "outputs": [
    {
     "data": {
      "text/plain": [
       "<matplotlib.figure.Figure at 0x7fed7780b550>"
      ]
     },
     "execution_count": 121,
     "metadata": {},
     "output_type": "execute_result"
    },
    {
     "data": {
      "image/png": "[encoded data removed]",
      "text/plain": [
       "<matplotlib.figure.Figure at 0x7fed76d0ddd0>"
      ]
     },
     "metadata": {},
     "output_type": "display_data"
    },
    {
     "data": {
      "text/plain": [
       "<matplotlib.figure.Figure at 0x7fed7780b550>"
      ]
     },
     "metadata": {},
     "output_type": "display_data"
    }
   ],
   "source": [
    "# Histogram - These plots have the same shape - and they are not normally distributed\n",
    "\n",
    "#df['ENTRIESn_hourly'].hist(by=df['rain'], figsize=(10, 10), bins=10,alpha=0.5 label='Craig')\n",
    "plt.hist(norain['ENTRIESn_hourly'], bins=250, label='Non Rainy',color='brown')\n",
    "plt.hist(rain['ENTRIESn_hourly'], bins=250, alpha=0.45, label='Rainy',color='green')\n",
    "plt.title(r'Histogram of ENTRIESn_hourly')\n",
    "plt.xlabel('ENTRIESn_hourly')\n",
    "plt.ylabel('Frequency')\n",
    "plt.legend(loc='best', frameon=False)\n",
    "# resize to show the distribution of the data\n",
    "plt.axis(xmin=0, xmax=6000)\n",
    "plt.figure(figsize(10,5))\n"
   ]
  },
  {
   "cell_type": "code",
   "execution_count": 21,
   "metadata": {
    "collapsed": false
   },
   "outputs": [
    {
     "data": {
      "image/png": "[encoded data removed]",
      "text/plain": [
       "<matplotlib.figure.Figure at 0x7fed7b11df50>"
      ]
     },
     "metadata": {},
     "output_type": "display_data"
    },
    {
     "data": {
      "image/png": "[encoded data removed]",
      "text/plain": [
       "<matplotlib.figure.Figure at 0x7fed76369850>"
      ]
     },
     "metadata": {},
     "output_type": "display_data"
    }
   ],
   "source": [
    "# Q-Q plot to test for normal distribution\n",
    "# http://stackoverflow.com/questions/13865596/quantile-quantile-plot-using-scipy\n",
    "stats.probplot(rain['ENTRIESn_hourly'], dist=\"norm\", plot=pylab)\n",
    "pylab.title('Q-Q Plot for Rainy ENTRIESn_hourly')\n",
    "pylab.show()\n",
    "\n",
    "stats.probplot(norain['ENTRIESn_hourly'], dist=\"norm\", plot=pylab)\n",
    "pylab.title('Q-Q Plot for Non Rainy ENTRIESn_hourly')\n",
    "pylab.show()"
   ]
  },
  {
   "cell_type": "code",
   "execution_count": 22,
   "metadata": {
    "collapsed": false
   },
   "outputs": [
    {
     "name": "stderr",
     "output_type": "stream",
     "text": [
      "/home/cnicholson/anaconda/lib/python2.7/site-packages/scipy/stats/morestats.py:997: UserWarning: p-value may not be accurate for N > 5000.\n",
      "  warnings.warn(\"p-value may not be accurate for N > 5000.\")\n"
     ]
    },
    {
     "data": {
      "text/plain": [
       "(0.5943876504898071,\n",
       " 0.0,\n",
       " array([  2.13032681e-02,   1.93585046e-02,   1.85939576e-02, ...,\n",
       "          8.53702829e-07,   5.69376368e-07,   2.84688184e-07], dtype=float32))"
      ]
     },
     "execution_count": 22,
     "metadata": {},
     "output_type": "execute_result"
    }
   ],
   "source": [
    "# Shapiro-Wilks Test for normal distribution\n",
    "# scipy.stats.shapiro(x, a=None, reta=False)[source]¶\n",
    "# http://www.itl.nist.gov/div898/handbook/prc/section2/prc213.htm\n",
    "#Returns:\n",
    "# W : The test statistic.\n",
    "# p-value : The p-value for the hypothesis test.\n",
    "# a : array_like, optional\n",
    "stats.shapiro(df['ENTRIESn_hourly'], a=None, reta=True)"
   ]
  },
  {
   "cell_type": "code",
   "execution_count": 22,
   "metadata": {
    "collapsed": false,
    "scrolled": true
   },
   "outputs": [
    {
     "data": {
      "text/plain": [
       "<matplotlib.text.Text at 0x7fed762a0950>"
      ]
     },
     "execution_count": 22,
     "metadata": {},
     "output_type": "execute_result"
    },
    {
     "data": {
      "text/plain": [
       "<matplotlib.figure.Figure at 0x7fed761d6cd0>"
      ]
     },
     "metadata": {},
     "output_type": "display_data"
    },
    {
     "data": {
      "image/png": "[encoded data removed]",
      "text/plain": [
       "<matplotlib.figure.Figure at 0x7fed76282710>"
      ]
     },
     "metadata": {},
     "output_type": "display_data"
    }
   ],
   "source": [
    "# Check for outliers\n",
    "x_sec = df[['rain', 'ENTRIESn_hourly']]\n",
    "plt.figure()\n",
    "bp = x_sec.boxplot(by='rain')\n",
    "plt.xlabel(\"Rain vs No Rain\")\n",
    "plt.ylabel(\"ENTRIESn_hourly\")"
   ]
  },
  {
   "cell_type": "markdown",
   "metadata": {},
   "source": [
    "DONE: Assumption #1: Your dependent variable should be measured on a continuous scale (i.e., it is measured at the interval or ratio level). Examples of variables that meet this criterion include revision time (measured in hours), intelligence (measured using IQ score), exam performance (measured from 0 to 100), weight (measured in kg), and so forth. You can learn more about continuous variables in our article: Types of Variable.\n",
    "\n",
    "DONE: Assumption #2: Your independent variable should consist of two categorical, independent groups. Example independent variables that meet this criterion include gender (2 groups: male or female), employment status (2 groups: employed or unemployed), smoker (2 groups: yes or no), and so forth.\n",
    "\n",
    "DONE: Assumption #3: You should have independence of observations, which means that there is no relationship between the observations in each group or between the groups themselves. For example, there must be different participants in each group with no participant being in more than one group. This is more of a study design issue than something you can test for, but it is an important assumption of the independent t-test. If your study fails this assumption, you will need to use another statistical test instead of the independent t-test (e.g., a paired-samples t-test). If you are unsure whether your study meets this assumption, you can use our Statistical Test Selector, which is part of our enhanced content.\n",
    "\n",
    "Assumption #4: There should be no significant outliers. Outliers are simply single data points within your data that do not follow the usual pattern (e.g., in a study of 100 students' IQ scores, where the mean score was 108 with only a small variation between students, one student had a score of 156, which is very unusual, and may even put her in the top 1% of IQ scores globally). \n",
    "\n",
    "The problem with outliers is that they can have a negative effect on the independent t-test, reducing the validity of your results. \n",
    "\n",
    "WE HAVE LOTS OF OUTLIERS.  NEED TO CONFIRM\n",
    "\n",
    "\n",
    "https://statistics.laerd.com/spss-tutorials/independent-t-test-using-spss-statistics.php"
   ]
  },
  {
   "cell_type": "markdown",
   "metadata": {},
   "source": [
    "### 1.3 What results did you get from this statistical test? These should include the following numerical values: p-values, as well as the means for each of the two samples under test."
   ]
  },
  {
   "cell_type": "code",
   "execution_count": 134,
   "metadata": {
    "collapsed": false
   },
   "outputs": [
    {
     "name": "stdout",
     "output_type": "stream",
     "text": [
      "\n",
      "\n",
      "TABLE 1.0\n",
      "\n",
      "\n",
      "DESCRIPTIVE STATISTICS\n",
      "\t\tn \t\tmean \t\tmedian \t\tStDev \t\tSE Mean\n",
      "Rain   \t\t9585.00 \t2028.20 \t939.00 \t\t3189.43 \t3189.27\n",
      "No Rain\t\t33064.00 \t1845.54 \t893.00 \t\t2878.77 \t2878.73\n",
      "\n",
      "\n",
      "Pooled Varience: \t\t8710972\n",
      "Corrected Standard Error: \t34.238\n",
      "\n",
      "\n",
      "INFERENTIAL STATISTICS\n",
      "Type of test\t\t\t = Independent t-test\n",
      "Test statistics: T \t\t = 5.04288\n",
      "Degrees of Freedom\t\t = 42647\n",
      "Significance Level: alpha \t = 0.01 \n",
      "Critical value: t1-α/2,ν \t = 2.576\n",
      "Critical region: Reject H0 if \t = |T| > 2.576\n",
      "P-Value\t\t\t\t = 0.000000464\n",
      "Direction of test\t\t = two tail \n",
      "\n",
      "\n",
      "CONFIDENCE INTERVALS\n",
      "99% CI for the mean difference: (94.46027, 270.85292)\n",
      "Margin of Error: 88.20\n",
      "\n",
      "\n",
      "EFFECT SIZE MEASURES\n",
      "r squared \t\t\t = 0.00060\n",
      "Cohens-D\t\t\t = 0.00002\n"
     ]
    }
   ],
   "source": [
    "print '\\n'\n",
    "print 'TABLE 1.0'\n",
    "print '\\n'\n",
    "print 'DESCRIPTIVE STATISTICS'\n",
    "print '\\t\\tn \\t\\tmean \\t\\tmedian \\t\\tStDev \\t\\tSE Mean'\n",
    "print 'Rain   \\t\\t%.2f \\t%.2f \\t%.2f \\t\\t%.2f \\t%.2f' % (rain_n,rain_xbar, rain_median,rain_sd,rain_se)\n",
    "print 'No Rain\\t\\t%.2f \\t%.2f \\t%.2f \\t\\t%.2f \\t%.2f' % (norain_n,norain_xbar,norain_median,norain_sd,norain_se)\n",
    "print '\\n'\n",
    "print 'Pooled Varience: \\t\\t%.0f' % pooled_varience\n",
    "print 'Corrected Standard Error: \\t%.3f' % pooled_SE\n",
    "print '\\n'\n",
    "\n",
    "print 'INFERENTIAL STATISTICS'\n",
    "# Paired t-test, two tail, t-statistic ,df,p-value, direction of test (two tail, or one tail to in _/- directrion')\n",
    "print 'Type of test\\t\\t\\t = %s' % 'Independent t-test'\n",
    "print 'Test statistics: T \\t\\t = %.5f' % t_statistic\n",
    "print 'Degrees of Freedom\\t\\t = %.0f' % ((rain_n+norain_n)-2)\n",
    "print 'Significance Level: alpha \\t = %s ' % '0.01'\n",
    "print 'Critical value: t1-α/2,ν \\t = %.3f' % critical_value\n",
    "print 'Critical region: Reject H0 if \\t = |T| > %.3f' % critical_value\n",
    "print 'P-Value\\t\\t\\t\\t = %.9f' % p_value\n",
    "print 'Direction of test\\t\\t = %s ' % 'two tail'\n",
    "print '\\n'\n",
    "\n",
    "print 'CONFIDENCE INTERVALS'\n",
    "print '99%% CI for the mean difference: (%.5f, %.5f)' % (lower_CI,upper_CI)\n",
    "print 'Margin of Error: %.2f' % ((upper_CI-lower_CI)/2.0)\n",
    "print '\\n'\n",
    "\n",
    "print 'EFFECT SIZE MEASURES'\n",
    "print 'r squared \\t\\t\\t = %.5f' % r_squared \n",
    "print 'Cohens-D\\t\\t\\t = %.5f' % cohens_d"
   ]
  },
  {
   "cell_type": "markdown",
   "metadata": {},
   "source": [
    "### 1.4 What is the significance and interpretation of these results?\n",
    "\n",
    "We Reject the null hypothesis based on the t-test results.\n",
    "\n",
    "An independent t-test was run on the data as well as 99% confidence intervals (CI) for the mean difference. It was found during days with rain, the ENTRIESn_hourly (2028.20  ± 3189.43) were significantly higher than the days with No Rain (1845.54 ± 2878.77). \n",
    "\n",
    "(t(42647) = 5.33484, p < 0.001) with a difference of 182.66 (99% CI, 94.46 to 270.85) ENTRIESn_hourly.\n",
    "\n",
    "Inspection of Q-Q Plots revealed that ENTRIESn_hourly was not normally distributed for both groups and there was not homogeneity of variance as assessed by Levene's Test for Equality of Variances."
   ]
  },
  {
   "cell_type": "markdown",
   "metadata": {},
   "source": [
    "## Section 2. Linear Regression"
   ]
  },
  {
   "cell_type": "markdown",
   "metadata": {},
   "source": [
    "\n",
    "### 2.1 What approach did you use to compute the coefficients theta and produce prediction for ENTRIESn_hourly in your regression model: OLS using Statsmodels or Scikit Learn Gradient descent using Scikit Learn Or something different?\n",
    "\n",
    "The OLS method from Statsmodels is used to compute the coefficients that and produce predictions for the ENTRIES_hourly."
   ]
  },
  {
   "cell_type": "code",
   "execution_count": 145,
   "metadata": {
    "collapsed": false,
    "scrolled": true
   },
   "outputs": [
    {
     "name": "stdout",
     "output_type": "stream",
     "text": [
      "                            OLS Regression Results                            \n",
      "==============================================================================\n",
      "Dep. Variable:        ENTRIESn_hourly   R-squared:                       0.469\n",
      "Model:                            OLS   Adj. R-squared:                  0.466\n",
      "Method:                 Least Squares   F-statistic:                     153.7\n",
      "Date:                Sun, 13 Sep 2015   Prob (F-statistic):               0.00\n",
      "Time:                        22:23:30   Log-Likelihood:            -3.8778e+05\n",
      "No. Observations:               42649   AIC:                         7.761e+05\n",
      "Df Residuals:                   42404   BIC:                         7.782e+05\n",
      "Df Model:                         244                                         \n",
      "Covariance Type:            nonrobust                                         \n",
      "===============================================================================\n",
      "                  coef    std err          t      P>|t|      [95.0% Conf. Int.]\n",
      "-------------------------------------------------------------------------------\n",
      "const        1066.4262     46.483     22.943      0.000       975.320  1157.533\n",
      "meanprecipi   987.8862    846.058      1.168      0.243      -670.404  2646.176\n",
      "rain          112.6142     29.498      3.818      0.000        54.798   170.431\n",
      "hour          123.3195      1.505     81.927      0.000       120.369   126.270\n",
      "day_week     -145.8691      5.482    -26.607      0.000      -156.615  -135.124\n",
      "meanwspdi     -10.7320      5.090     -2.108      0.035       -20.709    -0.755\n",
      "unit_R003   -1600.0123    166.615     -9.603      0.000     -1926.582 -1273.443\n",
      "unit_R004   -1259.2916    163.462     -7.704      0.000     -1579.680  -938.903\n",
      "unit_R005   -1259.2842    164.866     -7.638      0.000     -1582.425  -936.144\n",
      "unit_R006   -1145.4796    161.314     -7.101      0.000     -1461.658  -829.301\n",
      "unit_R007   -1434.2134    165.913     -8.644      0.000     -1759.406 -1109.021\n",
      "unit_R008   -1424.9896    166.304     -8.569      0.000     -1750.949 -1099.031\n",
      "unit_R009   -1476.6848    163.512     -9.031      0.000     -1797.172 -1156.198\n",
      "unit_R011    5516.9511    158.872     34.726      0.000      5205.560  5828.343\n",
      "unit_R012    6856.7384    158.018     43.392      0.000      6547.019  7166.458\n",
      "unit_R013     755.1793    158.018      4.779      0.000       445.460  1064.898\n",
      "unit_R016   -1054.4968    158.876     -6.637      0.000     -1365.896  -743.097\n",
      "unit_R017    2370.1739    158.018     14.999      0.000      2060.455  2679.893\n",
      "unit_R018    6006.4807    158.815     37.821      0.000      5695.200  6317.761\n",
      "unit_R019    1475.4527    158.690      9.298      0.000      1164.417  1786.489\n",
      "unit_R020    4546.2707    158.018     28.771      0.000      4236.551  4855.990\n",
      "unit_R021    2869.8127    158.871     18.064      0.000      2558.423  3181.202\n",
      "unit_R022    7690.6631    158.018     48.669      0.000      7380.944  8000.382\n",
      "unit_R023    4325.8406    158.018     27.376      0.000      4016.121  4635.560\n",
      "unit_R024    1440.1457    159.110      9.051      0.000      1128.286  1752.005\n",
      "unit_R025    3572.3451    158.690     22.511      0.000      3261.309  3883.381\n",
      "unit_R027    1140.2761    158.018      7.216      0.000       830.557  1449.995\n",
      "unit_R029    5402.2492    158.018     34.187      0.000      5092.530  5711.968\n",
      "unit_R030    1272.4427    158.018      8.052      0.000       962.724  1582.162\n",
      "unit_R031    2524.2115    158.018     15.974      0.000      2214.492  2833.931\n",
      "unit_R032    2620.8232    158.441     16.541      0.000      2310.277  2931.370\n",
      "unit_R033    6407.2223    158.018     40.547      0.000      6097.503  6716.941\n",
      "unit_R034    -638.7615    165.219     -3.866      0.000      -962.594  -314.929\n",
      "unit_R035     982.2303    158.866      6.183      0.000       670.851  1293.610\n",
      "unit_R036   -1006.2306    162.371     -6.197      0.000     -1324.481  -687.980\n",
      "unit_R037    -923.1892    159.651     -5.783      0.000     -1236.108  -610.270\n",
      "unit_R038   -1559.1895    163.253     -9.551      0.000     -1879.169 -1239.210\n",
      "unit_R039    -972.6833    167.532     -5.806      0.000     -1301.049  -644.317\n",
      "unit_R040    -521.0553    159.238     -3.272      0.001      -833.164  -208.947\n",
      "unit_R041    1272.2545    158.018      8.051      0.000       962.535  1581.974\n",
      "unit_R042   -1218.2422    160.607     -7.585      0.000     -1533.035  -903.449\n",
      "unit_R043    1059.3890    158.018      6.704      0.000       749.670  1369.108\n",
      "unit_R044    2850.7976    158.018     18.041      0.000      2541.078  3160.517\n",
      "unit_R046    6517.2492    158.018     41.244      0.000      6207.530  6826.968\n",
      "unit_R049     945.0610    158.018      5.981      0.000       635.342  1254.780\n",
      "unit_R050    2200.9270    158.870     13.854      0.000      1889.539  2512.315\n",
      "unit_R051    3306.8029    158.018     20.927      0.000      2997.084  3616.522\n",
      "unit_R052    -512.4023    164.696     -3.111      0.002      -835.210  -189.595\n",
      "unit_R053    1408.2065    159.252      8.843      0.000      1096.069  1720.344\n",
      "unit_R054    -356.9988    158.871     -2.247      0.025      -668.389   -45.609\n",
      "unit_R055    6560.1416    158.389     41.418      0.000      6249.696  6870.587\n",
      "unit_R056    -369.9837    158.872     -2.329      0.020      -681.375   -58.592\n",
      "unit_R057    3055.1900    158.018     19.334      0.000      2745.471  3364.909\n",
      "unit_R058   -1180.3359    158.433     -7.450      0.000     -1490.868  -869.803\n",
      "unit_R059    -616.6886    161.951     -3.808      0.000      -934.116  -299.261\n",
      "unit_R060   -1004.4328    160.599     -6.254      0.000     -1319.210  -689.656\n",
      "unit_R061   -1167.1653    166.693     -7.002      0.000     -1493.888  -840.443\n",
      "unit_R062     909.0502    158.018      5.753      0.000       599.331  1218.769\n",
      "unit_R063    -619.5589    166.205     -3.728      0.000      -945.324  -293.793\n",
      "unit_R064    -958.6823    162.414     -5.903      0.000     -1277.016  -640.348\n",
      "unit_R065    -942.1340    164.259     -5.736      0.000     -1264.084  -620.184\n",
      "unit_R066   -1519.7328    165.226     -9.198      0.000     -1843.579 -1195.886\n",
      "unit_R067    -859.0721    167.144     -5.140      0.000     -1186.678  -531.466\n",
      "unit_R068   -1246.6668    167.132     -7.459      0.000     -1574.248  -919.085\n",
      "unit_R069    -786.1226    164.208     -4.787      0.000     -1107.974  -464.271\n",
      "unit_R070     -39.9713    158.018     -0.253      0.800      -349.690   269.748\n",
      "unit_R080    1784.3567    158.018     11.292      0.000      1474.637  2094.076\n",
      "unit_R081    1736.1643    158.866     10.928      0.000      1424.783  2047.545\n",
      "unit_R082    -315.2333    158.873     -1.984      0.047      -626.627    -3.840\n",
      "unit_R083    1298.7653    158.018      8.219      0.000       989.046  1608.485\n",
      "unit_R084    8203.0395    158.018     51.912      0.000      7893.320  8512.759\n",
      "unit_R085     787.1876    158.862      4.955      0.000       475.816  1098.559\n",
      "unit_R086     772.3567    158.018      4.888      0.000       462.637  1082.076\n",
      "unit_R087    -577.2073    159.737     -3.613      0.000      -890.296  -264.119\n",
      "unit_R089   -1300.7088    158.876     -8.187      0.000     -1612.108  -989.309\n",
      "unit_R090   -1309.5429    167.125     -7.836      0.000     -1637.111  -981.974\n",
      "unit_R091    -606.7458    165.662     -3.663      0.000      -931.447  -282.045\n",
      "unit_R092     246.3541    162.795      1.513      0.130       -72.728   565.437\n",
      "unit_R093     290.1363    163.678      1.773      0.076       -30.677   610.949\n",
      "unit_R094      -0.1315    159.228     -0.001      0.999      -312.221   311.958\n",
      "unit_R095     421.4949    160.548      2.625      0.009       106.818   736.171\n",
      "unit_R096     590.9925    158.800      3.722      0.000       279.742   902.243\n",
      "unit_R097    1215.5185    158.815      7.654      0.000       904.238  1526.799\n",
      "unit_R098       6.9158    158.018      0.044      0.965      -302.803   316.635\n",
      "unit_R099     563.9427    158.018      3.569      0.000       254.224   873.662\n",
      "unit_R100   -1199.5612    160.135     -7.491      0.000     -1513.429  -885.694\n",
      "unit_R101     998.3352    158.018      6.318      0.000       688.616  1308.054\n",
      "unit_R102    1887.1739    158.018     11.943      0.000      1577.455  2196.893\n",
      "unit_R103    -336.9285    164.652     -2.046      0.041      -659.650   -14.207\n",
      "unit_R104    -406.0095    159.220     -2.550      0.011      -718.084   -93.935\n",
      "unit_R105    1536.8728    158.018      9.726      0.000      1227.154  1846.592\n",
      "unit_R106    -596.3111    167.084     -3.569      0.000      -923.799  -268.823\n",
      "unit_R107   -1191.0255    167.658     -7.104      0.000     -1519.639  -862.412\n",
      "unit_R108    3426.0395    158.018     21.681      0.000      3116.320  3735.759\n",
      "unit_R111    1423.1631    158.018      9.006      0.000      1113.444  1732.882\n",
      "unit_R112     -67.3211    158.800     -0.424      0.672      -378.571   243.929\n",
      "unit_R114    -854.1911    159.119     -5.368      0.000     -1166.068  -542.314\n",
      "unit_R115    -477.0581    158.690     -3.006      0.003      -788.094  -166.022\n",
      "unit_R116    1402.3083    158.018      8.874      0.000      1092.589  1712.028\n",
      "unit_R117    -804.3629    166.583     -4.829      0.000     -1130.869  -477.856\n",
      "unit_R119     136.1434    161.411      0.843      0.399      -180.226   452.513\n",
      "unit_R120    -205.5871    163.716     -1.256      0.209      -526.473   115.299\n",
      "unit_R121    -293.4190    162.402     -1.807      0.071      -611.731    24.893\n",
      "unit_R122     832.1897    160.565      5.183      0.000       517.479  1146.901\n",
      "unit_R123    -146.0804    160.628     -0.909      0.363      -460.915   168.754\n",
      "unit_R124   -1084.6054    164.739     -6.584      0.000     -1407.498  -761.713\n",
      "unit_R126      64.2169    158.018      0.406      0.684      -245.502   373.936\n",
      "unit_R127    3004.9266    158.018     19.016      0.000      2695.207  3314.646\n",
      "unit_R137     706.0502    158.389      4.458      0.000       395.605  1016.496\n",
      "unit_R139     745.6280    158.448      4.706      0.000       435.068  1056.188\n",
      "unit_R163    1540.6631    158.018      9.750      0.000      1230.944  1850.382\n",
      "unit_R172     106.7008    158.018      0.675      0.500      -203.018   416.420\n",
      "unit_R179    4987.4750    158.018     31.563      0.000      4677.756  5297.194\n",
      "unit_R181       0.5382    161.049      0.003      0.997      -315.120   316.197\n",
      "unit_R183    -896.2703    167.582     -5.348      0.000     -1224.735  -567.805\n",
      "unit_R184    -717.0810    165.213     -4.340      0.000     -1040.901  -393.261\n",
      "unit_R186    -693.5124    160.182     -4.330      0.000     -1007.471  -379.553\n",
      "unit_R188     542.5259    158.441      3.424      0.001       231.979   853.072\n",
      "unit_R189    -348.9268    161.948     -2.155      0.031      -666.347   -31.506\n",
      "unit_R194     231.1296    161.076      1.435      0.151       -84.583   546.842\n",
      "unit_R196    -446.4414    159.302     -2.802      0.005      -758.676  -134.206\n",
      "unit_R198     334.8946    158.870      2.108      0.035        23.506   646.283\n",
      "unit_R199   -1044.0764    161.059     -6.483      0.000     -1359.756  -728.397\n",
      "unit_R200    -660.2348    160.365     -4.117      0.000      -974.553  -345.916\n",
      "unit_R202     487.6281    159.227      3.062      0.002       175.539   799.717\n",
      "unit_R203      18.1149    162.862      0.111      0.911      -301.098   337.328\n",
      "unit_R204    -331.7992    158.018     -2.100      0.036      -641.518   -22.080\n",
      "unit_R205    -215.9067    160.114     -1.348      0.178      -529.732    97.919\n",
      "unit_R207     221.0161    158.449      1.395      0.163       -89.547   531.579\n",
      "unit_R208     792.4816    160.097      4.950      0.000       478.688  1106.275\n",
      "unit_R209    -921.9980    166.196     -5.548      0.000     -1247.745  -596.251\n",
      "unit_R210   -1212.3328    161.974     -7.485      0.000     -1529.805  -894.860\n",
      "unit_R211     625.6309    158.018      3.959      0.000       315.912   935.350\n",
      "unit_R212     -87.2122    158.443     -0.550      0.582      -397.764   223.339\n",
      "unit_R213    -595.0107    161.500     -3.684      0.000      -911.555  -278.467\n",
      "unit_R214   -1037.8117    166.701     -6.226      0.000     -1364.549  -711.074\n",
      "unit_R215    -177.3854    158.866     -1.117      0.264      -488.765   133.994\n",
      "unit_R216   -1008.8321    158.869     -6.350      0.000     -1320.218  -697.446\n",
      "unit_R217    -725.4787    166.212     -4.365      0.000     -1051.257  -399.700\n",
      "unit_R218     255.1070    158.814      1.606      0.108       -56.172   566.386\n",
      "unit_R219    -460.7126    159.242     -2.893      0.004      -772.831  -148.595\n",
      "unit_R220    -299.6433    158.018     -1.896      0.058      -609.363    10.076\n",
      "unit_R221    -301.2637    166.700     -1.807      0.071      -627.999    25.472\n",
      "unit_R223     394.9384    158.800      2.487      0.013        83.688   706.189\n",
      "unit_R224   -1006.0452    162.393     -6.195      0.000     -1324.338  -687.752\n",
      "unit_R225   -1198.2965    160.186     -7.481      0.000     -1512.264  -884.329\n",
      "unit_R226    -938.4687    165.655     -5.665      0.000     -1263.156  -613.782\n",
      "unit_R227    -680.3799    158.018     -4.306      0.000      -990.099  -370.661\n",
      "unit_R228    -646.1207    165.699     -3.899      0.000      -970.895  -321.347\n",
      "unit_R229   -1160.0517    164.752     -7.041      0.000     -1482.968  -837.135\n",
      "unit_R230   -1211.6544    162.875     -7.439      0.000     -1530.893  -892.415\n",
      "unit_R231    -794.4968    160.167     -4.960      0.000     -1108.427  -480.567\n",
      "unit_R232    -697.0725    164.256     -4.244      0.000     -1019.018  -375.127\n",
      "unit_R233    -610.2564    167.704     -3.639      0.000      -938.960  -281.552\n",
      "unit_R234   -1401.3083    166.231     -8.430      0.000     -1727.124 -1075.493\n",
      "unit_R235     797.7668    158.433      5.035      0.000       487.234  1108.299\n",
      "unit_R236    -186.2386    160.100     -1.163      0.245      -500.038   127.561\n",
      "unit_R237   -1028.2802    166.073     -6.192      0.000     -1353.786  -702.774\n",
      "unit_R238     377.2529    158.814      2.375      0.018        65.974   688.532\n",
      "unit_R239    -883.2186    158.018     -5.589      0.000     -1192.938  -573.499\n",
      "unit_R240     889.4764    159.298      5.584      0.000       577.250  1201.703\n",
      "unit_R242   -1192.7723    161.500     -7.386      0.000     -1509.315  -876.230\n",
      "unit_R243    -324.1882    164.198     -1.974      0.048      -646.019    -2.357\n",
      "unit_R244    -115.5781    164.139     -0.704      0.481      -437.294   206.137\n",
      "unit_R246   -1051.3153    165.743     -6.343      0.000     -1376.174  -726.456\n",
      "unit_R247   -1560.8871    168.724     -9.251      0.000     -1891.589 -1230.186\n",
      "unit_R248    1327.9577    158.448      8.381      0.000      1017.397  1638.518\n",
      "unit_R249    -393.9435    160.613     -2.453      0.014      -708.747   -79.140\n",
      "unit_R250    -776.0868    161.505     -4.805      0.000     -1092.640  -459.533\n",
      "unit_R251    -485.7976    159.283     -3.050      0.002      -797.996  -173.599\n",
      "unit_R252    -814.2588    158.866     -5.125      0.000     -1125.638  -502.879\n",
      "unit_R253   -1035.0024    164.742     -6.283      0.000     -1357.900  -712.105\n",
      "unit_R254     856.2071    158.808      5.391      0.000       544.939  1167.475\n",
      "unit_R255    -945.9535    160.372     -5.898      0.000     -1260.286  -631.621\n",
      "unit_R256    -719.4102    158.865     -4.528      0.000     -1030.789  -408.032\n",
      "unit_R257     103.9535    158.018      0.658      0.511      -205.766   413.673\n",
      "unit_R258    -247.6555    159.297     -1.555      0.120      -559.881    64.570\n",
      "unit_R259    -831.4842    160.603     -5.177      0.000     -1146.270  -516.698\n",
      "unit_R260    -691.2856    172.447     -4.009      0.000     -1029.285  -353.286\n",
      "unit_R261    -130.8305    162.338     -0.806      0.420      -449.017   187.356\n",
      "unit_R262   -1245.4322    168.732     -7.381      0.000     -1576.150  -914.714\n",
      "unit_R263   -1645.6351    161.504    -10.189      0.000     -1962.186 -1329.084\n",
      "unit_R264   -1313.5693    158.445     -8.290      0.000     -1624.124 -1003.015\n",
      "unit_R265    -843.5610    164.755     -5.120      0.000     -1166.485  -520.637\n",
      "unit_R266    -822.0113    158.803     -5.176      0.000     -1133.269  -510.753\n",
      "unit_R269    -889.1431    158.870     -5.597      0.000     -1200.531  -577.756\n",
      "unit_R270   -1244.0189    165.746     -7.506      0.000     -1568.883  -919.154\n",
      "unit_R271   -1378.8104    165.223     -8.345      0.000     -1702.651 -1054.970\n",
      "unit_R273    -415.2997    166.193     -2.499      0.012      -741.042   -89.557\n",
      "unit_R274    -813.6619    164.284     -4.953      0.000     -1135.661  -491.662\n",
      "unit_R275    -814.5262    162.397     -5.016      0.000     -1132.827  -496.225\n",
      "unit_R276    -373.5089    158.018     -2.364      0.018      -683.228   -63.790\n",
      "unit_R277   -1250.9524    170.321     -7.345      0.000     -1584.785  -917.119\n",
      "unit_R278   -1380.5325    164.749     -8.380      0.000     -1703.444 -1057.621\n",
      "unit_R279    -942.0067    161.462     -5.834      0.000     -1258.476  -625.538\n",
      "unit_R280   -1086.7505    169.214     -6.422      0.000     -1418.414  -755.087\n",
      "unit_R281    -484.5532    160.590     -3.017      0.003      -799.312  -169.794\n",
      "unit_R282    -194.0252    158.878     -1.221      0.222      -505.429   117.379\n",
      "unit_R284   -1005.8621    158.866     -6.332      0.000     -1317.242  -694.482\n",
      "unit_R285   -1102.0862    167.323     -6.587      0.000     -1430.043  -774.129\n",
      "unit_R287   -1155.4611    167.220     -6.910      0.000     -1483.215  -827.708\n",
      "unit_R291      19.7223    158.018      0.125      0.901      -289.997   329.441\n",
      "unit_R294    -823.3959    161.971     -5.084      0.000     -1140.863  -505.929\n",
      "unit_R295   -1125.7737    183.629     -6.131      0.000     -1485.691  -765.857\n",
      "unit_R300     428.7868    158.018      2.714      0.007       119.068   738.506\n",
      "unit_R303    -541.3742    160.614     -3.371      0.001      -856.181  -226.567\n",
      "unit_R304    -706.3970    158.870     -4.446      0.000     -1017.785  -395.009\n",
      "unit_R307   -1341.8708    167.612     -8.006      0.000     -1670.394 -1013.348\n",
      "unit_R308    -912.7654    164.224     -5.558      0.000     -1234.648  -590.883\n",
      "unit_R309    -920.1197    163.754     -5.619      0.000     -1241.081  -599.158\n",
      "unit_R310    -396.2365    165.598     -2.393      0.017      -720.812   -71.661\n",
      "unit_R311   -1367.5057    162.894     -8.395      0.000     -1686.782 -1048.230\n",
      "unit_R312   -1448.1703    159.299     -9.091      0.000     -1760.400 -1135.941\n",
      "unit_R313   -1627.9255    168.118     -9.683      0.000     -1957.440 -1298.411\n",
      "unit_R318   -1237.8764    159.733     -7.750      0.000     -1550.957  -924.796\n",
      "unit_R319    -428.3439    161.050     -2.660      0.008      -744.004  -112.684\n",
      "unit_R321    -708.6164    158.018     -4.484      0.000     -1018.336  -398.897\n",
      "unit_R322     -11.6476    161.061     -0.072      0.942      -327.331   304.036\n",
      "unit_R323    -479.2287    164.263     -2.917      0.004      -801.188  -157.270\n",
      "unit_R325   -1382.0022    163.348     -8.460      0.000     -1702.167 -1061.838\n",
      "unit_R330    -790.1743    161.969     -4.879      0.000     -1107.636  -472.712\n",
      "unit_R335   -1298.3878    168.821     -7.691      0.000     -1629.281  -967.494\n",
      "unit_R336   -1686.3556    168.886     -9.985      0.000     -2017.376 -1355.335\n",
      "unit_R337   -1637.2920    166.862     -9.812      0.000     -1964.346 -1310.238\n",
      "unit_R338   -1780.9910    164.004    -10.859      0.000     -2102.441 -1459.541\n",
      "unit_R341   -1231.9355    159.927     -7.703      0.000     -1545.396  -918.475\n",
      "unit_R344   -1308.0714    168.188     -7.777      0.000     -1637.724  -978.419\n",
      "unit_R345   -1307.4108    162.891     -8.026      0.000     -1626.680  -988.141\n",
      "unit_R346    -528.3729    163.344     -3.235      0.001      -848.530  -208.216\n",
      "unit_R348   -1593.8687    163.715     -9.736      0.000     -1914.753 -1272.984\n",
      "unit_R354   -1527.0586    167.298     -9.128      0.000     -1854.966 -1199.151\n",
      "unit_R356    -648.7214    163.117     -3.977      0.000      -968.435  -329.008\n",
      "unit_R358   -1489.7295    167.277     -8.906      0.000     -1817.595 -1161.864\n",
      "unit_R370   -1297.8790    162.400     -7.992      0.000     -1616.186  -979.572\n",
      "unit_R371   -1074.9639    164.258     -6.544      0.000     -1396.913  -753.015\n",
      "unit_R372   -1053.5677    165.717     -6.358      0.000     -1378.375  -728.760\n",
      "unit_R373   -1157.0298    166.185     -6.962      0.000     -1482.755  -831.304\n",
      "unit_R382    -827.6949    162.568     -5.091      0.000     -1146.331  -509.059\n",
      "unit_R424   -1398.1502    167.709     -8.337      0.000     -1726.864 -1069.437\n",
      "unit_R429    -746.7855    159.656     -4.677      0.000     -1059.714  -433.857\n",
      "unit_R453     -24.1146    169.238     -0.142      0.887      -355.824   307.595\n",
      "unit_R454   -1667.4599    166.698    -10.003      0.000     -1994.192 -1340.728\n",
      "unit_R455   -1720.0467    166.246    -10.346      0.000     -2045.893 -1394.201\n",
      "unit_R456   -1565.8376    161.976     -9.667      0.000     -1883.314 -1248.361\n",
      "unit_R459   -1776.2965    229.866     -7.728      0.000     -2226.838 -1325.755\n",
      "unit_R464   -1829.4884    166.282    -11.002      0.000     -2155.404 -1503.573\n",
      "==============================================================================\n",
      "Omnibus:                    27414.350   Durbin-Watson:                   1.573\n",
      "Prob(Omnibus):                  0.000   Jarque-Bera (JB):           792032.804\n",
      "Skew:                           2.644   Prob(JB):                         0.00\n",
      "Kurtosis:                      23.439   Cond. No.                     2.30e+16\n",
      "==============================================================================\n",
      "\n",
      "Warnings:\n",
      "[1] Standard Errors assume that the covariance matrix of the errors is correctly specified.\n",
      "[2] The smallest eigenvalue is 1.56e-26. This might indicate that there are\n",
      "strong multicollinearity problems or that the design matrix is singular.\n"
     ]
    },
    {
     "data": {
      "text/html": [
       "<div>\n",
       "<table border=\"1\" class=\"dataframe\">\n",
       "  <thead>\n",
       "    <tr style=\"text-align: right;\">\n",
       "      <th></th>\n",
       "      <th>meanprecipi</th>\n",
       "      <th>rain</th>\n",
       "      <th>hour</th>\n",
       "      <th>day_week</th>\n",
       "      <th>meanwspdi</th>\n",
       "      <th>unit_R003</th>\n",
       "      <th>unit_R004</th>\n",
       "      <th>unit_R005</th>\n",
       "      <th>unit_R006</th>\n",
       "      <th>unit_R007</th>\n",
       "      <th>...</th>\n",
       "      <th>unit_R373</th>\n",
       "      <th>unit_R382</th>\n",
       "      <th>unit_R424</th>\n",
       "      <th>unit_R429</th>\n",
       "      <th>unit_R453</th>\n",
       "      <th>unit_R454</th>\n",
       "      <th>unit_R455</th>\n",
       "      <th>unit_R456</th>\n",
       "      <th>unit_R459</th>\n",
       "      <th>unit_R464</th>\n",
       "    </tr>\n",
       "  </thead>\n",
       "  <tbody>\n",
       "    <tr>\n",
       "      <th>0</th>\n",
       "      <td>0</td>\n",
       "      <td>0</td>\n",
       "      <td>0</td>\n",
       "      <td>6</td>\n",
       "      <td>7.86</td>\n",
       "      <td>1</td>\n",
       "      <td>0</td>\n",
       "      <td>0</td>\n",
       "      <td>0</td>\n",
       "      <td>0</td>\n",
       "      <td>...</td>\n",
       "      <td>0</td>\n",
       "      <td>0</td>\n",
       "      <td>0</td>\n",
       "      <td>0</td>\n",
       "      <td>0</td>\n",
       "      <td>0</td>\n",
       "      <td>0</td>\n",
       "      <td>0</td>\n",
       "      <td>0</td>\n",
       "      <td>0</td>\n",
       "    </tr>\n",
       "    <tr>\n",
       "      <th>1</th>\n",
       "      <td>0</td>\n",
       "      <td>0</td>\n",
       "      <td>4</td>\n",
       "      <td>6</td>\n",
       "      <td>7.86</td>\n",
       "      <td>1</td>\n",
       "      <td>0</td>\n",
       "      <td>0</td>\n",
       "      <td>0</td>\n",
       "      <td>0</td>\n",
       "      <td>...</td>\n",
       "      <td>0</td>\n",
       "      <td>0</td>\n",
       "      <td>0</td>\n",
       "      <td>0</td>\n",
       "      <td>0</td>\n",
       "      <td>0</td>\n",
       "      <td>0</td>\n",
       "      <td>0</td>\n",
       "      <td>0</td>\n",
       "      <td>0</td>\n",
       "    </tr>\n",
       "  </tbody>\n",
       "</table>\n",
       "<p>2 rows × 245 columns</p>\n",
       "</div>"
      ],
      "text/plain": [
       "   meanprecipi  rain  hour  day_week  meanwspdi  unit_R003  unit_R004  \\\n",
       "0            0     0     0         6       7.86          1          0   \n",
       "1            0     0     4         6       7.86          1          0   \n",
       "\n",
       "   unit_R005  unit_R006  unit_R007    ...      unit_R373  unit_R382  \\\n",
       "0          0          0          0    ...              0          0   \n",
       "1          0          0          0    ...              0          0   \n",
       "\n",
       "   unit_R424  unit_R429  unit_R453  unit_R454  unit_R455  unit_R456  \\\n",
       "0          0          0          0          0          0          0   \n",
       "1          0          0          0          0          0          0   \n",
       "\n",
       "   unit_R459  unit_R464  \n",
       "0          0          0  \n",
       "1          0          0  \n",
       "\n",
       "[2 rows x 245 columns]"
      ]
     },
     "execution_count": 145,
     "metadata": {},
     "output_type": "execute_result"
    }
   ],
   "source": [
    "values  = df['ENTRIESn_hourly']\n",
    "#features = df[[\"meanprecipi\",\"rain\",\"tempi\",\"hour\",\"day_week\"]]\n",
    "#features = df[[\"meanprecipi\",\"rain\",\"hour\",\"day_week\"]]\n",
    "features = df[[\"meanprecipi\",\"rain\",\"hour\",\"day_week\",\"meanwspdi\"]]\n",
    "\n",
    "dummy_units = pd.get_dummies(df['UNIT'], prefix='unit')\n",
    "features = features.join(dummy_units)\n",
    "\n",
    "Y = values\n",
    "X = features\n",
    "X = sm.add_constant(X)\n",
    "model = sm.OLS(Y,X)\n",
    "results = model.fit()\n",
    "intercept =  results.params[0]\n",
    "params = results.params\n",
    "\n",
    "intercept, params\n",
    "\n",
    "print results.summary()\n",
    "predictions = intercept + np.dot(features, params[1:])"
   ]
  },
  {
   "cell_type": "markdown",
   "metadata": {},
   "source": [
    "### Residual Q-Q Plot"
   ]
  },
  {
   "cell_type": "code",
   "execution_count": 131,
   "metadata": {
    "collapsed": false
   },
   "outputs": [
    {
     "data": {
      "image/png": "[encoded data removed]",
      "text/plain": [
       "<matplotlib.figure.Figure at 0x7fed76aeb290>"
      ]
     },
     "metadata": {},
     "output_type": "display_data"
    }
   ],
   "source": [
    "stats.probplot(residuals, dist=\"norm\", plot=pylab)\n",
    "pylab.title('Q-Q Plot for Residuals')\n",
    "pylab.show()"
   ]
  },
  {
   "cell_type": "markdown",
   "metadata": {},
   "source": [
    "These plots aren’t evenly distributed vertically, or they have an outlier, or they have a clear shape to them.\n",
    "\n",
    "If you can detect a clear pattern or trend in your residuals, then your model has room for improvement."
   ]
  },
  {
   "cell_type": "markdown",
   "metadata": {},
   "source": [
    "### 2.2 What features (input variables) did you use in your model? "
   ]
  },
  {
   "cell_type": "code",
   "execution_count": 27,
   "metadata": {
    "collapsed": false,
    "scrolled": true
   },
   "outputs": [
    {
     "data": {
      "text/plain": [
       "const          1066.426238\n",
       "meanprecipi     987.886208\n",
       "rain            112.614241\n",
       "hour            123.319458\n",
       "day_week       -145.869128\n",
       "meanwspdi       -10.731987\n",
       "dtype: float64"
      ]
     },
     "execution_count": 27,
     "metadata": {},
     "output_type": "execute_result"
    }
   ],
   "source": [
    "results.params[:6]"
   ]
  },
  {
   "cell_type": "markdown",
   "metadata": {},
   "source": [
    "### Did you use any dummy variables as part of your features? \n",
    "Yes.  Hourly entries are associated to a turnstyle which can be located in a heavy populated area to a less populated area of New York.  Units in highly populated areas will be more popular, have more hourly entries than other units. \n",
    "\n",
    "So using the turnstyles as dummy variables one is able to make better predications.\n",
    "\n",
    "A dummy variable is a categorical variable [in one column] which is converted into dummy/indicator variables.  What we do is transform or pivot the categorical variable from one column into man columns and the value in the column is either a 1 or 0 to inidicate if a row from this sample contains this dummy/indicator variable.\n",
    "\n",
    "We used Unit, which is smaller than Station.  So using station probably will not improve the R2.\n",
    "\n",
    "Example:"
   ]
  },
  {
   "cell_type": "code",
   "execution_count": 28,
   "metadata": {
    "collapsed": false
   },
   "outputs": [
    {
     "data": {
      "text/plain": [
       "unit_R004   -1259.291608\n",
       "unit_R005   -1259.284160\n",
       "unit_R006   -1145.479635\n",
       "dtype: float64"
      ]
     },
     "execution_count": 28,
     "metadata": {},
     "output_type": "execute_result"
    }
   ],
   "source": [
    "results.params[7:10]"
   ]
  },
  {
   "cell_type": "markdown",
   "metadata": {},
   "source": [
    "\n",
    "### 2.3 Why did you select these features in your model? \n",
    "\n",
    "We are looking for specific reasons that lead you to believe that the selected features will contribute to the predictive power of your model. Your reasons might be based on intuition. For example, response for fog might be: “I decided to use fog because I thought that when it is very foggy outside people might decide to use the subway more often.” Your reasons might also be based on data exploration and experimentation, for example: “I used feature X because as soon as I included it in my model, it drastically improved my R2 value.”"
   ]
  },
  {
   "cell_type": "markdown",
   "metadata": {},
   "source": [
    "### 2.4 What are the parameters (also known as \"coefficients\" or \"weights\") of the non-dummy features in your linear regression model? "
   ]
  },
  {
   "cell_type": "code",
   "execution_count": 29,
   "metadata": {
    "collapsed": false
   },
   "outputs": [
    {
     "data": {
      "text/plain": [
       "const          1066.426238\n",
       "meanprecipi     987.886208\n",
       "rain            112.614241\n",
       "hour            123.319458\n",
       "day_week       -145.869128\n",
       "meanwspdi       -10.731987\n",
       "dtype: float64"
      ]
     },
     "execution_count": 29,
     "metadata": {},
     "output_type": "execute_result"
    }
   ],
   "source": [
    "results.params[:6]"
   ]
  },
  {
   "cell_type": "markdown",
   "metadata": {},
   "source": [
    "### 2.5 What is your model’s R2 (coefficients of determination) value?"
   ]
  },
  {
   "cell_type": "code",
   "execution_count": 30,
   "metadata": {
    "collapsed": false
   },
   "outputs": [
    {
     "name": "stdout",
     "output_type": "stream",
     "text": [
      "0.469380561687\n"
     ]
    }
   ],
   "source": [
    "SST = ((df['ENTRIESn_hourly']-np.mean(df['ENTRIESn_hourly']))**2).sum()\n",
    "SSReg = ((predictions-df['ENTRIESn_hourly'])**2).sum()\n",
    "r_squared = 1 - (SSReg/SST)\n",
    "print r_squared"
   ]
  },
  {
   "cell_type": "markdown",
   "metadata": {},
   "source": [
    "### 2.6 What does this R2 value mean for the goodness of fit for your regression model?\n",
    "Our model can be improved and/or is missing a feature (review the Predications vs Actual, and Predications vs Residuals)\n",
    "\n",
    "\n",
    "meanprecipi     987.886208   \n",
    "rain            112.614241   \n",
    "\n",
    "\n",
    "both positive vaules, meaning our riders / houlr enties go up when it rains.\n",
    "\n",
    "\n",
    "Additional Considerations:\n",
    "OLS is guarantteed to find the optimal solution, where as Gradient Descent is not.   The closer your model is to 1 the better the model.   Our model seems to be not linear.\n",
    "\n",
    "- Parameter Estimation:\n",
    "\n",
    "What are the Confidence Intervals of the parameters?\n",
    "What is the likely hood w\n",
    "e would calculate this parameter value if the parameter had no effect on our output variable.\n",
    "\n",
    "- Over and Under Fitting\n",
    "\n",
    "###  Do you think this linear model to predict ridership is appropriate for this dataset, given this R2 value?\n",
    "No.  OLS\n"
   ]
  },
  {
   "cell_type": "markdown",
   "metadata": {},
   "source": [
    "### Residual Plot - Histogram\n",
    "\n",
    "Your residuals plot is useful evidence for your linear regression model being appropriate, but\n",
    "it is not the only consideration. To go further, you could plot residuals against predicted values\n",
    "to look for more pattern detail. This would be beyond the scope of the course. I actually don’t\n",
    "think that the residuals shown are normally distributed, though they do look reasonably\n",
    "symmetric."
   ]
  },
  {
   "cell_type": "code",
   "execution_count": 212,
   "metadata": {
    "collapsed": false,
    "scrolled": true
   },
   "outputs": [
    {
     "data": {
      "text/plain": [
       "<matplotlib.text.Text at 0x7fed439fbc50>"
      ]
     },
     "execution_count": 212,
     "metadata": {},
     "output_type": "execute_result"
    },
    {
     "data": {
      "image/png": "[encoded data removed]",
      "text/plain": [
       "<matplotlib.figure.Figure at 0x7fed4aa6fd90>"
      ]
     },
     "metadata": {},
     "output_type": "display_data"
    }
   ],
   "source": [
    "residuals = df['ENTRIESn_hourly'] - predictions\n",
    "plt.figure()\n",
    "residuals.hist(bins=1000,alpha=0.5)\n",
    "plt.title(r'Histogram of (ENTRIESn_hourly - predictions)')\n",
    "plt.xlabel('Residuals')\n",
    "plt.ylabel('Freqeuncy')"
   ]
  },
  {
   "cell_type": "code",
   "execution_count": 206,
   "metadata": {
    "collapsed": false
   },
   "outputs": [
    {
     "data": {
      "image/png": "[encoded data removed]",
      "text/plain": [
       "<matplotlib.figure.Figure at 0x7fed4ad09b50>"
      ]
     },
     "metadata": {},
     "output_type": "display_data"
    }
   ],
   "source": [
    "'''\n",
    "http://docs.statwing.com/interpreting-residual-plots-to-improve-your-regression/\n",
    "'''\n",
    "# create a dataframe of the actual, predications and residuals\n",
    "pd.options.mode.chained_assignment = None\n",
    "comparison = df[['UNIT', 'datetime','ENTRIESn_hourly' ]]\n",
    "comparison['predictions'] = predictions\n",
    "comparison['residuals'] = comparison['ENTRIESn_hourly'] - comparison['predictions']\n",
    "a = plt.scatter(x=comparison['predictions'], y=comparison['residuals'], color='blue', alpha=0.25)\n",
    "plt.xlabel(\"Predictions\")\n",
    "plt.ylabel(\"Residuals\")\n",
    "plt.title(\"Predications vs Residiual\")\n",
    "plt.legend()"
   ]
  },
  {
   "cell_type": "code",
   "execution_count": 207,
   "metadata": {
    "collapsed": false
   },
   "outputs": [
    {
     "data": {
      "image/png": "[encoded data removed]",
      "text/plain": [
       "<matplotlib.figure.Figure at 0x7fed4ac57890>"
      ]
     },
     "metadata": {},
     "output_type": "display_data"
    }
   ],
   "source": [
    "'''\n",
    "http://docs.statwing.com/interpreting-residual-plots-to-improve-your-regression/\n",
    "'''\n",
    "# create a dataframe of the actual, predications and residuals\n",
    "pd.options.mode.chained_assignment = None\n",
    "comparison = df[['UNIT', 'datetime','ENTRIESn_hourly' ]]\n",
    "comparison['predictions'] = predictions\n",
    "comparison['residuals'] = comparison['ENTRIESn_hourly'] - comparison['predictions']\n",
    "#p = plt.scatter(x=comparison.index.values, y=comparison['predictions'], alpha=0.15,label='Predictions', color='red')\n",
    "#r = plt.scatter(x=comparison.index.values, y=comparison['residuals'], alpha=0.15,label='Residuals',color='green')\n",
    "a = plt.scatter(x=comparison['predictions'], y=comparison['ENTRIESn_hourly'], color='red', alpha=0.25)\n",
    "#plt.plot(meansByChopstickLength['Chopstick.Length'], m*meansByChopstickLength['Chopstick.Length'] + b, '-')\n",
    "plt.xlabel(\"Predictions\")\n",
    "plt.ylabel(\"ACTUAL\")\n",
    "plt.title(\"Predications vs Actual\")\n",
    "plt.legend()"
   ]
  },
  {
   "cell_type": "markdown",
   "metadata": {},
   "source": [
    "## Section 3. Visualization\n",
    "\n",
    "Please include two visualizations that show the relationships between two or more variables in the NYC subway data.  \n",
    "\n",
    "Remember to add appropriate titles and axes labels to your plots. Also, please add a short description below each figure commenting on the key insights depicted in the figure.\n",
    "\n"
   ]
  },
  {
   "cell_type": "code",
   "execution_count": 74,
   "metadata": {
    "collapsed": false
   },
   "outputs": [
    {
     "data": {
      "text/plain": [
       "count        207.000000\n",
       "mean      388701.328502\n",
       "std       457501.301121\n",
       "min            0.000000\n",
       "25%       140102.000000\n",
       "50%       225183.000000\n",
       "75%       473735.000000\n",
       "max      2920887.000000\n",
       "Name: ENTRIESn_hourly, dtype: float64"
      ]
     },
     "execution_count": 74,
     "metadata": {},
     "output_type": "execute_result"
    }
   ],
   "source": [
    "station_totals = df.groupby('station')\n",
    "st = station_totals.ENTRIESn_hourly.sum()\n",
    "st.describe()\n",
    "#plt.figure()\n",
    "#plt.bar(data=st,x=st['station'], y=st['ENTRIESn_hourly'])"
   ]
  },
  {
   "cell_type": "markdown",
   "metadata": {},
   "source": [
    "### 3.1 One visualization should contain two histograms: one of  ENTRIESn_hourly for rainy days and one of ENTRIESn_hourly for non-rainy days."
   ]
  },
  {
   "cell_type": "code",
   "execution_count": 76,
   "metadata": {
    "collapsed": false
   },
   "outputs": [
    {
     "data": {
      "text/plain": [
       "<matplotlib.text.Text at 0x7fed78847a50>"
      ]
     },
     "execution_count": 76,
     "metadata": {},
     "output_type": "execute_result"
    },
    {
     "data": {
      "image/png": "[encoded data removed]",
      "text/plain": [
       "<matplotlib.figure.Figure at 0x7fed76eead50>"
      ]
     },
     "metadata": {},
     "output_type": "display_data"
    }
   ],
   "source": [
    "plt.figure()\n",
    "#bins\n",
    "binSize = 250\n",
    "# your code here to plot a historgram for hourly entries when it is not raining\n",
    "norain['ENTRIESn_hourly'].hist(color='blue', label='No Rain', bins=binSize,alpha=0.75)\n",
    "# your code here to plot a historgram for hourly entries when it is raining\n",
    "rain['ENTRIESn_hourly'].hist(color='green',label='Rain',bins=binSize)\n",
    "plt.legend()\n",
    "plt.title(r'Histogram of ENTRIESn_hourly')\n",
    "plt.xlabel('ENTRIESn_hourly')\n",
    "plt.xlim(0,6000)\n",
    "plt.ylabel('Freqeuncy')\n"
   ]
  },
  {
   "cell_type": "markdown",
   "metadata": {},
   "source": [
    "Does the data seem normally distributed?    \n",
    "NO\n",
    "\n",
    "Do you think we would be able to use Welch's t-test on this data?  \n",
    "No.  The data is not normally distributed."
   ]
  },
  {
   "cell_type": "markdown",
   "metadata": {},
   "source": [
    "## 3.2 One visualization can be more freeform. \n",
    "\n",
    "You should feel free to implement something that we discussed in class (e.g., scatter plots, line plots) or attempt to implement something more advanced if you'd like. Some suggestions are:\n",
    "Ridership by time-of-day\n",
    "Ridership by day-of-week\n",
    "\n",
    "Do people ride more on the weekend....?"
   ]
  },
  {
   "cell_type": "code",
   "execution_count": 246,
   "metadata": {
    "collapsed": false
   },
   "outputs": [
    {
     "data": {
      "text/html": [
       "<div>\n",
       "<table border=\"1\" class=\"dataframe\">\n",
       "  <thead>\n",
       "    <tr style=\"text-align: right;\">\n",
       "      <th></th>\n",
       "      <th>hour</th>\n",
       "      <th>ENTRIESn_hourly</th>\n",
       "    </tr>\n",
       "  </thead>\n",
       "  <tbody>\n",
       "    <tr>\n",
       "      <th>0</th>\n",
       "      <td>0</td>\n",
       "      <td>10353167</td>\n",
       "    </tr>\n",
       "    <tr>\n",
       "      <th>1</th>\n",
       "      <td>4</td>\n",
       "      <td>2300788</td>\n",
       "    </tr>\n",
       "    <tr>\n",
       "      <th>2</th>\n",
       "      <td>8</td>\n",
       "      <td>5198583</td>\n",
       "    </tr>\n",
       "    <tr>\n",
       "      <th>3</th>\n",
       "      <td>12</td>\n",
       "      <td>22085316</td>\n",
       "    </tr>\n",
       "    <tr>\n",
       "      <th>4</th>\n",
       "      <td>16</td>\n",
       "      <td>16833040</td>\n",
       "    </tr>\n",
       "    <tr>\n",
       "      <th>5</th>\n",
       "      <td>20</td>\n",
       "      <td>23690281</td>\n",
       "    </tr>\n",
       "  </tbody>\n",
       "</table>\n",
       "</div>"
      ],
      "text/plain": [
       "   hour  ENTRIESn_hourly\n",
       "0     0         10353167\n",
       "1     4          2300788\n",
       "2     8          5198583\n",
       "3    12         22085316\n",
       "4    16         16833040\n",
       "5    20         23690281"
      ]
     },
     "execution_count": 246,
     "metadata": {},
     "output_type": "execute_result"
    },
    {
     "data": {
      "image/png": "[encoded data removed]",
      "text/plain": [
       "<matplotlib.figure.Figure at 0x7fed34925f50>"
      ]
     },
     "metadata": {},
     "output_type": "display_data"
    }
   ],
   "source": [
    "#UNIT\tDATEn\tTIMEn\tENTRIESn\tEXITSn\tENTRIESn_hourly\tEXITSn_hourly\tdatetime\thour\tday_week\t...\tpressurei\train\ttempi\twspdi\tmeanprecipi\tmeanpressurei\tmeantempi\tmeanwspdi\tweather_lat\tweather_lon\n",
    "totals = df.groupby('hour')\n",
    "t = totals.ENTRIESn_hourly.sum().reset_index()\n",
    "plt.scatter(x=t['hour'],y=t['ENTRIESn_hourly'])\n",
    "#plt.figure()\n",
    "#plt.bar(t,x=t['hour'], y=t['ENTRIESn_hourly'])\n",
    "t"
   ]
  },
  {
   "cell_type": "markdown",
   "metadata": {},
   "source": [
    "## Section 4. Conclusion\n",
    "\n",
    "Please address the following questions in detail. Your answers should be 1-2 paragraphs long."
   ]
  },
  {
   "cell_type": "markdown",
   "metadata": {},
   "source": [
    "### 4.1 From your analysis and interpretation of the data, do more people ride the NYC subway when it is raining or when it is not raining?\n",
    "\n",
    "People do ride the subway more when it is raining based on the above analysis."
   ]
  },
  {
   "cell_type": "markdown",
   "metadata": {},
   "source": [
    "### 4.2 What analyses lead you to this conclusion? You should use results from both your statistical tests and your linear regression to support your analysis."
   ]
  },
  {
   "cell_type": "markdown",
   "metadata": {},
   "source": [
    "## Section 5. Reflection\n",
    "One to Two paragrapsh."
   ]
  },
  {
   "cell_type": "markdown",
   "metadata": {},
   "source": [
    "### 5.1 Please discuss potential shortcomings of the methods of your analysis, including: \n",
    "\n",
    "#### Dataset\n",
    "\n",
    "The dataset is not normally distributed.  We can see from the box plot there are a large amount of outliers in the dataset.   \n",
    "\n",
    "The dataset sample contains only one month of data.  Typically travel on the subway may change month to month \n",
    "\n",
    "####  Analysis, such as the linear regression model or statistical test."
   ]
  },
  {
   "cell_type": "markdown",
   "metadata": {},
   "source": [
    "### 5.2 (Optional) Do you have any other insight about the dataset that you would like to share with us?"
   ]
  },
  {
   "cell_type": "markdown",
   "metadata": {},
   "source": [
    "# Referenecs\n",
    "\n",
    "Python 3.4.2 Documentation     \n",
    "Retrieved from https://docs.python.org/\n",
    "\n",
    "ggplot from yhat   \n",
    "Retrieved from http://ggplot.yhathq.com/\n",
    "\n",
    "SciPy.org    \n",
    "Retrieved from http://scipy.org/\n",
    "\n",
    "Engineering Statistics    \n",
    "Retrieved from http://www.itl.nist.gov/div898/handbook/\n",
    "\n",
    "5.2.4.  Are the model residuals well-behaved? [Blog Post]   \n",
    "Retrieved from http://www.itl.nist.gov/div898/handbook/pri/section2/pri24.htm\n",
    "\n",
    "The Minitab Blog What Is the Difference between Linear and Nonlinear Equations in Regression Analysis? [Blog Post]  \n",
    "Retrieved from http://blog.minitab.com/blog/adventures-in-statistics \n",
    "\n",
    "The Minitab Blog Regression Analysis how do I interpret R Squared and assess the goodness of fit. [Blog Post]  \n",
    "Retrieved from http://blog.minitab.com/blog/adventures-in-statistics/regression-analysis-how-do-i-interpret-r-squared-and-assess-the-goodness-of-fit\n",
    "\n",
    "What are the differences between one-tailed and two-tailed tests? [Blog Post]   \n",
    "Retrieved from http://www.ats.ucla.edu/stat/mult_pkg/faq/general/tail_tests.htm\n",
    "\n",
    "Dummy Variables [Wiki Post]   \n",
    "Retrieved from http://en.wikipedia.org/wiki/Dummy_variable_(statistics) \n",
    "\n",
    "Mann-Whitney U Test using SPSS [Blog Post]   \n",
    "Retrieved from https://statistics.laerd.com/spss-tutorials/mann-whitney-u-test-using-spss-statistics.phpRegression \n",
    "\n",
    "Independent T-Test for Two Samples [Blog Post]   \n",
    "Retrieved from https://statistics.laerd.com/statistical-guides/independent-t-test-statistical-guide.php\n",
    "\n",
    "Analysis – How to Interpret the Constant Y Intercept [Blog Post]   \n",
    "Retrieved from http://blog.minitab.com/blog/adventures-in-statistics/regression-analysis-how-to-interpret-the-constant-y-intercept \n",
    "\n",
    "Coding in the Rain [Blog Post]   \n",
    "Retrieved From http://drjasondavis.com/2013/07/08/coding-in-the-rain/ \n",
    "\n",
    "Mann-Whitney U Test using SPSS  \n",
    "Retrieved From https://statistics.laerd.com/spss-tutorials/mann-whitney-u-test-using-spss-statistics.php\n"
   ]
  },
  {
   "cell_type": "code",
   "execution_count": null,
   "metadata": {
    "collapsed": true
   },
   "outputs": [],
   "source": []
  }
 ],
 "metadata": {
  "kernelspec": {
   "display_name": "Python 2",
   "language": "python",
   "name": "python2"
  },
  "language_info": {
   "codemirror_mode": {
    "name": "ipython",
    "version": 2
   },
   "file_extension": ".py",
   "mimetype": "text/x-python",
   "name": "python",
   "nbconvert_exporter": "python",
   "pygments_lexer": "ipython2",
   "version": "2.7.10"
  }
 },
 "nbformat": 4,
 "nbformat_minor": 0
}
