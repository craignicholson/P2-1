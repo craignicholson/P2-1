{
 "cells": [
  {
   "cell_type": "markdown",
   "metadata": {},
   "source": [
    "# Analyzing the NYC Subway Dataset\n",
    "\n",
    "Craig Nicholson\n",
    "September 9th 2015\n",
    "\n",
    "In this notebook, we will review look the NYC Subway data and determine if more people ride the subway when it is raining versus when it is not raining."
   ]
  },
  {
   "cell_type": "markdown",
   "metadata": {},
   "source": [
    "## Imports"
   ]
  },
  {
   "cell_type": "code",
   "execution_count": 1,
   "metadata": {
    "collapsed": false
   },
   "outputs": [],
   "source": [
    "import pandas as pd\n",
    "import numpy as np\n",
    "import scipy.stats as stats\n",
    "import statsmodels.api as sm\n",
    "import matplotlib.pyplot as plt\n",
    "from scipy.stats import ttest_ind\n",
    "from sklearn.linear_model import SGDRegressor"
   ]
  },
  {
   "cell_type": "code",
   "execution_count": 2,
   "metadata": {
    "collapsed": false
   },
   "outputs": [
    {
     "name": "stdout",
     "output_type": "stream",
     "text": [
      "Populating the interactive namespace from numpy and matplotlib\n"
     ]
    }
   ],
   "source": [
    "# display plot within the notebook rather than a new window\n",
    "%pylab inline\n"
   ]
  },
  {
   "cell_type": "markdown",
   "metadata": {},
   "source": [
    "## Load the Data"
   ]
  },
  {
   "cell_type": "code",
   "execution_count": 3,
   "metadata": {
    "collapsed": false
   },
   "outputs": [],
   "source": [
    "# load the stroopdata.csv\n",
    "path = '~/Downloads/P2-1/turnstile_weather_v2.csv'\n",
    "df = pd.read_csv(path)"
   ]
  },
  {
   "cell_type": "code",
   "execution_count": 4,
   "metadata": {
    "collapsed": false
   },
   "outputs": [],
   "source": [
    "# fetch two samples, the one with rain and the one without rain\n",
    "# 1 = rain, 0 = no rain for the entry\n",
    "# reset the indexes since we have new dataframes\n",
    "rain = df[df['rain']==1].reset_index()\n",
    "norain =  df[df['rain']==0].reset_index()"
   ]
  },
  {
   "cell_type": "markdown",
   "metadata": {},
   "source": [
    "## Calculations"
   ]
  },
  {
   "cell_type": "code",
   "execution_count": 5,
   "metadata": {
    "collapsed": false
   },
   "outputs": [
    {
     "name": "stdout",
     "output_type": "stream",
     "text": [
      "Mann-Whitney U test \n",
      "U statistic: 153635120.500 \n",
      "p-value (1 sided): 0.000002741\n",
      "p-value (2-sided): 0.000005482\n"
     ]
    }
   ],
   "source": [
    "'''\n",
    " The Mann-Whitney U test is used to compare differences between two independent groups \n",
    " when the dependent variable is either ordinal or continuous, but not normally distributed. \n",
    " \n",
    " Returns The Mann-Whitney statistics, p-value (one sided)\n",
    " Mann-Whitney U is significant if the u-obtained is LESS THAN or equal to the critical value of U\n",
    " \n",
    " Hard to figure out U critical value\n",
    " http://www.real-statistics.com/statistics-tables/mann-whitney-table/\n",
    " http://sphweb.bumc.bu.edu/otlt/MPH-Modules/BS/BS704_Nonparametric/BS704_Nonparametric4.html\n",
    " \n",
    " Mann-Whitney U test can be applied on unknown distributions contrary to t-test which has to be applied \n",
    " only on normal distributions, and it is nearly as efficient as the t-test on normal distributions.\n",
    " \n",
    " https://en.wikipedia.org/wiki/Mann%E2%80%93Whitney_U_test\n",
    "'''\n",
    "u_statistic, mannwhitney_p_value = stats.mannwhitneyu(rain['ENTRIESn_hourly'], norain['ENTRIESn_hourly']\n",
    "                                                      , use_continuity=True)\n",
    "print 'Mann-Whitney U test \\nU statistic: %.3f \\np-value (1 sided): %.9f\\np-value (2-sided): %.9f' % (u_statistic, mannwhitney_p_value, 2*mannwhitney_p_value)"
   ]
  },
  {
   "cell_type": "code",
   "execution_count": 6,
   "metadata": {
    "collapsed": false,
    "scrolled": true
   },
   "outputs": [
    {
     "name": "stdout",
     "output_type": "stream",
     "text": [
      "Welchs T-test (Independent T-test) equal_var=False\n",
      "T-statistic: 5.043\tp-value: 0.00000046\n"
     ]
    }
   ],
   "source": [
    "'''\n",
    " t-test via scipy\n",
    " returns t-statistic and two-tailed p-value\n",
    " equal_var = False, perform Welch’s t-test, which does not assume equal population \n",
    " Welch does not assume equal sample size or equal variances\n",
    " equal_var = True - returns 5.33\n",
    "'''\n",
    "t_test_results = stats.ttest_ind(rain['ENTRIESn_hourly'],norain['ENTRIESn_hourly']\n",
    "                                 ,equal_var = False)\n",
    "t_statistic = t_test_results[0]\n",
    "p_value = t_test_results[1]\n",
    "print'Welch''s T-test (Independent T-test) equal_var=False\\nT-statistic: %.3f\\tp-value: %.8f' % (t_statistic, p_value)"
   ]
  },
  {
   "cell_type": "code",
   "execution_count": 7,
   "metadata": {
    "collapsed": false
   },
   "outputs": [
    {
     "name": "stdout",
     "output_type": "stream",
     "text": [
      "Levene test for equal variances\n",
      "W statistic: 103.813 \tp-value: 0.000000000\n"
     ]
    }
   ],
   "source": [
    "''' \n",
    " Perform Levene test for equal variances.\n",
    " http://docs.scipy.org/doc/scipy-0.14.0/reference/generated/scipy.stats.levene.html\n",
    " \n",
    " The Levene test tests the null hypothesis that all input samples are from populations \n",
    " with equal variances. \n",
    " \n",
    " Levene’s test is an alternative to Bartlett’s test bartlett in the case where there \n",
    " are significant deviations from normality.\n",
    " \n",
    " Three variations of Levene’s test are possible. The possibilities and their recommended usages are:\n",
    "    ‘median’ : Recommended for skewed (non-normal) distributions>\n",
    "    ‘mean’ : Recommended for symmetric, moderate-tailed distributions.\n",
    "    ‘trimmed’ : Recommended for heavy-tailed distributions.\n",
    "    \n",
    "'''\n",
    "w, levene_p_value = stats.levene(rain['ENTRIESn_hourly'], norain['ENTRIESn_hourly'] ,center='trimmed')\n",
    "print 'Levene test for equal variances\\nW statistic: %.3f \\tp-value: %.9f' % (w, levene_p_value)"
   ]
  },
  {
   "cell_type": "code",
   "execution_count": 8,
   "metadata": {
    "collapsed": false
   },
   "outputs": [],
   "source": [
    "# Get the (n) number of samples in the rain and norain samples\n",
    "rain_n = rain['UNIT'].count() \n",
    "norain_n = norain['UNIT'].count() \n",
    "\n",
    "# Get the (df) number of samples in each \n",
    "# We are using the independent t test \n",
    "rain_df = rain_n-1\n",
    "norain_df = norain_n-1\n",
    "pooled_df = rain_df+norain_df"
   ]
  },
  {
   "cell_type": "code",
   "execution_count": 9,
   "metadata": {
    "collapsed": true
   },
   "outputs": [],
   "source": [
    "# Get the means and medians for the rain\n",
    "rain_xbar= rain['ENTRIESn_hourly'].mean()\n",
    "rain_median = rain['ENTRIESn_hourly'].median()\n",
    "\n",
    "# Get the means and medians for the norain\n",
    "norain_xbar = norain['ENTRIESn_hourly'].mean()\n",
    "norain_median = norain['ENTRIESn_hourly'].median()"
   ]
  },
  {
   "cell_type": "code",
   "execution_count": 10,
   "metadata": {
    "collapsed": false
   },
   "outputs": [
    {
     "name": "stdout",
     "output_type": "stream",
     "text": [
      "Rain SE: 3189.27\tNo Rain SE: 2878.73\n"
     ]
    }
   ],
   "source": [
    "# Get the standard deviations of the samples\n",
    "# http://docs.scipy.org/doc/scipy/reference/generated/scipy.stats.ttest_rel.html\n",
    "rain_sd = stats.tstd(rain['ENTRIESn_hourly'], limits=None, inclusive=(True, True))\n",
    "norain_sd = stats.tstd(norain['ENTRIESn_hourly'], limits=None, inclusive=(True, True))\n",
    "\n",
    "# Standard Error of the Mean\n",
    "# Run this calculations myself and validate the independant test\n",
    "rain_se = stats.sem(rain['ENTRIESn_hourly'], axis=None, ddof=rain_df)\n",
    "norain_se = stats.sem(norain['ENTRIESn_hourly'], axis=None, ddof=norain_df)\n",
    "print 'Rain SE: %.2f\\tNo Rain SE: %.2f' % (rain_se, norain_se)"
   ]
  },
  {
   "cell_type": "code",
   "execution_count": 11,
   "metadata": {
    "collapsed": true
   },
   "outputs": [],
   "source": [
    "# Calculate the t-critical value, instead of using a table - woohoo\n",
    "# http://docs.scipy.org/doc/scipy-0.15.1/reference/generated/scipy.stats.t.html\n",
    "# By adding 1 to 0.95 and then dividing by 2, we get the critical value for 2 tail test\n",
    "degrees_of_freedom = pooled_df\n",
    "#critical_value = stats.t._ppf((1+0.95)/2., degrees_of_freedom)\n",
    "critical_value = stats.t._ppf((1+0.99)/2., degrees_of_freedom)"
   ]
  },
  {
   "cell_type": "code",
   "execution_count": 12,
   "metadata": {
    "collapsed": false
   },
   "outputs": [
    {
     "name": "stdout",
     "output_type": "stream",
     "text": [
      "Rain SS: 97493098540.65\tNo Rain SS: 274003713900.57\n"
     ]
    }
   ],
   "source": [
    "# Calculate Sum of Squares (SS for rain), pooled var, pooled SE\n",
    "# (X1 - XBar)**2\n",
    "rain_SS = np.sum((rain['ENTRIESn_hourly']-rain_xbar)**2)\n",
    "norain_SS = np.sum((norain['ENTRIESn_hourly']-norain_xbar)**2)\n",
    "\n",
    "print 'Rain SS: %.2f\\tNo Rain SS: %.2f' % (rain_SS, norain_SS)"
   ]
  },
  {
   "cell_type": "code",
   "execution_count": 13,
   "metadata": {
    "collapsed": false
   },
   "outputs": [
    {
     "name": "stdout",
     "output_type": "stream",
     "text": [
      "97493098540.7 2.74003713901e+11\n",
      "3189.43337288 2878.77084798\n"
     ]
    }
   ],
   "source": [
    "# Validate the above equation for rain\n",
    "rain['dff_mean_var']  = rain['ENTRIESn_hourly']-rain_xbar\n",
    "rain['SS'] = np.square(rain['dff_mean_var'])\n",
    "\n",
    "# Validate the above equation for no rain\n",
    "norain['dff_mean_var']  = norain['ENTRIESn_hourly']-norain_xbar\n",
    "norain['SS'] = np.square(norain['dff_mean_var'])\n",
    "print  rain['SS'].sum(), norain['SS'].sum()\n",
    "\n",
    "# Calculate the Standard Error for each for checking scipy and learning std error\n",
    "print np.sqrt(rain['SS'].sum()/rain_df), np.sqrt(norain['SS'].sum()/norain_df)"
   ]
  },
  {
   "cell_type": "code",
   "execution_count": 14,
   "metadata": {
    "collapsed": false
   },
   "outputs": [
    {
     "name": "stdout",
     "output_type": "stream",
     "text": [
      "Pooled Varience: 8710971.76\n"
     ]
    }
   ],
   "source": [
    "# Pooled Varience is the Total of the Sum of Squares  / Total df\n",
    "pooled_varience = (rain_SS+norain_SS)/(pooled_df)\n",
    "print 'Pooled Varience: %.2f' % pooled_varience"
   ]
  },
  {
   "cell_type": "code",
   "execution_count": 15,
   "metadata": {
    "collapsed": false
   },
   "outputs": [
    {
     "name": "stdout",
     "output_type": "stream",
     "text": [
      "Pooled SE: 34.24\n"
     ]
    }
   ],
   "source": [
    "# Corrected Standard Error is the Total of the Sum of Squares  / Total Degrees of freedom\n",
    "# SE Corrected with pooled var\n",
    "# divide by n- sample size not df.\n",
    "# the standard error is never negative\n",
    "# Pooled Variance Sum of Squares has some corrections it uses the df instead of the sample sizes\n",
    "pooled_SE = np.sqrt(pooled_varience/rain_n + pooled_varience/norain_n)\n",
    "print 'Pooled SE: %.2f' % pooled_SE"
   ]
  },
  {
   "cell_type": "code",
   "execution_count": 16,
   "metadata": {
    "collapsed": false
   },
   "outputs": [
    {
     "name": "stdout",
     "output_type": "stream",
     "text": [
      "t_stat_check equal_var=True: 5.335\n",
      "t_stat_check equal_var=True: 5.043\n"
     ]
    }
   ],
   "source": [
    "# calculate the t-statistic, pooled\n",
    "t_stat_check = (rain_xbar-norain_xbar)/pooled_SE\n",
    "print 't_stat_check equal_var=True: %.3f' % t_stat_check\n",
    "\n",
    "# Welch's t-test\n",
    "t_stat_check =  (rain_xbar-norain_xbar)/ np.sqrt((np.square(rain_sd)/rain_n) + (np.square(norain_sd)/norain_n))\n",
    "print 't_stat_check equal_var=True: %.3f' % t_stat_check"
   ]
  },
  {
   "cell_type": "code",
   "execution_count": 17,
   "metadata": {
    "collapsed": true
   },
   "outputs": [],
   "source": [
    "# r squared\n",
    "r_squared = ( np.square(t_statistic) /  (np.square(t_statistic) + (degrees_of_freedom)  ))"
   ]
  },
  {
   "cell_type": "code",
   "execution_count": 18,
   "metadata": {
    "collapsed": false
   },
   "outputs": [],
   "source": [
    "# Cohens D\n",
    "cohens_d = (rain_xbar-norain_xbar)/pooled_varience"
   ]
  },
  {
   "cell_type": "code",
   "execution_count": 19,
   "metadata": {
    "collapsed": true
   },
   "outputs": [],
   "source": [
    "# Calculate Confidence Intervals Independent Samples\n",
    "# SE +/- (t_critical * SE) \n",
    "# https://www.udacity.com/course/viewer#!/c-ud134-nd/l-4576163829/e-154863542/m-154863544\n",
    "lower_CI = (rain_xbar-norain_xbar)-(critical_value*pooled_SE)\n",
    "upper_CI = (rain_xbar-norain_xbar)+(critical_value*pooled_SE)"
   ]
  },
  {
   "cell_type": "markdown",
   "metadata": {},
   "source": [
    "### 1.1 Which statistical test did you use to analyze the NYC subway data? \n",
    "\n",
    "Mann Whitney u-test\n",
    "\n",
    "#### Did you use a one-tail or a two-tail P value?\n",
    "A two-tail test is used to analze the data.\n",
    "\n",
    "#### What is the null hypothesis?   \n",
    "The distributions of both populations are equal or there are no differences in the \"medians\" of two groups (rain vs no rain).\n",
    "\n",
    "H0: u1 = u2\n",
    "\n",
    "#### What is the alternative hypothesis?\n",
    "There is a difference in the distrubions of both populations or there is a difference in the in the \"medians\" of two groups (rain vs no rain).\n",
    "\n",
    "HA: u1 ≠ u2  \n",
    "\n",
    "\n",
    "#### What is your p-critical value?\n",
    "99%, Significance Level: alpha \t = 0.01 , two tail test    \n",
    "p critical is 0.005  \n",
    "\n",
    "t-critical is +/- 2.576   \n",
    "\n"
   ]
  },
  {
   "cell_type": "markdown",
   "metadata": {},
   "source": [
    "### 1.2 Why is this statistical test applicable to the dataset?\n",
    "\n",
    "The Mann-Whitney U test is used to compare differences between two independent groups \n",
    "when the dependent variable is either ordinal or continuous, but not normally distributed.\n",
    "\n",
    "####  In particular, consider the assumptions that the test is making about the distribution of ridership in the two samples.\n",
    "\n",
    "In order to run a Mann-Whitney U test, the following four assumptions must be met. The first three relate to your choice of study design, whilst the fourth reflects the nature of your data:\n",
    "\n",
    "#### Assumption #1: You have one dependent variable that is measured at the continuous or ordinal level.  \n",
    "Our one dependent variable is hourly entries.\n",
    "\n",
    "#### Assumption #2: You have one independent variable that consists of two categorical, independent groups (i.e., a dichotomous variable).   \n",
    "Our independent variable is  rain vs no rain.\n",
    "\n",
    "#### Assumption #3: You should have independence of observations, which means that there is no relationship between the observations in each group of the independent variable or between the groups themselves. \n",
    "\n",
    "It is a reasonable assumption that different participants were in each group at a particular hour for multiple turnstyles.\n",
    "\n",
    "#### Assumption #4: You must determine whether the distribution of scores for both groups of your independent variable  have the same shape or a different shape. \n",
    "\n",
    "Our rain vs no rain hourly entries have the same shape.\n",
    "\n",
    "\n",
    "#### References \n",
    "Independent T-Test for Two Samples, Laerd Statistics Blog  \n",
    "Retreived From https://statistics.laerd.com/statistical-guides/independent-t-test-statistical-guide.php\n",
    "\n",
    "Mann Whitney U-Test, Laerd Statistics Blog  \n",
    "Retreived From https://statistics.laerd.com/premium-sample/mwut/mann-whitney-test-in-spss-2.php"
   ]
  },
  {
   "cell_type": "code",
   "execution_count": 20,
   "metadata": {
    "collapsed": false
   },
   "outputs": [
    {
     "data": {
      "text/plain": [
       "<matplotlib.figure.Figure at 0x7f5aabe90f10>"
      ]
     },
     "execution_count": 20,
     "metadata": {},
     "output_type": "execute_result"
    },
    {
     "data": {
      "image/png": "[encoded data removed]",
      "text/plain": [
       "<matplotlib.figure.Figure at 0x7f5aac3c8110>"
      ]
     },
     "metadata": {},
     "output_type": "display_data"
    },
    {
     "data": {
      "text/plain": [
       "<matplotlib.figure.Figure at 0x7f5aabe90f10>"
      ]
     },
     "metadata": {},
     "output_type": "display_data"
    }
   ],
   "source": [
    "# Histogram - These plots have the same shape - and they are not normally distributed\n",
    "plt.hist(norain['ENTRIESn_hourly'], bins=250, label='Non Rainy',color='brown')\n",
    "plt.hist(rain['ENTRIESn_hourly'], bins=250, alpha=0.45, label='Rainy',color='green')\n",
    "plt.title(r'Histogram of ENTRIESn_hourly')\n",
    "plt.xlabel('ENTRIESn_hourly')\n",
    "plt.ylabel('Frequency')\n",
    "plt.legend(loc='best', frameon=False)\n",
    "# resize to show the distribution of the data\n",
    "plt.axis(xmin=0, xmax=6000)\n",
    "plt.figure(figsize(10,5))\n"
   ]
  },
  {
   "cell_type": "markdown",
   "metadata": {},
   "source": [
    "The histogram shows the distribution is non-normal for riders during rainy and non rainy days.  Skewed data often occur due to lower or upper bounds on the data. That is, data that have a lower bound are often skewed right while data that have an upper bound are often skewed left.  The rain and rainy day hourly entries are skewed to the left."
   ]
  },
  {
   "cell_type": "code",
   "execution_count": 21,
   "metadata": {
    "collapsed": false
   },
   "outputs": [
    {
     "name": "stdout",
     "output_type": "stream",
     "text": [
      "W Statistic 0.594 \n",
      "p-value: 0.000\n",
      "The data tested are not from a normally distributed population\n"
     ]
    },
    {
     "name": "stderr",
     "output_type": "stream",
     "text": [
      "/home/cnicholson/anaconda/lib/python2.7/site-packages/scipy/stats/morestats.py:997: UserWarning: p-value may not be accurate for N > 5000.\n",
      "  warnings.warn(\"p-value may not be accurate for N > 5000.\")\n"
     ]
    }
   ],
   "source": [
    "'''\n",
    " Shapiro-Wilks Test for normal distribution\n",
    " scipy.stats.shapiro(x, a=None, reta=False)[source]¶\n",
    " http://www.itl.nist.gov/div898/handbook/prc/section2/prc213.htm\n",
    " Returns:\n",
    " W : The test statistic.\n",
    " p-value : The p-value for the hypothesis test.\n",
    " a : array_like, optional\n",
    " \n",
    " The null-hypothesis of this test is that the population is normally distributed. \n",
    " \n",
    " Thus if the p-value is less than the chosen alpha level, then the null hypothesis is \n",
    " rejected and there is evidence that the data tested are not \n",
    " from a normally distributed population. \n",
    " \n",
    " In other words, the data are not normal. \n",
    " \n",
    " On the contrary, if the p-value is greater than the chosen alpha level, \n",
    " then the null hypothesis that the data came from a normally distributed \n",
    " population cannot be rejected. \n",
    " \n",
    " E.g. for an alpha level of 0.05, a data set with a p-value of 0.02 rejects \n",
    " the null hypothesis that the data are from a normally distributed population.\n",
    " \n",
    " However, since the test is biased by sample size,[3] the test may be statistically \n",
    " significant from a normal distribution in any large samples. \n",
    " \n",
    " Thus a Q–Q plot is required for verification in addition to the test.\n",
    " \n",
    " Reference: https://en.wikipedia.org/wiki/Shapiro%E2%80%93Wilk_test\n",
    " \n",
    "'''\n",
    "sharipo_results = stats.shapiro(df['ENTRIESn_hourly'], a=None, reta=True)\n",
    "print 'W Statistic %.3f \\np-value: %.3f' % (sharipo_results[0], sharipo_results[1])\n",
    "print 'The data tested are not from a normally distributed population'"
   ]
  },
  {
   "cell_type": "markdown",
   "metadata": {},
   "source": [
    "### 1.3 What results did you get from this statistical test? These should include the following numerical values: p-values, as well as the means for each of the two samples under test."
   ]
  },
  {
   "cell_type": "code",
   "execution_count": 22,
   "metadata": {
    "collapsed": false
   },
   "outputs": [
    {
     "name": "stdout",
     "output_type": "stream",
     "text": [
      "\n",
      "\n",
      "TABLE 1.0 - MANN WHITNEY U-Test\n",
      "\n",
      "\n",
      "DESCRIPTIVE STATISTICS\n",
      "\t\tn \t\tmean \t\tmedian \t\tStDev \t\tSE Mean\n",
      "Rain   \t\t9585.00 \t2028.20 \t939.00 \t\t3189.43 \t3189.27\n",
      "No Rain\t\t33064.00 \t1845.54 \t893.00 \t\t2878.77 \t2878.73\n",
      "\n",
      "\n",
      "INFERENTIAL STATISTICS\n",
      "Type of test\t\t\t = Mann Whitney U-test\n",
      "Test statistics: U \t\t = 153635120\n",
      "Significance Level: alpha \t = 0.01 \n",
      "P-Value\t\t\t\t = 0.000005482\n",
      "Direction of test\t\t = two tail \n",
      "\n",
      "\n"
     ]
    }
   ],
   "source": [
    "print '\\n'\n",
    "print 'TABLE 1.0 - MANN WHITNEY U-Test'\n",
    "print '\\n'\n",
    "print 'DESCRIPTIVE STATISTICS'\n",
    "print '\\t\\tn \\t\\tmean \\t\\tmedian \\t\\tStDev \\t\\tSE Mean'\n",
    "print 'Rain   \\t\\t%.2f \\t%.2f \\t%.2f \\t\\t%.2f \\t%.2f' % (rain_n,rain_xbar, rain_median,rain_sd,rain_se)\n",
    "print 'No Rain\\t\\t%.2f \\t%.2f \\t%.2f \\t\\t%.2f \\t%.2f' % (norain_n,norain_xbar,norain_median,norain_sd,norain_se)\n",
    "print '\\n'\n",
    "\n",
    "print 'INFERENTIAL STATISTICS'\n",
    "# Paired t-test, two tail, t-statistic ,df,p-value, direction of test (two tail, or one tail to in _/- directrion')\n",
    "print 'Type of test\\t\\t\\t = %s' % 'Mann Whitney U-test'\n",
    "print 'Test statistics: U \\t\\t = %.0f' % u_statistic\n",
    "#print 'Degrees of Freedom\\t\\t = %.0f' % ((rain_n+norain_n)-2)\n",
    "print 'Significance Level: alpha \\t = %s ' % '0.01'\n",
    "#print 'Critical value: t1-α/2,ν \\t = %.3f' % critical_value\n",
    "#print 'Critical region: Reject H0 if \\t = |T| > %.3f' % critical_value\n",
    "print 'P-Value\\t\\t\\t\\t = %.9f' % (mannwhitney_p_value*2)\n",
    "print 'Direction of test\\t\\t = %s ' % 'two tail'\n",
    "print '\\n'"
   ]
  },
  {
   "cell_type": "markdown",
   "metadata": {},
   "source": [
    "### 1.4 What is the significance and interpretation of these results?\n",
    "\n",
    "\n",
    "### Mann Whitney U Test\n",
    "\n",
    "We can reject the null hypothesis.  \n",
    "\n",
    "- The median for Rain is larger than No Rain median.\n",
    "- U Statistic = 153635120, p < 0.001  \n",
    "- P-Value\t\t\t\t = 0.000005482\n",
    "\n",
    "\n",
    "Median latencies in groups Rain and No Rain were 939 and 893 hourly entries; the distributions in the two groups differed significantly (Mann–Whitney U = 153,635,120, n(rain) = 9584, n(no rain)= 33064, P < 0.05 two-tailed).\n",
    "\n"
   ]
  },
  {
   "cell_type": "markdown",
   "metadata": {},
   "source": [
    "## Section 2. Linear Regression"
   ]
  },
  {
   "cell_type": "markdown",
   "metadata": {},
   "source": [
    "\n",
    "### 2.1 What approach did you use to compute the coefficients theta and produce prediction for ENTRIESn_hourly in your regression model: OLS using Statsmodels or Scikit Learn Gradient descent using Scikit Learn Or something different?\n",
    "\n",
    "The OLS method from Statsmodels is used to compute the coefficients that and produce predictions for the ENTRIES_hourly."
   ]
  },
  {
   "cell_type": "code",
   "execution_count": 23,
   "metadata": {
    "collapsed": false,
    "scrolled": true
   },
   "outputs": [
    {
     "name": "stdout",
     "output_type": "stream",
     "text": [
      "                            OLS Regression Results                            \n",
      "==============================================================================\n",
      "Dep. Variable:        ENTRIESn_hourly   R-squared:                       0.489\n",
      "Model:                            OLS   Adj. R-squared:                  0.485\n",
      "Method:                 Least Squares   F-statistic:                     153.9\n",
      "Date:                Tue, 15 Sep 2015   Prob (F-statistic):               0.00\n",
      "Time:                        09:54:29   Log-Likelihood:            -3.8700e+05\n",
      "No. Observations:               42649   AIC:                         7.745e+05\n",
      "Df Residuals:                   42385   BIC:                         7.768e+05\n",
      "Df Model:                         263                                         \n",
      "Covariance Type:            nonrobust                                         \n",
      "==========================================================================================\n",
      "                             coef    std err          t      P>|t|      [95.0% Conf. Int.]\n",
      "------------------------------------------------------------------------------------------\n",
      "const                   8285.2095   2101.260      3.943      0.000      4166.698  1.24e+04\n",
      "precipi                -1371.6112    820.608     -1.671      0.095     -2980.019   236.797\n",
      "rain                      37.8756     34.656      1.093      0.274       -30.051   105.802\n",
      "hour                     119.1538      1.660     71.778      0.000       115.900   122.408\n",
      "wspdi                     17.4315      2.998      5.814      0.000        11.555    23.308\n",
      "fog                     -371.9747    193.010     -1.927      0.054      -750.278     6.328\n",
      "tempi                      2.7015      1.487      1.816      0.069        -0.214     5.617\n",
      "pressurei               -326.1810     85.721     -3.805      0.000      -494.197  -158.165\n",
      "unit_R003              -1639.5308    163.729    -10.014      0.000     -1960.444 -1318.618\n",
      "unit_R004              -1295.4135    160.767     -8.058      0.000     -1610.521  -980.306\n",
      "unit_R005              -1291.5357    162.114     -7.967      0.000     -1609.283  -973.789\n",
      "unit_R006              -1184.7599    158.600     -7.470      0.000     -1495.618  -873.901\n",
      "unit_R007              -1473.2506    163.067     -9.035      0.000     -1792.865 -1153.637\n",
      "unit_R008              -1456.0050    163.546     -8.903      0.000     -1776.558 -1135.452\n",
      "unit_R009              -1505.7488    160.766     -9.366      0.000     -1820.854 -1190.644\n",
      "unit_R011               5584.7444    156.179     35.759      0.000      5278.631  5890.858\n",
      "unit_R012               6925.8813    155.341     44.585      0.000      6621.410  7230.353\n",
      "unit_R013                824.3222    155.341      5.307      0.000       519.851  1128.794\n",
      "unit_R016               -988.3753    156.173     -6.329      0.000     -1294.478  -682.273\n",
      "unit_R017               2439.3168    155.341     15.703      0.000      2134.845  2743.788\n",
      "unit_R018               5968.7337    156.150     38.224      0.000      5662.677  6274.790\n",
      "unit_R019               1441.4329    156.051      9.237      0.000      1135.571  1747.295\n",
      "unit_R020               4615.4136    155.341     29.712      0.000      4310.942  4919.885\n",
      "unit_R021               2935.6407    156.177     18.797      0.000      2629.530  3241.751\n",
      "unit_R022               7759.8060    155.341     49.953      0.000      7455.335  8064.277\n",
      "unit_R023               4394.9835    155.341     28.292      0.000      4090.512  4699.455\n",
      "unit_R024               1407.7639    156.458      8.998      0.000      1101.102  1714.426\n",
      "unit_R025               3538.3254    156.051     22.674      0.000      3232.463  3844.188\n",
      "unit_R027               1209.4189    155.341      7.786      0.000       904.948  1513.890\n",
      "unit_R029               5471.3921    155.341     35.222      0.000      5166.921  5775.863\n",
      "unit_R030               1341.5856    155.341      8.636      0.000      1037.114  1646.057\n",
      "unit_R031               2593.3544    155.341     16.695      0.000      2288.883  2897.826\n",
      "unit_R032               2693.0164    155.756     17.290      0.000      2387.731  2998.302\n",
      "unit_R033               6476.3652    155.341     41.691      0.000      6171.894  6780.837\n",
      "unit_R034               -581.6495    162.423     -3.581      0.000      -900.001  -263.298\n",
      "unit_R035               1049.4515    156.174      6.720      0.000       743.347  1355.556\n",
      "unit_R036              -1045.1502    159.578     -6.549      0.000     -1357.927  -732.373\n",
      "unit_R037               -958.2622    156.985     -6.104      0.000     -1265.956  -650.569\n",
      "unit_R038              -1591.1199    160.501     -9.913      0.000     -1905.704 -1276.536\n",
      "unit_R039              -1036.9632    164.692     -6.296      0.000     -1359.763  -714.164\n",
      "unit_R040               -557.9543    156.554     -3.564      0.000      -864.803  -251.106\n",
      "unit_R041               1341.3974    155.341      8.635      0.000      1036.926  1645.869\n",
      "unit_R042              -1143.9775    157.875     -7.246      0.000     -1453.415  -834.540\n",
      "unit_R043               1128.5318    155.341      7.265      0.000       824.060  1433.003\n",
      "unit_R044               2919.9405    155.341     18.797      0.000      2615.469  3224.412\n",
      "unit_R046               6586.3921    155.341     42.400      0.000      6281.921  6890.863\n",
      "unit_R049               1014.2039    155.341      6.529      0.000       709.733  1318.675\n",
      "unit_R050               2265.9325    156.178     14.509      0.000      1959.821  2572.044\n",
      "unit_R051               3375.9458    155.341     21.732      0.000      3071.474  3680.417\n",
      "unit_R052               -561.0151    161.905     -3.465      0.001      -878.352  -243.678\n",
      "unit_R053               1368.5946    156.569      8.741      0.000      1061.715  1675.474\n",
      "unit_R054               -287.6466    156.175     -1.842      0.066      -593.753    18.459\n",
      "unit_R055               6522.6797    155.736     41.883      0.000      6217.434  6827.926\n",
      "unit_R056               -302.1904    156.179     -1.935      0.053      -608.304     3.923\n",
      "unit_R057               3124.3329    155.341     20.113      0.000      2819.862  3428.804\n",
      "unit_R058              -1115.0245    155.756     -7.159      0.000     -1420.310  -809.739\n",
      "unit_R059               -547.0188    159.200     -3.436      0.001      -859.053  -234.985\n",
      "unit_R060               -943.0037    157.887     -5.973      0.000     -1252.466  -633.541\n",
      "unit_R061              -1116.7560    163.867     -6.815      0.000     -1437.938  -795.574\n",
      "unit_R062                978.1931    155.341      6.297      0.000       673.722  1282.664\n",
      "unit_R063               -539.5465    163.373     -3.303      0.001      -859.761  -219.332\n",
      "unit_R064               -887.7373    159.648     -5.561      0.000     -1200.651  -574.823\n",
      "unit_R065               -871.3841    161.472     -5.396      0.000     -1187.873  -554.895\n",
      "unit_R066              -1453.5306    162.415     -8.949      0.000     -1771.868 -1135.193\n",
      "unit_R067               -898.3926    164.256     -5.469      0.000     -1220.337  -576.448\n",
      "unit_R068              -1308.9236    164.253     -7.969      0.000     -1630.862  -986.985\n",
      "unit_R069               -839.7409    161.384     -5.203      0.000     -1156.057  -523.425\n",
      "unit_R070                 29.1716    155.341      0.188      0.851      -275.300   333.643\n",
      "unit_R080               1853.4996    155.341     11.932      0.000      1549.028  2157.971\n",
      "unit_R081               1806.7622    156.182     11.568      0.000      1500.643  2112.882\n",
      "unit_R082               -246.4098    156.174     -1.578      0.115      -552.513    59.694\n",
      "unit_R083               1367.9082    155.341      8.806      0.000      1063.437  1672.380\n",
      "unit_R084               8272.1824    155.341     53.252      0.000      7967.711  8576.654\n",
      "unit_R085                861.5057    156.178      5.516      0.000       555.394  1167.617\n",
      "unit_R086                841.4996    155.341      5.417      0.000       537.028  1145.971\n",
      "unit_R087               -509.7817    157.029     -3.246      0.001      -817.562  -202.002\n",
      "unit_R089              -1234.5873    156.173     -7.905      0.000     -1540.690  -928.485\n",
      "unit_R090              -1353.8495    164.260     -8.242      0.000     -1675.802 -1031.897\n",
      "unit_R091               -652.2414    162.809     -4.006      0.000      -971.351  -333.132\n",
      "unit_R092                210.8554    160.044      1.317      0.188      -102.834   524.545\n",
      "unit_R093                248.8731    160.920      1.547      0.122       -66.534   564.280\n",
      "unit_R094                -32.1132    156.563     -0.205      0.837      -338.980   274.753\n",
      "unit_R095                380.9841    157.850      2.414      0.016        71.596   690.372\n",
      "unit_R096                554.7825    156.144      3.553      0.000       248.737   860.828\n",
      "unit_R097               1177.7715    156.150      7.543      0.000       871.715  1483.828\n",
      "unit_R098                 76.0587    155.341      0.490      0.624      -228.413   380.530\n",
      "unit_R099                633.0856    155.341      4.075      0.000       328.614   937.557\n",
      "unit_R100              -1239.7580    157.427     -7.875      0.000     -1548.318  -931.198\n",
      "unit_R101               1067.4781    155.341      6.872      0.000       763.007  1371.949\n",
      "unit_R102               1956.3168    155.341     12.594      0.000      1651.845  2260.788\n",
      "unit_R103               -358.7564    161.845     -2.217      0.027      -675.975   -41.538\n",
      "unit_R104               -443.2241    156.562     -2.831      0.005      -750.089  -136.359\n",
      "unit_R105               1606.0157    155.341     10.339      0.000      1301.544  1910.487\n",
      "unit_R106               -640.5509    164.230     -3.900      0.000      -962.444  -318.658\n",
      "unit_R107              -1240.2375    164.733     -7.529      0.000     -1563.118  -917.357\n",
      "unit_R108               3495.1824    155.341     22.500      0.000      3190.711  3799.654\n",
      "unit_R111               1492.3060    155.341      9.607      0.000      1187.835  1796.777\n",
      "unit_R112               -103.5310    156.144     -0.663      0.507      -409.576   202.514\n",
      "unit_R114               -889.3270    156.461     -5.684      0.000     -1195.994  -582.660\n",
      "unit_R115               -511.0778    156.051     -3.275      0.001      -816.940  -205.216\n",
      "unit_R116               1471.4512    155.341      9.472      0.000      1166.980  1775.923\n",
      "unit_R117               -857.3512    163.750     -5.236      0.000     -1178.304  -536.399\n",
      "unit_R119                 94.5123    158.684      0.596      0.551      -216.511   405.536\n",
      "unit_R120               -242.9830    160.949     -1.510      0.131      -558.446    72.480\n",
      "unit_R121               -220.0228    159.651     -1.378      0.168      -532.942    92.896\n",
      "unit_R122                800.1670    157.859      5.069      0.000       490.760  1109.574\n",
      "unit_R123                -77.9219    157.888     -0.494      0.622      -387.385   231.541\n",
      "unit_R124              -1031.2942    161.942     -6.368      0.000     -1348.704  -713.884\n",
      "unit_R126                133.3598    155.341      0.858      0.391      -171.112   437.831\n",
      "unit_R127               3074.0695    155.341     19.789      0.000      2769.598  3378.541\n",
      "unit_R137                668.5883    155.736      4.293      0.000       363.342   973.834\n",
      "unit_R139                813.1830    155.751      5.221      0.000       507.907  1118.459\n",
      "unit_R163               1609.8060    155.341     10.363      0.000      1305.335  1914.277\n",
      "unit_R172                175.8437    155.341      1.132      0.258      -128.628   480.315\n",
      "unit_R179               5056.6179    155.341     32.552      0.000      4752.147  5361.089\n",
      "unit_R181                 67.4204    158.323      0.426      0.670      -242.896   377.737\n",
      "unit_R183               -950.6749    164.733     -5.771      0.000     -1273.555  -627.795\n",
      "unit_R184               -666.1518    162.416     -4.102      0.000      -984.490  -347.813\n",
      "unit_R186               -619.2937    157.454     -3.933      0.000      -927.906  -310.681\n",
      "unit_R188                614.7191    155.756      3.947      0.000       309.434   920.005\n",
      "unit_R189               -289.7704    159.207     -1.820      0.069      -601.819    22.279\n",
      "unit_R194                301.5852    158.326      1.905      0.057        -8.736   611.907\n",
      "unit_R196               -376.5276    156.597     -2.404      0.016      -683.462   -69.594\n",
      "unit_R198                403.7067    156.174      2.585      0.010        97.602   709.811\n",
      "unit_R199               -976.4600    158.318     -6.168      0.000     -1286.766  -666.154\n",
      "unit_R200               -698.4306    157.713     -4.428      0.000     -1007.552  -389.309\n",
      "unit_R202                457.0528    156.560      2.919      0.004       150.192   763.913\n",
      "unit_R203                 80.0327    160.109      0.500      0.617      -233.783   393.849\n",
      "unit_R204               -262.6563    155.341     -1.691      0.091      -567.128    41.815\n",
      "unit_R205               -254.4630    157.408     -1.617      0.106      -562.985    54.059\n",
      "unit_R207                291.2825    155.761      1.870      0.061       -14.013   596.578\n",
      "unit_R208                759.8796    157.407      4.827      0.000       451.358  1068.401\n",
      "unit_R209               -861.0362    163.380     -5.270      0.000     -1181.264  -540.808\n",
      "unit_R210              -1144.6805    159.214     -7.190      0.000     -1456.744  -832.617\n",
      "unit_R211                694.7738    155.341      4.473      0.000       390.302   999.245\n",
      "unit_R212                -19.4864    155.759     -0.125      0.900      -324.778   285.805\n",
      "unit_R213               -522.7944    158.760     -3.293      0.001      -833.967  -211.622\n",
      "unit_R214               -986.9161    163.862     -6.023      0.000     -1308.090  -665.742\n",
      "unit_R215               -107.6532    156.176     -0.689      0.491      -413.762   198.456\n",
      "unit_R216               -935.5064    156.173     -5.990      0.000     -1241.609  -629.404\n",
      "unit_R217               -655.0318    163.364     -4.010      0.000      -975.229  -334.835\n",
      "unit_R218                219.9433    156.155      1.408      0.159       -86.123   526.009\n",
      "unit_R219               -495.0481    156.563     -3.162      0.002      -801.914  -188.182\n",
      "unit_R220               -230.5004    155.341     -1.484      0.138      -534.972    73.971\n",
      "unit_R221               -253.3356    163.864     -1.546      0.122      -574.511    67.840\n",
      "unit_R223                358.7285    156.144      2.297      0.022        52.683   664.774\n",
      "unit_R224               -944.3563    159.648     -5.915      0.000     -1257.270  -631.443\n",
      "unit_R225              -1119.7719    157.457     -7.112      0.000     -1428.390  -811.154\n",
      "unit_R226               -985.7358    162.813     -6.054      0.000     -1304.852  -666.619\n",
      "unit_R227               -611.2370    155.341     -3.935      0.000      -915.708  -306.766\n",
      "unit_R228               -568.8507    162.887     -3.492      0.000      -888.113  -249.589\n",
      "unit_R229              -1089.8412    161.951     -6.729      0.000     -1407.268  -772.415\n",
      "unit_R230              -1148.8096    160.102     -7.175      0.000     -1462.613  -835.006\n",
      "unit_R231               -720.2384    157.457     -4.574      0.000     -1028.857  -411.620\n",
      "unit_R232               -638.9959    161.483     -3.957      0.000      -955.505  -322.487\n",
      "unit_R233               -549.4215    164.837     -3.333      0.001      -872.505  -226.338\n",
      "unit_R234              -1335.1416    163.373     -8.172      0.000     -1655.355 -1014.928\n",
      "unit_R235                863.0782    155.756      5.541      0.000       557.793  1168.363\n",
      "unit_R236               -227.4537    157.390     -1.445      0.148      -535.941    81.034\n",
      "unit_R237              -1067.4069    163.264     -6.538      0.000     -1387.408  -747.406\n",
      "unit_R238                341.8433    156.148      2.189      0.029        35.789   647.897\n",
      "unit_R239               -814.0757    155.341     -5.241      0.000     -1118.547  -509.604\n",
      "unit_R240                960.0183    156.599      6.130      0.000       653.080  1266.956\n",
      "unit_R242              -1132.2206    158.757     -7.132      0.000     -1443.387  -821.054\n",
      "unit_R243               -350.6031    161.395     -2.172      0.030      -666.941   -34.265\n",
      "unit_R244               -157.9884    161.408     -0.979      0.328      -474.352   158.375\n",
      "unit_R246               -987.1905    162.889     -6.061      0.000     -1306.456  -667.925\n",
      "unit_R247              -1500.1902    165.836     -9.046      0.000     -1825.233 -1175.148\n",
      "unit_R248               1395.5127    155.751      8.960      0.000      1090.237  1700.789\n",
      "unit_R249               -324.6362    157.889     -2.056      0.040      -634.101   -15.171\n",
      "unit_R250               -711.7684    158.765     -4.483      0.000     -1022.952  -400.585\n",
      "unit_R251               -425.6907    156.599     -2.718      0.007      -732.628  -118.754\n",
      "unit_R252               -745.6184    156.172     -4.774      0.000     -1051.720  -439.517\n",
      "unit_R253              -1042.2265    161.885     -6.438      0.000     -1359.525  -724.928\n",
      "unit_R254                819.3644    156.150      5.247      0.000       513.308  1125.421\n",
      "unit_R255               -972.3482    157.703     -6.166      0.000     -1281.449  -663.248\n",
      "unit_R256               -649.6787    156.178     -4.160      0.000      -955.790  -343.567\n",
      "unit_R257                173.0964    155.341      1.114      0.265      -131.375   477.568\n",
      "unit_R258               -183.8826    156.587     -1.174      0.240      -490.796   123.031\n",
      "unit_R259               -761.0195    157.887     -4.820      0.000     -1070.481  -451.557\n",
      "unit_R260               -578.8544    169.529     -3.414      0.001      -911.134  -246.574\n",
      "unit_R261               -179.9686    159.587     -1.128      0.259      -492.762   132.825\n",
      "unit_R262              -1179.6082    165.836     -7.113      0.000     -1504.650  -854.567\n",
      "unit_R263              -1566.8714    158.763     -9.869      0.000     -1878.050 -1255.693\n",
      "unit_R264              -1245.6183    155.762     -7.997      0.000     -1550.915  -940.321\n",
      "unit_R265               -794.2424    161.948     -4.904      0.000     -1111.664  -476.820\n",
      "unit_R266               -858.8138    156.146     -5.500      0.000     -1164.863  -552.765\n",
      "unit_R269               -823.8418    156.171     -5.275      0.000     -1129.940  -517.743\n",
      "unit_R270              -1190.5331    162.892     -7.309      0.000     -1509.805  -871.261\n",
      "unit_R271              -1299.4093    162.403     -8.001      0.000     -1617.722  -981.097\n",
      "unit_R273               -357.2834    163.434     -2.186      0.029      -677.617   -36.949\n",
      "unit_R274               -731.7666    161.455     -4.532      0.000     -1048.221  -415.312\n",
      "unit_R275               -857.1108    159.633     -5.369      0.000     -1169.995  -544.227\n",
      "unit_R276               -304.3660    155.341     -1.959      0.050      -608.837     0.105\n",
      "unit_R277              -1195.4681    167.348     -7.144      0.000     -1523.473  -867.463\n",
      "unit_R278              -1304.1916    161.945     -8.053      0.000     -1621.608  -986.775\n",
      "unit_R279               -984.4188    158.715     -6.202      0.000     -1295.503  -673.335\n",
      "unit_R280              -1025.3961    166.329     -6.165      0.000     -1351.404  -699.388\n",
      "unit_R281               -422.7701    157.876     -2.678      0.007      -732.210  -113.331\n",
      "unit_R282               -124.1957    156.182     -0.795      0.427      -430.315   181.924\n",
      "unit_R284               -937.2216    156.172     -6.001      0.000     -1243.323  -631.120\n",
      "unit_R285              -1143.2163    164.593     -6.946      0.000     -1465.822  -820.610\n",
      "unit_R287              -1102.8359    164.330     -6.711      0.000     -1424.925  -780.747\n",
      "unit_R291                 88.8652    155.341      0.572      0.567      -215.606   393.337\n",
      "unit_R294               -746.8768    159.208     -4.691      0.000     -1058.928  -434.825\n",
      "unit_R295              -1156.4216    180.592     -6.403      0.000     -1510.386  -802.457\n",
      "unit_R300                497.9297    155.341      3.205      0.001       193.458   802.401\n",
      "unit_R303               -465.5982    157.885     -2.949      0.003      -775.055  -156.141\n",
      "unit_R304               -635.9105    156.177     -4.072      0.000      -942.021  -329.800\n",
      "unit_R307              -1394.7435    164.739     -8.466      0.000     -1717.635 -1071.852\n",
      "unit_R308               -956.2444    161.419     -5.924      0.000     -1272.629  -639.860\n",
      "unit_R309               -948.5998    160.960     -5.893      0.000     -1264.085  -633.115\n",
      "unit_R310               -447.1137    162.798     -2.746      0.006      -766.201  -128.026\n",
      "unit_R311              -1303.9838    160.103     -8.145      0.000     -1617.790  -990.178\n",
      "unit_R312              -1379.2550    156.596     -8.808      0.000     -1686.187 -1072.323\n",
      "unit_R313              -1675.6495    165.200    -10.143      0.000     -1999.445 -1351.854\n",
      "unit_R318              -1172.2372    157.018     -7.466      0.000     -1479.996  -864.478\n",
      "unit_R319               -355.3802    158.322     -2.245      0.025      -665.694   -45.066\n",
      "unit_R321               -639.4735    155.341     -4.117      0.000      -943.945  -335.002\n",
      "unit_R322                 55.6663    158.326      0.352      0.725      -254.657   365.989\n",
      "unit_R323               -423.6343    161.478     -2.623      0.009      -740.135  -107.134\n",
      "unit_R325              -1419.1046    160.517     -8.841      0.000     -1733.722 -1104.487\n",
      "unit_R330               -720.2788    159.206     -4.524      0.000     -1032.326  -408.232\n",
      "unit_R335              -1347.5040    166.026     -8.116      0.000     -1672.918 -1022.091\n",
      "unit_R336              -1716.8494    165.963    -10.345      0.000     -2042.140 -1391.559\n",
      "unit_R337              -1676.1937    164.063    -10.217      0.000     -1997.761 -1354.627\n",
      "unit_R338              -1828.1799    161.234    -11.339      0.000     -2144.202 -1512.157\n",
      "unit_R341              -1267.2868    157.290     -8.057      0.000     -1575.579  -958.995\n",
      "unit_R344              -1238.1481    165.321     -7.489      0.000     -1562.181  -914.115\n",
      "unit_R345              -1232.8843    160.102     -7.701      0.000     -1546.687  -919.081\n",
      "unit_R346               -464.9830    160.555     -2.896      0.004      -779.674  -150.292\n",
      "unit_R348              -1630.7224    160.907    -10.135      0.000     -1946.104 -1315.341\n",
      "unit_R354              -1559.8576    164.546     -9.480      0.000     -1882.372 -1237.344\n",
      "unit_R356               -683.7723    160.403     -4.263      0.000      -998.165  -369.380\n",
      "unit_R358              -1516.5186    164.522     -9.218      0.000     -1838.985 -1194.052\n",
      "unit_R370              -1226.4122    159.646     -7.682      0.000     -1539.322  -913.503\n",
      "unit_R371              -1009.6966    161.486     -6.253      0.000     -1326.213  -693.181\n",
      "unit_R372               -999.4690    162.898     -6.136      0.000     -1318.753  -680.185\n",
      "unit_R373              -1070.3324    163.362     -6.552      0.000     -1390.525  -750.140\n",
      "unit_R382               -858.9868    159.888     -5.372      0.000     -1172.370  -545.604\n",
      "unit_R424              -1348.8798    164.850     -8.182      0.000     -1671.988 -1025.771\n",
      "unit_R429               -787.8467    156.988     -5.019      0.000     -1095.547  -480.147\n",
      "unit_R453                 61.5406    166.333      0.370      0.711      -264.475   387.556\n",
      "unit_R454              -1598.5468    163.838     -9.757      0.000     -1919.673 -1277.420\n",
      "unit_R455              -1645.9622    163.370    -10.075      0.000     -1966.171 -1325.753\n",
      "unit_R456              -1508.1306    159.197     -9.473      0.000     -1820.160 -1196.101\n",
      "unit_R459              -1842.9881    225.717     -8.165      0.000     -2285.397 -1400.579\n",
      "unit_R464              -1859.6604    163.531    -11.372      0.000     -2180.185 -1539.136\n",
      "conds_Clear              695.0809    192.519      3.610      0.000       317.739  1072.423\n",
      "conds_Fog               1162.0372    368.670      3.152      0.002       439.436  1884.638\n",
      "conds_Haze               442.2380    197.795      2.236      0.025        54.557   829.919\n",
      "conds_Heavy Rain         474.1053    265.078      1.789      0.074       -45.452   993.663\n",
      "conds_Light Drizzle      434.4594    209.609      2.073      0.038        23.621   845.298\n",
      "conds_Light Rain         980.9732    194.018      5.056      0.000       600.694  1361.253\n",
      "conds_Mist              1406.2281    442.790      3.176      0.001       538.351  2274.105\n",
      "conds_Mostly Cloudy      473.9351    189.980      2.495      0.013       101.571   846.300\n",
      "conds_Overcast           651.4822    189.153      3.444      0.001       280.739  1022.225\n",
      "conds_Partly Cloudy      623.9406    193.393      3.226      0.001       244.886  1002.995\n",
      "conds_Rain               141.2394    205.248      0.688      0.491      -261.051   543.530\n",
      "conds_Scattered Clouds   799.4900    190.042      4.207      0.000       427.003  1171.977\n",
      "dow_0                   1099.0852    303.808      3.618      0.000       503.615  1694.555\n",
      "dow_1                   1450.2563    302.306      4.797      0.000       857.731  2042.782\n",
      "dow_2                   1553.0466    305.209      5.088      0.000       954.832  2151.262\n",
      "dow_3                   1594.1534    301.134      5.294      0.000      1003.925  2184.382\n",
      "dow_4                   1558.3367    298.593      5.219      0.000       973.089  2143.584\n",
      "dow_5                    653.5154    294.644      2.218      0.027        76.007  1231.024\n",
      "dow_6                    376.8159    303.689      1.241      0.215      -218.420   972.052\n",
      "==============================================================================\n",
      "Omnibus:                    27654.603   Durbin-Watson:                   1.621\n",
      "Prob(Omnibus):                  0.000   Jarque-Bera (JB):           840108.045\n",
      "Skew:                           2.661   Prob(JB):                         0.00\n",
      "Kurtosis:                      24.082   Cond. No.                     1.06e+17\n",
      "==============================================================================\n",
      "\n",
      "Warnings:\n",
      "[1] Standard Errors assume that the covariance matrix of the errors is correctly specified.\n",
      "[2] The smallest eigenvalue is 1.93e-26. This might indicate that there are\n",
      "strong multicollinearity problems or that the design matrix is singular.\n"
     ]
    }
   ],
   "source": [
    "values  = df['ENTRIESn_hourly']\n",
    "features = df[[\"precipi\",\"rain\",\"hour\",\"wspdi\", \"fog\",\"tempi\",\"pressurei\"]]\n",
    "# fog and rain show high p-values from the output dropping these and running the model again\n",
    "#features = df[[\"hour\",\"wspdi\",\"pressurei\"]]\n",
    "\n",
    "\n",
    "dummy_units = pd.get_dummies(df['UNIT'], prefix='unit')\n",
    "features = features.join(dummy_units)\n",
    "\n",
    "dummy_units = pd.get_dummies(df['conds'], prefix='conds')\n",
    "features = features.join(dummy_units)\n",
    "\n",
    "dummy_units = pd.get_dummies(df['day_week'], prefix='dow')\n",
    "features = features.join(dummy_units)\n",
    "\n",
    "#dummy_units = pd.get_dummies(df['station'], prefix='station')\n",
    "#features = features.join(dummy_units)\n",
    "Y = values\n",
    "X = features\n",
    "X = sm.add_constant(X)\n",
    "model = sm.OLS(Y,X)\n",
    "results = model.fit()\n",
    "intercept =  results.params[0]\n",
    "params = results.params\n",
    "\n",
    "intercept, params\n",
    "\n",
    "print results.summary()\n",
    "predictions = intercept + np.dot(features, params[1:])"
   ]
  },
  {
   "cell_type": "markdown",
   "metadata": {},
   "source": [
    "### 2.2 What features (input variables) did you use in your model? "
   ]
  },
  {
   "cell_type": "code",
   "execution_count": 24,
   "metadata": {
    "collapsed": false,
    "scrolled": true
   },
   "outputs": [
    {
     "data": {
      "text/plain": [
       "const        8285.209460\n",
       "precipi     -1371.611180\n",
       "rain           37.875636\n",
       "hour          119.153812\n",
       "wspdi          17.431536\n",
       "fog          -371.974689\n",
       "tempi           2.701452\n",
       "pressurei    -326.181030\n",
       "dtype: float64"
      ]
     },
     "execution_count": 24,
     "metadata": {},
     "output_type": "execute_result"
    }
   ],
   "source": [
    "results.params[:8]"
   ]
  },
  {
   "cell_type": "markdown",
   "metadata": {},
   "source": [
    "### Did you use any dummy variables as part of your features? \n",
    "Yes:\n",
    "- UNIT\n",
    "- conds\n",
    "- day_week\n",
    "\n",
    "A dummy variable is a categorical variable [in one column] which is converted into dummy/indicator variables.  What we do is transform or pivot the categorical variable from one column into many columns and the value in the column is either a 1 or 0 to inidicate if a row from this sample contains this dummy/indicator variable.\n",
    "\n",
    "Hourly entries are associated to a turnstyle which can be located in a heavy populated area to a less populated area of New York.  Units in highly populated areas will be more popular, have more hourly entries than other units. \n",
    "\n",
    "Using the turnstyles as dummy variables one is able to make better predications.\n",
    "\n",
    "Conditions were used as dummy variables as well as day of the week (M,T,W,Th, F, Sat, Sun) since rainy days are typically cloudy or another condition and weekend ridership is less on the weekends than weekdays.\n",
    "\n",
    "**Example Conditions Coefficients:**  \n",
    "conds_Clear: 695.0809   \n",
    "conds_Fog: 1162.0372   \n",
    "conds_Mist: 1406.2281    \n",
    "\n",
    "**Example Day of the weekCoefficients:**   \n",
    "dow_0: 1099.0852     \n",
    "dow_1: 1450.2563   \n",
    "dow_2: 1553.0466   \n",
    "dow_3: 1594.1534   \n",
    "dow_4: 1558.3367   \n",
    "dow_5:  653.5154   \n",
    "dow_6: 376.8159  \n",
    "(0:N, 1:T, 2:W, 3:TH, 4:F, 5:S, 6:S)\n",
    "\n",
    "Weekend days have a smaller coefficient.\n",
    "\n",
    "\n",
    "**Example UNIT Dummy Variables:**  \n",
    "\n",
    "unit_R012 is positive coefficeint while unit_R008 has a negative coefficent.\n",
    "When unit_R012 is set to 1, meaning this row of data is at this turnstyle, we will add 6856 to the linear equation and the hourly entries.   The opposite will occur with unit_R008, we will subtract -1424 hourly entries when the row of data has a 1 value in the unit_R008 column's value.\n",
    "\n",
    "Less popular stations/Units have a smaller or even negative coefficient."
   ]
  },
  {
   "cell_type": "code",
   "execution_count": 25,
   "metadata": {
    "collapsed": false
   },
   "outputs": [
    {
     "data": {
      "text/plain": [
       "unit_R007   -1473.250608\n",
       "unit_R008   -1456.005022\n",
       "unit_R009   -1505.748840\n",
       "unit_R011    5584.744426\n",
       "unit_R012    6925.881311\n",
       "unit_R013     824.322171\n",
       "unit_R016    -988.375319\n",
       "unit_R017    2439.316795\n",
       "dtype: float64"
      ]
     },
     "execution_count": 25,
     "metadata": {},
     "output_type": "execute_result"
    }
   ],
   "source": [
    "results.params[12:20]"
   ]
  },
  {
   "cell_type": "markdown",
   "metadata": {},
   "source": [
    "\n",
    "### 2.3 Why did you select these features in your model? \n",
    "\n",
    "I reviewed the data and would remove and add features one at a time and observe the r-squared result and the residual plots.\n",
    "\n",
    "Rain and meanprecipi were used because we are looking for the trend that rain causes more hourly entries and rain and the amount (average) rain during a time period can influcnce a person to ride the subway.   A light rain or sprinkle might also lead to more people riding the subway.\n",
    "\n",
    "People ride the subway during all hours of the day but we have spikes in the morning and afternoon due to people commuting to New York so hour was used as part of the feature selection.\n",
    "\n",
    "Ridership on the subway declines on the weekends therefore it is important to have the day of the week in the feature set so we can get more accurate predications since a weekday or 0 to 6 would have a coefficient.\n"
   ]
  },
  {
   "cell_type": "markdown",
   "metadata": {},
   "source": [
    "### 2.4 What are the parameters (also known as \"coefficients\" or \"weights\") of the non-dummy features in your linear regression model? "
   ]
  },
  {
   "cell_type": "code",
   "execution_count": 26,
   "metadata": {
    "collapsed": false
   },
   "outputs": [
    {
     "data": {
      "text/plain": [
       "const        8285.209460\n",
       "precipi     -1371.611180\n",
       "rain           37.875636\n",
       "hour          119.153812\n",
       "wspdi          17.431536\n",
       "fog          -371.974689\n",
       "tempi           2.701452\n",
       "pressurei    -326.181030\n",
       "dtype: float64"
      ]
     },
     "execution_count": 26,
     "metadata": {},
     "output_type": "execute_result"
    }
   ],
   "source": [
    "results.params[:8]"
   ]
  },
  {
   "cell_type": "markdown",
   "metadata": {},
   "source": [
    "### 2.5 What is your model’s R2 (coefficients of determination) value?"
   ]
  },
  {
   "cell_type": "code",
   "execution_count": 27,
   "metadata": {
    "collapsed": false
   },
   "outputs": [
    {
     "name": "stdout",
     "output_type": "stream",
     "text": [
      "OLS Models R-Squared: \t0.49\n"
     ]
    }
   ],
   "source": [
    "# Validate the results from OLS, and just for myself to learn R-Square\n",
    "SST = ((df['ENTRIESn_hourly']-np.mean(df['ENTRIESn_hourly']))**2).sum()\n",
    "SSReg = ((predictions-df['ENTRIESn_hourly'])**2).sum()\n",
    "r_squared = 1 - (SSReg/SST)\n",
    "#print 'Validate R-Squared: \\t%.3f' % r_squared\n",
    "\n",
    "print 'OLS Models R-Squared: \\t%.2f' % results.rsquared"
   ]
  },
  {
   "cell_type": "markdown",
   "metadata": {},
   "source": [
    "### 2.6 What does this R^2 value mean for the goodness of fit for your regression model?\n",
    "R^2, the coefficient of determination with a range of 0 to 1, is a number that indicates how well data fit a statistical model.   In general the closer to 1 the better the model and the closer to 0 the poorer the model. \n",
    "\n",
    "The R^2 is a value of measure of goodness of fit of the mode so it can validate whether the model itself is a good model and R^2 does not explain anything about the effect of rain and the number of hourly entries.\n",
    "\n",
    "The features chosen have explained 49% of the original variability and we are left with 51% residual variablility.\n",
    "\n",
    "###  Do you think this linear model to predict ridership is appropriate for this dataset, given this R2 value?\n",
    "\n",
    "Our model is appropriate and has room for improvement and/or is missing a feature (review the Predications vs Actual, and Predications vs Residuals) or the different population density areas need to be grouped into different datasets or samples."
   ]
  },
  {
   "cell_type": "markdown",
   "metadata": {},
   "source": [
    "#### Residual Plot - Histogram"
   ]
  },
  {
   "cell_type": "code",
   "execution_count": 28,
   "metadata": {
    "collapsed": false,
    "scrolled": false
   },
   "outputs": [
    {
     "data": {
      "text/plain": [
       "<matplotlib.text.Text at 0x7f5aaa5c8390>"
      ]
     },
     "execution_count": 28,
     "metadata": {},
     "output_type": "execute_result"
    },
    {
     "data": {
      "image/png": "[encoded data removed]",
      "text/plain": [
       "<matplotlib.figure.Figure at 0x7f5aaa74dc90>"
      ]
     },
     "metadata": {},
     "output_type": "display_data"
    }
   ],
   "source": [
    "residuals = df['ENTRIESn_hourly'] - predictions \n",
    "# how can I be sure the dataframe and predications line up on the correct row\n",
    "plt.figure()\n",
    "residuals.hist(bins=250,alpha=0.5)\n",
    "plt.title(r'Histogram of (ENTRIESn_hourly - predictions)')\n",
    "plt.xlabel('Residuals')\n",
    "plt.ylabel('Freqeuncy')"
   ]
  },
  {
   "cell_type": "markdown",
   "metadata": {},
   "source": [
    "The following residuals plot is useful evidence for the linear regression model being appropriate. The distribution looks reasonably symmetric.\n",
    "\n",
    "> “Residuals can be thought of as elements of variation unexplained by the fitted model. Since this is a form of error, the same general assumptions apply to the group of residuals that we typically use for errors in general: one expects them to be (roughly) normal and (approximately) independently distributed with a mean of 0 and some constant variance.” \n",
    "\n",
    "\n",
    "http://www.itl.nist.gov/div898/handbook/pri/section2/pri24.htm "
   ]
  },
  {
   "cell_type": "code",
   "execution_count": 29,
   "metadata": {
    "collapsed": false
   },
   "outputs": [],
   "source": [
    "'''\n",
    "Testing how well the linear model performs\n",
    "http://docs.statwing.com/interpreting-residual-plots-to-improve-your-regression/\n",
    "'''\n",
    "# create a dataframe of the actual, predications and residuals\n",
    "pd.options.mode.chained_assignment = None\n",
    "cmpr = df[['UNIT', 'datetime','ENTRIESn_hourly' ]]\n",
    "cmpr['predictions'] = predictions\n",
    "cmpr['residuals'] = cmpr['ENTRIESn_hourly'] - cmpr['predictions']\n",
    "cmpr['residuals_standardized'] = (cmpr['ENTRIESn_hourly'] - cmpr['predictions'])/np.sqrt(cmpr['predictions'])"
   ]
  },
  {
   "cell_type": "code",
   "execution_count": 30,
   "metadata": {
    "collapsed": false
   },
   "outputs": [
    {
     "data": {
      "text/plain": [
       "<matplotlib.text.Text at 0x7f5aabd72610>"
      ]
     },
     "execution_count": 30,
     "metadata": {},
     "output_type": "execute_result"
    },
    {
     "data": {
      "image/png": "[encoded data removed]",
      "text/plain": [
       "<matplotlib.figure.Figure at 0x7f5aabe2fc90>"
      ]
     },
     "metadata": {},
     "output_type": "display_data"
    }
   ],
   "source": [
    "# create a dataframe of the actual, predications and residuals\n",
    "a = plt.scatter(x=cmpr['predictions'], y=cmpr['ENTRIESn_hourly'], color='red', alpha=0.25)\n",
    "plt.xlabel(\"Predictions\")\n",
    "plt.ylabel(\"ACTUAL\")\n",
    "plt.title(\"Predications vs Actual\")"
   ]
  },
  {
   "cell_type": "markdown",
   "metadata": {},
   "source": [
    "In this plot each point is one hourly predication, where the prediction made by the model is on the x-axis, and the Actual value of the hourly entry is on the y-axis. \n",
    "\n",
    "The model’s predictions aren’t very good at all once we start to model the higher number of hourly entries.\n",
    "\n",
    "The model’s predictions start being very precise and as the model progresses we see a large variability as number of hourly entries increase.  This could be an affect of the variability in hourly entries (low and high values) for the different Units."
   ]
  },
  {
   "cell_type": "code",
   "execution_count": 31,
   "metadata": {
    "collapsed": false,
    "scrolled": true
   },
   "outputs": [
    {
     "data": {
      "text/plain": [
       "<matplotlib.text.Text at 0x7f5aaacfae50>"
      ]
     },
     "execution_count": 31,
     "metadata": {},
     "output_type": "execute_result"
    },
    {
     "data": {
      "image/png": "[encoded data removed]",
      "text/plain": [
       "<matplotlib.figure.Figure at 0x7f5aaa5edd90>"
      ]
     },
     "metadata": {},
     "output_type": "display_data"
    }
   ],
   "source": [
    "# create a dataframe of the predications and residuals\n",
    "a = plt.scatter(x=cmpr['predictions'], y=cmpr['residuals'], color='blue', alpha=0.25)\n",
    "plt.xlabel(\"Predictions\")\n",
    "plt.ylabel(\"Residuals\")\n",
    "plt.title(\"Predications vs Residiuals\")"
   ]
  },
  {
   "cell_type": "markdown",
   "metadata": {},
   "source": [
    "Residual = Observed – Predicted  \n",
    "\n",
    "In this plot  each point is one hourly predication, where the prediction made by the model is on the x-axis, and the accuracy of the prediction is on the y-axis. The distance from the line at 0 is how bad the prediction was for that value.\n",
    "\n",
    "\n",
    "\n",
    "Positive values for the residual (on the y-axis) mean the prediction was too low, and negative values mean the prediction was too high; 0 means the guess was exactly correct.\n",
    "\n",
    "As the Predications (Hourly Entries) increases we see we have less precise predications."
   ]
  },
  {
   "cell_type": "markdown",
   "metadata": {},
   "source": [
    "## Section 3. Visualization\n",
    "\n",
    "Please include two visualizations that show the relationships between two or more variables in the NYC subway data.  \n",
    "\n",
    "Remember to add appropriate titles and axes labels to your plots. Also, please add a short description below each figure commenting on the key insights depicted in the figure.\n",
    "\n"
   ]
  },
  {
   "cell_type": "markdown",
   "metadata": {},
   "source": [
    "### 3.1 One visualization should contain two histograms: one of  ENTRIESn_hourly for rainy days and one of ENTRIESn_hourly for non-rainy days."
   ]
  },
  {
   "cell_type": "code",
   "execution_count": 32,
   "metadata": {
    "collapsed": false
   },
   "outputs": [
    {
     "data": {
      "text/plain": [
       "<matplotlib.text.Text at 0x7f5aaa76a090>"
      ]
     },
     "execution_count": 32,
     "metadata": {},
     "output_type": "execute_result"
    },
    {
     "data": {
      "image/png": "[encoded data removed]",
      "text/plain": [
       "<matplotlib.figure.Figure at 0x7f5aaa813590>"
      ]
     },
     "metadata": {},
     "output_type": "display_data"
    }
   ],
   "source": [
    "plt.figure()\n",
    "#bins\n",
    "binSize = 250\n",
    "# your code here to plot a historgram for hourly entries when it is not raining\n",
    "norain['ENTRIESn_hourly'].hist(color='blue', label='No Rain', bins=binSize,alpha=0.75)\n",
    "# your code here to plot a historgram for hourly entries when it is raining\n",
    "rain['ENTRIESn_hourly'].hist(color='green',label='Rain',bins=binSize)\n",
    "plt.legend()\n",
    "plt.title(r'Histogram of ENTRIESn_hourly')\n",
    "plt.xlabel('ENTRIESn_hourly')\n",
    "plt.xlim(0,6000)\n",
    "plt.ylabel('Freqeuncy')\n"
   ]
  },
  {
   "cell_type": "markdown",
   "metadata": {},
   "source": [
    "The histogram shows the distribution is non-normal for riders during rainy and non rainy days.  Skewed data often occur due to lower or upper bounds on the data. That is, data that have a lower bound are often skewed right while data that have an upper bound are often skewed left.  The rain and rainy day hourly entries are skewed to the left."
   ]
  },
  {
   "cell_type": "markdown",
   "metadata": {},
   "source": [
    "## 3.2 One visualization can be more freeform. \n",
    "\n",
    "You should feel free to implement something that we discussed in class (e.g., scatter plots, line plots) or attempt to implement something more advanced if you'd like. Some suggestions are:\n",
    "Ridership by time-of-day\n",
    "Ridership by day-of-week"
   ]
  },
  {
   "cell_type": "code",
   "execution_count": 33,
   "metadata": {
    "collapsed": false
   },
   "outputs": [
    {
     "ename": "NameError",
     "evalue": "global name 'dateti' is not defined",
     "output_type": "error",
     "traceback": [
      "\u001b[1;31m---------------------------------------------------------------------------\u001b[0m",
      "\u001b[1;31mNameError\u001b[0m                                 Traceback (most recent call last)",
      "\u001b[1;32m<ipython-input-33-510e0e034573>\u001b[0m in \u001b[0;36m<module>\u001b[1;34m()\u001b[0m\n\u001b[0;32m     11\u001b[0m \u001b[1;33m\u001b[0m\u001b[0m\n\u001b[0;32m     12\u001b[0m \u001b[0mrain\u001b[0m\u001b[1;33m[\u001b[0m\u001b[1;34m'day'\u001b[0m\u001b[1;33m]\u001b[0m \u001b[1;33m=\u001b[0m \u001b[0mrain\u001b[0m\u001b[1;33m[\u001b[0m\u001b[1;34m'datetime'\u001b[0m\u001b[1;33m]\u001b[0m\u001b[1;33m.\u001b[0m\u001b[0mmap\u001b[0m\u001b[1;33m(\u001b[0m\u001b[0mdatetime_to_day\u001b[0m\u001b[1;33m)\u001b[0m\u001b[1;33m\u001b[0m\u001b[0m\n\u001b[1;32m---> 13\u001b[1;33m \u001b[0mrain\u001b[0m\u001b[1;33m[\u001b[0m\u001b[1;34m'iHour'\u001b[0m\u001b[1;33m]\u001b[0m \u001b[1;33m=\u001b[0m \u001b[0mrain\u001b[0m\u001b[1;33m[\u001b[0m\u001b[1;34m'TIMEn'\u001b[0m\u001b[1;33m]\u001b[0m\u001b[1;33m.\u001b[0m\u001b[0mmap\u001b[0m\u001b[1;33m(\u001b[0m\u001b[0mdatetime_to_hour_of_day\u001b[0m\u001b[1;33m)\u001b[0m\u001b[1;33m\u001b[0m\u001b[0m\n\u001b[0m\u001b[0;32m     14\u001b[0m \u001b[1;33m\u001b[0m\u001b[0m\n\u001b[0;32m     15\u001b[0m \u001b[0mnorain\u001b[0m\u001b[1;33m[\u001b[0m\u001b[1;34m'day'\u001b[0m\u001b[1;33m]\u001b[0m \u001b[1;33m=\u001b[0m \u001b[0mnorain\u001b[0m\u001b[1;33m[\u001b[0m\u001b[1;34m'datetime'\u001b[0m\u001b[1;33m]\u001b[0m\u001b[1;33m.\u001b[0m\u001b[0mmap\u001b[0m\u001b[1;33m(\u001b[0m\u001b[0mdatetime_to_day\u001b[0m\u001b[1;33m)\u001b[0m\u001b[1;33m\u001b[0m\u001b[0m\n",
      "\u001b[1;32m/home/cnicholson/anaconda/lib/python2.7/site-packages/pandas/core/series.pyc\u001b[0m in \u001b[0;36mmap\u001b[1;34m(self, arg, na_action)\u001b[0m\n\u001b[0;32m   2014\u001b[0m                                      index=self.index).__finalize__(self)\n\u001b[0;32m   2015\u001b[0m         \u001b[1;32melse\u001b[0m\u001b[1;33m:\u001b[0m\u001b[1;33m\u001b[0m\u001b[0m\n\u001b[1;32m-> 2016\u001b[1;33m             \u001b[0mmapped\u001b[0m \u001b[1;33m=\u001b[0m \u001b[0mmap_f\u001b[0m\u001b[1;33m(\u001b[0m\u001b[0mvalues\u001b[0m\u001b[1;33m,\u001b[0m \u001b[0marg\u001b[0m\u001b[1;33m)\u001b[0m\u001b[1;33m\u001b[0m\u001b[0m\n\u001b[0m\u001b[0;32m   2017\u001b[0m             return self._constructor(mapped,\n\u001b[0;32m   2018\u001b[0m                                      index=self.index).__finalize__(self)\n",
      "\u001b[1;32mpandas/src/inference.pyx\u001b[0m in \u001b[0;36mpandas.lib.map_infer (pandas/lib.c:58435)\u001b[1;34m()\u001b[0m\n",
      "\u001b[1;32m<ipython-input-33-510e0e034573>\u001b[0m in \u001b[0;36mdatetime_to_hour_of_day\u001b[1;34m(string_data)\u001b[0m\n\u001b[0;32m      7\u001b[0m \u001b[1;32mdef\u001b[0m \u001b[0mdatetime_to_hour_of_day\u001b[0m\u001b[1;33m(\u001b[0m\u001b[0mstring_data\u001b[0m\u001b[1;33m)\u001b[0m\u001b[1;33m:\u001b[0m\u001b[1;33m\u001b[0m\u001b[0m\n\u001b[0;32m      8\u001b[0m     \u001b[1;31m#d = datetime.datetime.strptime(string_data, '%Y-%m-%d %H:%M:%S')\u001b[0m\u001b[1;33m\u001b[0m\u001b[1;33m\u001b[0m\u001b[0m\n\u001b[1;32m----> 9\u001b[1;33m     \u001b[0md\u001b[0m \u001b[1;33m=\u001b[0m \u001b[0mdateti\u001b[0m\u001b[1;33m\u001b[0m\u001b[0m\n\u001b[0m\u001b[0;32m     10\u001b[0m     \u001b[1;33m(\u001b[0m\u001b[0md\u001b[0m\u001b[1;33m.\u001b[0m\u001b[0mhour\u001b[0m\u001b[1;33m)\u001b[0m\u001b[1;33m\u001b[0m\u001b[0m\n\u001b[0;32m     11\u001b[0m \u001b[1;33m\u001b[0m\u001b[0m\n",
      "\u001b[1;31mNameError\u001b[0m: global name 'dateti' is not defined"
     ]
    }
   ],
   "source": [
    "# Add the day as interger\n",
    "def datetime_to_day(string_data):\n",
    "    d = datetime.datetime.strptime(string_data, '%Y-%m-%d %H:%M:%S')\n",
    "    return int(d.day)\n",
    "\n",
    "# Add the hours as an interger\n",
    "def datetime_to_hour_of_day(string_data):\n",
    "    #d = datetime.datetime.strptime(string_data, '%Y-%m-%d %H:%M:%S')\n",
    "    d = dateti\n",
    "    (d.hour)\n",
    "\n",
    "rain['day'] = rain['datetime'].map(datetime_to_day)\n",
    "rain['iHour'] = rain['TIMEn'].map(datetime_to_hour_of_day)\n",
    "\n",
    "norain['day'] = norain['datetime'].map(datetime_to_day)\n",
    "norain['iHour'] = norain['TIMEn'].map(datetime_to_hour_of_day)"
   ]
  },
  {
   "cell_type": "code",
   "execution_count": null,
   "metadata": {
    "collapsed": false
   },
   "outputs": [],
   "source": [
    "# note it might not rain the entire day, or it could rain during periods of low activity\n",
    "wd = df[df['weekday']==1]\n",
    "we = df[df['weekday']==0]\n",
    "\n",
    "wd['day'] = wd['datetime'].map(datetime_to_day)\n",
    "we['day'] = we['datetime'].map(datetime_to_day)\n",
    "\n",
    "wd = wd.groupby('day', as_index=True).mean()\n",
    "wd = wd.reset_index()\n",
    "\n",
    "we = we.groupby('day', as_index=True).mean()\n",
    "we = we.reset_index()\n",
    "\n",
    "fig, ax = plt.subplots()\n",
    "index = array(numpy.arange(1,32))\n",
    "#bar_width = 0.35\n",
    "opacity = 0.8\n",
    "\n",
    "p1 = plt.bar(wd['day'], wd['ENTRIESn_hourly'], \n",
    "                 alpha=opacity,\n",
    "                 color='gray',\n",
    "                 label='Weekday')\n",
    "\n",
    "p2 = plt.bar(we['day'], we['ENTRIESn_hourly'],\n",
    "                 alpha=opacity,\n",
    "                 color='yellow',\n",
    "                 label='Weekend')\n",
    "\n",
    "plt.xlabel('Day of the Month (May 2011)')\n",
    "plt.ylabel('ENTRIESn_hourly')\n",
    "plt.title('Bar Plot of Mean Hourly Entries for Weekday & Weekend')\n",
    "plt.legend(loc='best', frameon=False)\n",
    "xticks( index )\n",
    "plt.tight_layout()\n",
    "plt.show()"
   ]
  },
  {
   "cell_type": "markdown",
   "metadata": {},
   "source": [
    "The plot shows a marked decrease on Subway rides during the weekend. \n",
    "Note, if we had more rain days for the dataset during weekends this will affect the distribution, and we should probably remove weekend days from the main dataset when testing for rain vs. no rainy days.   \n",
    " \n",
    "A weekday is not equal to weekend subway use patterns. "
   ]
  },
  {
   "cell_type": "markdown",
   "metadata": {},
   "source": [
    "## Section 4. Conclusion\n",
    "\n",
    "Please address the following questions in detail. Your answers should be 1-2 paragraphs long."
   ]
  },
  {
   "cell_type": "markdown",
   "metadata": {},
   "source": [
    "### 4.1 From your analysis and interpretation of the data, do more people ride the NYC subway when it is raining or when it is not raining?\n",
    "\n",
    "People ride the subway more when it is raining based on the above analysis."
   ]
  },
  {
   "cell_type": "markdown",
   "metadata": {},
   "source": [
    "### 4.2 What analyses lead you to this conclusion? You should use results from both your statistical tests and your linear regression to support your analysis.\n",
    "\n",
    "####Mann Whitney U test \n",
    "\n",
    "Median latencies in groups Rain and No Rain were 939 and 893 hourly entries; the distributions in the two groups differed significantly (Mann–Whitney U = 153,635,120, n(rain) = 9584, n(no rain)= 33064, P < 0.05 two-tailed).\n",
    "\n",
    "#### Additional Support\n",
    "\n",
    "Also the **rain coefficient** from the linear regression is a postive value, which means when we have rain the value is 1 the positive value coefficent is multipled by (1), which increases the hourly entry predications.  The **cond_Mist** coefficient was positive as well which also demonstrates a when the condition is misting we will have more hourly entries.\n",
    "\n",
    "Review section 2.1 and 2.2 for additional coefficients.\n",
    "\n"
   ]
  },
  {
   "cell_type": "markdown",
   "metadata": {},
   "source": [
    "## Section 5. Reflection"
   ]
  },
  {
   "cell_type": "markdown",
   "metadata": {},
   "source": [
    "### 5.1 Please discuss potential shortcomings of the methods of your analysis, including: \n",
    "\n",
    "#### Dataset\n",
    "\n",
    "The\tdataset\tconsisted of one month of subway riders\twith hourly\tentries. Having\tmore data than one month would be beneficial. Three\tyears of data would\tprovide\ta good start to\tcompare\tlike days, months, temperature,\trainy days,\tand\tholidays.  We\tshould\trethink\tthe\tanalysis to\t remove\tthe\tweekend\tdays from the analysis since the total number of riders for a\tweekend\tcould shift\tthe\tmean.\n",
    "\n",
    "\n",
    "#### Linear\tRegression Model\n",
    "\n",
    "I think the linear model is\tadequate base on the residual plots of the hourly entries.  Weekends and Holidays have different use patterns, and locations of turnstiles have different use patterns. Some entries and exits may occur without the person being\tabove ground our outside. (One could ride the rain from Connecticut, exit at Grand Central and then\tre-enter the Subway).\n",
    "\n",
    "With respect to\tthe linear regression model the ridership of the subway\tmight find a better fit\twith a non-linear model.  This leads us to believe our model is missing a variable or we need to split the data apart and see if we can group stations or turnstyles into more normalized groups.\t\t\n"
   ]
  },
  {
   "cell_type": "markdown",
   "metadata": {},
   "source": [
    "### 5.2 (Optional) Do you have any other insight about the dataset that you would like to share with us?\n",
    "\n",
    "May 14-20th was a very rainy set of consectutive days for NYC."
   ]
  },
  {
   "cell_type": "markdown",
   "metadata": {},
   "source": [
    "# Referenecs\n",
    "\n",
    "Python 3.4.2 Documentation     \n",
    "Retrieved from https://docs.python.org/\n",
    "\n",
    "ggplot from yhat   \n",
    "Retrieved from http://ggplot.yhathq.com/\n",
    "\n",
    "SciPy.org    \n",
    "Retrieved from http://scipy.org/\n",
    "\n",
    "Engineering Statistics    \n",
    "Retrieved from http://www.itl.nist.gov/div898/handbook/\n",
    "\n",
    "5.2.4.  Are the model residuals well-behaved? [Blog Post]   \n",
    "Retrieved from http://www.itl.nist.gov/div898/handbook/pri/section2/pri24.htm\n",
    "\n",
    "The Minitab Blog What Is the Difference between Linear and Nonlinear Equations in Regression Analysis? [Blog Post]  \n",
    "Retrieved from http://blog.minitab.com/blog/adventures-in-statistics \n",
    "\n",
    "The Minitab Blog Regression Analysis how do I interpret R Squared and assess the goodness of fit. [Blog Post]  \n",
    "Retrieved from http://blog.minitab.com/blog/adventures-in-statistics/regression-analysis-how-do-i-interpret-r-squared-and-assess-the-goodness-of-fit\n",
    "\n",
    "What are the differences between one-tailed and two-tailed tests? [Blog Post]   \n",
    "Retrieved from http://www.ats.ucla.edu/stat/mult_pkg/faq/general/tail_tests.htm\n",
    "\n",
    "Dummy Variables [Wiki Post]   \n",
    "Retrieved from http://en.wikipedia.org/wiki/Dummy_variable_(statistics) \n",
    "\n",
    "Mann-Whitney U Test using SPSS [Blog Post]   \n",
    "Retrieved from https://statistics.laerd.com/spss-tutorials/mann-whitney-u-test-using-spss-statistics.phpRegression \n",
    "\n",
    "Independent T-Test for Two Samples [Blog Post]   \n",
    "Retrieved from https://statistics.laerd.com/statistical-guides/independent-t-test-statistical-guide.php\n",
    "\n",
    "Analysis – How to Interpret the Constant Y Intercept [Blog Post]   \n",
    "Retrieved from http://blog.minitab.com/blog/adventures-in-statistics/regression-analysis-how-to-interpret-the-constant-y-intercept \n",
    "\n",
    "Coding in the Rain [Blog Post]   \n",
    "Retrieved From http://drjasondavis.com/2013/07/08/coding-in-the-rain/ \n",
    "\n",
    "Mann-Whitney U Test using SPSS  \n",
    "Retrieved From https://statistics.laerd.com/spss-tutorials/mann-whitney-u-test-using-spss-statistics.php"
   ]
  },
  {
   "cell_type": "code",
   "execution_count": null,
   "metadata": {
    "collapsed": true
   },
   "outputs": [],
   "source": []
  }
 ],
 "metadata": {
  "kernelspec": {
   "display_name": "Python 2",
   "language": "python",
   "name": "python2"
  },
  "language_info": {
   "codemirror_mode": {
    "name": "ipython",
    "version": 2
   },
   "file_extension": ".py",
   "mimetype": "text/x-python",
   "name": "python",
   "nbconvert_exporter": "python",
   "pygments_lexer": "ipython2",
   "version": "2.7.10"
  }
 },
 "nbformat": 4,
 "nbformat_minor": 0
}
