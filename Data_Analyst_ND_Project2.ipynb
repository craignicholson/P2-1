{
 "cells": [
  {
   "cell_type": "markdown",
   "metadata": {},
   "source": [
    "# Analyzing the NYC Subway Dataset\n",
    "\n",
    "Craig Nicholson\n",
    "September 9th 2015\n",
    "\n",
    "In this notebook, we will review look the NYC Subway data and determine if more people ride the subway when it is raining versus when it is not raining."
   ]
  },
  {
   "cell_type": "markdown",
   "metadata": {},
   "source": [
    "## Imports"
   ]
  },
  {
   "cell_type": "code",
   "execution_count": 101,
   "metadata": {
    "collapsed": false
   },
   "outputs": [],
   "source": [
    "import pandas as pd\n",
    "import numpy as np\n",
    "import scipy.stats as stats\n",
    "import statsmodels as sm\n",
    "from scipy.stats import ttest_ind"
   ]
  },
  {
   "cell_type": "code",
   "execution_count": 102,
   "metadata": {
    "collapsed": false
   },
   "outputs": [
    {
     "name": "stdout",
     "output_type": "stream",
     "text": [
      "Populating the interactive namespace from numpy and matplotlib\n"
     ]
    }
   ],
   "source": [
    "# display plot within the notebook rather than a new window\n",
    "%pylab inline\n",
    "\n",
    "import matplotlib.pyplot as plt"
   ]
  },
  {
   "cell_type": "markdown",
   "metadata": {},
   "source": [
    "## Load the Data"
   ]
  },
  {
   "cell_type": "code",
   "execution_count": 103,
   "metadata": {
    "collapsed": false
   },
   "outputs": [],
   "source": [
    "# load the stroopdata.csv\n",
    "path = '~/Downloads/P2-1/turnstile_weather_v2.csv'\n",
    "df = pd.read_csv(path)"
   ]
  },
  {
   "cell_type": "code",
   "execution_count": 104,
   "metadata": {
    "collapsed": false
   },
   "outputs": [],
   "source": [
    "# fetch two samples, the one with rain and the one without rain\n",
    "# 1 = rain, 0 = no rain for the entry\n",
    "# reset the indexes since we have new dataframes\n",
    "rain = df[df['rain']==1].reset_index()\n",
    "norain =  df[df['rain']==0].reset_index()\n"
   ]
  },
  {
   "cell_type": "markdown",
   "metadata": {},
   "source": [
    "## Section 1. Statistical Test\n",
    "\n",
    "The mean difference of people ride the subway when it is raining versus when it is not raining.\n",
    "#### null Hypothesis\n",
    "H0: μd = μ0\n",
    "#### Alternate Hypothesis\n",
    "HA: μd ≠ μ0\n",
    "#### Statistical Test\n",
    "Since we have one large sample and are reviewing riders on the days it is raining vs. not raining we will run an Independant T-test.  And the ENTRIESn_hourly occurs over a date range.\n",
    "#### Independant variables\n",
    "Rain vs No Rain\n",
    "#### Dependent variable\n",
    "The number of ENTRIESn_hourly"
   ]
  },
  {
   "cell_type": "markdown",
   "metadata": {},
   "source": [
    "## Data Validation"
   ]
  },
  {
   "cell_type": "markdown",
   "metadata": {},
   "source": [
    "any mising dates  \n",
    "are all dates valid  \n",
    "any missing ENTRIESn_hourly  \n",
    "any missing hours, any hours out of the correct date?  \n",
    "we have day_week can we use this for the weekend   \n",
    "do we have folks using more UNITs in other areas more than others...   \n",
    "what happens on the weekend with the data...  \n",
    "when it rains does it rain for all hours in the day or just like early in the AM...\n",
    "what is the hourly entries like throughout the day... \n"
   ]
  },
  {
   "cell_type": "markdown",
   "metadata": {},
   "source": [
    "## Calculations"
   ]
  },
  {
   "cell_type": "code",
   "execution_count": 181,
   "metadata": {
    "collapsed": false
   },
   "outputs": [
    {
     "name": "stdout",
     "output_type": "stream",
     "text": [
      "5.33483986013 9.61154838577e-08\n"
     ]
    }
   ],
   "source": [
    "# t-test via scipy  - run this first , and then review and calculate to learn the math\n",
    "# returns t-statistic and two-tailed p-value\n",
    "# If False, perform Welch’s t-test, which does not assume equal population \n",
    "# variance [R369]. .. versionadded:: 0.11.0\n",
    "        \n",
    "\n",
    "# note to self, how do I determine the direction, of the shift... by the mean?\n",
    "# if the mean for rain is higher than no rain... this is a right shift.\n",
    "# is this the typical implementation \n",
    "\n",
    "# returns -5.33\n",
    "t_test_results = stats.ttest_ind(norain['ENTRIESn_hourly'],rain['ENTRIESn_hourly']\n",
    "                                 ,equal_var = True)\n",
    "\n",
    "# returns 5.33\n",
    "t_test_results = stats.ttest_ind(rain['ENTRIESn_hourly'],norain['ENTRIESn_hourly']\n",
    "                                 ,equal_var = True)\n",
    "\n",
    "t_statistic = t_test_results[0]\n",
    "p_value = t_test_results[1]\n",
    "print t_statistic, p_value"
   ]
  },
  {
   "cell_type": "code",
   "execution_count": 190,
   "metadata": {
    "collapsed": false
   },
   "outputs": [
    {
     "name": "stdout",
     "output_type": "stream",
     "text": [
      "153635120.5 2.74106957124e-06\n"
     ]
    }
   ],
   "source": [
    "# The Mann-Whitney U test is used to compare differences between two independent groups \n",
    "# when the dependent variable is either ordinal or continuous, but not normally distributed. \n",
    "# Returns The Mann-Whitney statistics, p-value (one sided)\n",
    "# Mann-Whitney U is significant if the u-obtained is LESS THAN or equal to the critical value of U\n",
    "# I think this is insignificant here... because of Mann Whitney.  Hard to figure out U critical value\n",
    "# http://www.real-statistics.com/statistics-tables/mann-whitney-table/\n",
    "# http://sphweb.bumc.bu.edu/otlt/MPH-Modules/BS/BS704_Nonparametric/BS704_Nonparametric4.html\n",
    "# \n",
    "u_statistic, mannwhitney_p_value = stats.mannwhitneyu(norain['ENTRIESn_hourly'], rain['ENTRIESn_hourly']\n",
    "                                                      , use_continuity=True)\n",
    "print u_statistic,mannwhitney_p_value"
   ]
  },
  {
   "cell_type": "code",
   "execution_count": 130,
   "metadata": {
    "collapsed": false
   },
   "outputs": [],
   "source": [
    "# Get the (n) number of samples in each \n",
    "rain_n = rain['UNIT'].count() \n",
    "norain_n = norain['UNIT'].count() \n",
    "\n",
    "# Get the (df) number of samples in each \n",
    "# We are using the independent t test \n",
    "rain_df = rain_n-1\n",
    "norain_df = norain_n-1\n",
    "pooled_df = rain_df+norain_df"
   ]
  },
  {
   "cell_type": "code",
   "execution_count": 131,
   "metadata": {
    "collapsed": true
   },
   "outputs": [],
   "source": [
    "# Get the means and medians for the rain\n",
    "rain_xbar= rain['ENTRIESn_hourly'].mean()\n",
    "rain_median = rain['ENTRIESn_hourly'].median()\n",
    "\n",
    "# Get the means and medians for the norain\n",
    "norain_xbar = norain['ENTRIESn_hourly'].mean()\n",
    "norain_median = norain['ENTRIESn_hourly'].median()"
   ]
  },
  {
   "cell_type": "code",
   "execution_count": 132,
   "metadata": {
    "collapsed": false
   },
   "outputs": [
    {
     "name": "stdout",
     "output_type": "stream",
     "text": [
      "3189.26699226 2878.72731433\n"
     ]
    }
   ],
   "source": [
    "# Get the standard deviations of the samples\n",
    "# http://docs.scipy.org/doc/scipy/reference/generated/scipy.stats.ttest_rel.html\n",
    "rain_sd = stats.tstd(rain['ENTRIESn_hourly'], limits=None, inclusive=(True, True))\n",
    "norain_sd = stats.tstd(norain['ENTRIESn_hourly'], limits=None, inclusive=(True, True))\n",
    "\n",
    "# Standard Error of the Mean\n",
    "# I need to run this calculations myself and valiate the independant test\n",
    "rain_se = stats.sem(rain['ENTRIESn_hourly'], axis=None, ddof=rain_df)\n",
    "norain_se = stats.sem(norain['ENTRIESn_hourly'], axis=None, ddof=norain_df)\n",
    "print rain_se, norain_se"
   ]
  },
  {
   "cell_type": "code",
   "execution_count": 109,
   "metadata": {
    "collapsed": true
   },
   "outputs": [],
   "source": [
    "# Calculate the t-critical value, instead of using a table - woohoo\n",
    "# http://docs.scipy.org/doc/scipy-0.15.1/reference/generated/scipy.stats.t.html\n",
    "# By adding 1 to 0.95 and then dividing by 2, we get the critical value for 2 tail test\n",
    "degrees_of_freedom = pooled_df\n",
    "#critical_value = stats.t._ppf((1+0.95)/2., degrees_of_freedom)\n",
    "critical_value = stats.t._ppf((1+0.99)/2., degrees_of_freedom)"
   ]
  },
  {
   "cell_type": "code",
   "execution_count": 110,
   "metadata": {
    "collapsed": false
   },
   "outputs": [
    {
     "name": "stdout",
     "output_type": "stream",
     "text": [
      "97493098540.7 2.74003713901e+11\n"
     ]
    }
   ],
   "source": [
    "# Calculate Sum of Squares (SS for rain), pooled var, pooled SE\n",
    "# (X1 - XBar)**2\n",
    "rain_SS = np.sum((rain['ENTRIESn_hourly']-rain_xbar)**2)\n",
    "norain_SS = np.sum((norain['ENTRIESn_hourly']-norain_xbar)**2)\n",
    "print rain_SS,norain_SS"
   ]
  },
  {
   "cell_type": "code",
   "execution_count": 133,
   "metadata": {
    "collapsed": false
   },
   "outputs": [
    {
     "name": "stdout",
     "output_type": "stream",
     "text": [
      "97493098540.7 2.74003713901e+11\n",
      "3189.43337288 2878.77084798\n"
     ]
    }
   ],
   "source": [
    "# Validate the above equation for rain\n",
    "rain['dff_mean_var']  = rain['ENTRIESn_hourly']-rain_xbar\n",
    "rain['SS'] = np.square(rain['dff_mean_var'])\n",
    "\n",
    "# Validate the above equation for rain\n",
    "norain['dff_mean_var']  = norain['ENTRIESn_hourly']-norain_xbar\n",
    "norain['SS'] = np.square(norain['dff_mean_var'])\n",
    "print  rain['SS'].sum(), norain['SS'].sum()\n",
    "\n",
    "# Calculate the Standard Error for each for checking scipy and learning std error\n",
    "print np.sqrt(rain['SS'].sum()/rain_df), np.sqrt(norain['SS'].sum()/norain_df)"
   ]
  },
  {
   "cell_type": "code",
   "execution_count": 112,
   "metadata": {
    "collapsed": false
   },
   "outputs": [
    {
     "name": "stdout",
     "output_type": "stream",
     "text": [
      "8710971.75513\n"
     ]
    }
   ],
   "source": [
    "# Pooled Varience is the Total of the Sum of Squares  / Total df\n",
    "pooled_varience = (rain_SS+norain_SS)/(pooled_df)\n",
    "print pooled_varience"
   ]
  },
  {
   "cell_type": "code",
   "execution_count": 113,
   "metadata": {
    "collapsed": false
   },
   "outputs": [
    {
     "name": "stdout",
     "output_type": "stream",
     "text": [
      "34.2384404399\n"
     ]
    }
   ],
   "source": [
    "# Corrected Standard Error is the Total of the Sum of Squares  / Total Degrees of freedom\n",
    "# SE Corrected with pooled var\n",
    "# divide by n- sample size not df.\n",
    "# the standard error is never negative\n",
    "# Pooled Variance Sum of Squares has some corrections it uses the df instead of the sample sizes\n",
    "pooled_SE = np.sqrt(pooled_varience/rain_n + pooled_varience/norain_n)\n",
    "print pooled_SE"
   ]
  },
  {
   "cell_type": "code",
   "execution_count": 134,
   "metadata": {
    "collapsed": false
   },
   "outputs": [
    {
     "name": "stdout",
     "output_type": "stream",
     "text": [
      "5.33483986013\n"
     ]
    }
   ],
   "source": [
    "# calculate the t-statistic, to compare with scipy\n",
    "t_stat_check = (rain_xbar-norain_xbar)/pooled_SE\n",
    "print t_stat_check"
   ]
  },
  {
   "cell_type": "code",
   "execution_count": 135,
   "metadata": {
    "collapsed": true
   },
   "outputs": [],
   "source": [
    "# r squared\n",
    "r_squared = ( np.square(t_statistic) /  (np.square(t_statistic) + (degrees_of_freedom)  ))"
   ]
  },
  {
   "cell_type": "code",
   "execution_count": 136,
   "metadata": {
    "collapsed": false
   },
   "outputs": [],
   "source": [
    "# Cohens D\n",
    "cohens_d = (rain_xbar-norain_xbar)/pooled_SD"
   ]
  },
  {
   "cell_type": "code",
   "execution_count": 139,
   "metadata": {
    "collapsed": true
   },
   "outputs": [],
   "source": [
    "# Calculate Confidence Intervals Independent Samples\n",
    "# SE +/- (t_critical * SE) \n",
    "# https://www.udacity.com/course/viewer#!/c-ud134-nd/l-4576163829/e-154863542/m-154863544\n",
    "lower_CI = (rain_xbar-norain_xbar)-(critical_value*pooled_SE)\n",
    "upper_CI = (rain_xbar-norain_xbar)+(critical_value*pooled_SE)"
   ]
  },
  {
   "cell_type": "markdown",
   "metadata": {},
   "source": [
    "### 1.1 Which statistical test did you use to analyze the NYC subway data? \n",
    "The independent-samples t-test (or independent t-test, for short) compares the means between two unrelated groups on the same continuous, dependent variable.\n",
    "\n",
    "The independent t-test, also called the two sample t-test or student's t-test, is an inferential statistical test that determines whether there is a statistically significant difference between the means in two unrelated groups.\n",
    "\n",
    "### Did you use a one-tail or a two-tail P value?\n",
    "A two-tail test is used to analze the data.\n",
    "\n",
    "### What is the null hypothesis?\n",
    "There is no difference in hourly entries for rainy and non rainy days:\n",
    "\n",
    "H0: u1 = u2\n",
    "\n",
    "HA: u1 ≠ u2  \n",
    "note: In most cases, we are looking to see if we can show that we can reject the null hypothesis and accept the alternative hypothesis, which is that the population means are not equal:\n",
    "\n",
    "\n",
    "### What is your p-critical value?\n",
    "t-critical is +/- 2.58  \n",
    "p critical is 0.001 (alpha) \n"
   ]
  },
  {
   "cell_type": "markdown",
   "metadata": {},
   "source": [
    "### 1.2 Why is this statistical test applicable to the dataset?\n",
    "\n",
    "We have two unrelated groups on the same continuous, dependent variable, with different sample sizes.\n",
    "\n",
    "###  In particular, consider the assumptions that the test is making about the distribution of ridership in the two samples.\n",
    "\n",
    "#### Assumption of normality of the dependent variable - ANSWERED\n",
    "The independent t-test requires that the dependent variable is approximately normally distributed **within each group**. We can test for this using a multitude of tests, but the Shapiro-Wilks Test or a graphical method, such as a Q-Q Plot, are very common. \n",
    "\n",
    "However, the t-test is described as a robust test with respect to the assumption of normality. This means that even deviations away from normality do not have a large influence on Type I error rates. The exception to this is if the difference in the size of the groups is greater than 1.5 (largest compared to smallest).\n",
    "\n",
    "RAIN IS 3.44 times smaller than no rain hourly entries so it possible to be un normal.\n",
    "\n",
    "Our distributions are skewed distributions in the positive direction.  The distributions are similar.\n",
    "\n",
    "A distribution is skewed if one of its tails is longer than the other. The first distribution shown has a positive skew. This means that it has a long tail in the positive direction. The distribution below it has a negative skew since it has a long tail in the negative direction.\n",
    "\n",
    "\n",
    "#### What to do when you violate the normality assumption\n",
    "(2) run the Mann-Whitney U Test which is a non-parametric test that does not require the assumption of normality (to run this test in SPSS see our guide on the Mann-Whitney U Test).\n",
    "\n",
    "#### Assumption of Homogeneity of Variance\n",
    "The independent t-test assumes the variances of the two groups you are measuring to be equal. \n",
    "\n",
    "If your variances are unequal, this can affect the Type I error rate. The assumption of homogeneity of variance can be tested using Levene's Test of Equality of Variances, which is produced in SPSS when running the independent t-test. If you have run Levene's Test of Equality of Variances, whether in SPSS or by another means, you will get a result similar to that below:\n",
    "\n",
    "Levene's Test for Equality of Variances in the Independent T-Test Procedure within SPSS\n",
    "This test for homogeneity of variance provides an F statistic and a significance value (p-value). We are primarily concerned with the significance level - if it is greater than 0.05, our group variances can be treated as equal. However, if p < 0.05, we have unequal variances and we have violated the assumption of homogeneity of variance.\n",
    "\n",
    "\n",
    "\n",
    "https://statistics.laerd.com/statistical-guides/independent-t-test-statistical-guide.php"
   ]
  },
  {
   "cell_type": "code",
   "execution_count": 166,
   "metadata": {
    "collapsed": false
   },
   "outputs": [
    {
     "data": {
      "text/plain": [
       "count    33064.000000\n",
       "mean      1845.539439\n",
       "std       2878.770848\n",
       "min          0.000000\n",
       "25%        269.000000\n",
       "50%        893.000000\n",
       "75%       2197.000000\n",
       "max      32814.000000\n",
       "Name: ENTRIESn_hourly, dtype: float64"
      ]
     },
     "execution_count": 166,
     "metadata": {},
     "output_type": "execute_result"
    }
   ],
   "source": [
    "# Descovery\n",
    "rain['ENTRIESn_hourly'].describe()\n",
    "norain['ENTRIESn_hourly'].describe()"
   ]
  },
  {
   "cell_type": "code",
   "execution_count": 184,
   "metadata": {
    "collapsed": false
   },
   "outputs": [
    {
     "data": {
      "text/plain": [
       "<matplotlib.figure.Figure at 0x7f943b524310>"
      ]
     },
     "execution_count": 184,
     "metadata": {},
     "output_type": "execute_result"
    },
    {
     "data": {
      "image/png": "[encoded data removed]",
      "text/plain": [
       "<matplotlib.figure.Figure at 0x7f943b8b6d10>"
      ]
     },
     "metadata": {},
     "output_type": "display_data"
    },
    {
     "data": {
      "image/png": "[encoded data removed]",
      "text/plain": [
       "<matplotlib.figure.Figure at 0x7f943d68ed90>"
      ]
     },
     "metadata": {},
     "output_type": "display_data"
    },
    {
     "data": {
      "text/plain": [
       "<matplotlib.figure.Figure at 0x7f943b524310>"
      ]
     },
     "metadata": {},
     "output_type": "display_data"
    }
   ],
   "source": [
    "# Histogram - These plots have the same shape - but does this mean they are normally distributed or just\n",
    "# normally distributed together as a group/pair\n",
    "plt.hist(rain['ENTRIESn_hourly'], bins=500, normed=True, alpha=0.45, label='Rainy',color='azure')\n",
    "plt.title('Rain ENTRIESn_hourly Histogram')\n",
    "plt.xlabel('ENTRIESn_hourly')\n",
    "plt.ylabel('Frequency')\n",
    "plt.legend(loc='best', frameon=False)\n",
    "# resize to show the distribution of the data\n",
    "plt.axis(xmin=0, xmax=5000)\n",
    "plt.figure(figsize(10,5))\n",
    "\n",
    "\n",
    "#df['ENTRIESn_hourly'].hist(by=df['rain'], figsize=(10, 10), bins=10,alpha=0.5 label='Craig')\n",
    "plt.hist(norain['ENTRIESn_hourly'], bins=500, normed=True, alpha=0.45, label='Non Rainy',color='brown')\n",
    "plt.title('No Rain ENTRIESn_hourly Histogram')\n",
    "plt.xlabel('ENTRIESn_hourly')\n",
    "plt.ylabel('Frequency')\n",
    "plt.legend(loc='best', frameon=False)\n",
    "# resize to show the distribution of the data\n",
    "plt.axis(xmin=0, xmax=5000)\n",
    "plt.figure(figsize(10,5))"
   ]
  },
  {
   "cell_type": "code",
   "execution_count": 185,
   "metadata": {
    "collapsed": false
   },
   "outputs": [
    {
     "data": {
      "image/png": "[encoded data removed]",
      "text/plain": [
       "<matplotlib.figure.Figure at 0x7f943b998b50>"
      ]
     },
     "metadata": {},
     "output_type": "display_data"
    },
    {
     "data": {
      "image/png": "[encoded data removed]",
      "text/plain": [
       "<matplotlib.figure.Figure at 0x7f943bceae90>"
      ]
     },
     "metadata": {},
     "output_type": "display_data"
    }
   ],
   "source": [
    "# Q-Q plot to test for normal distribution\n",
    "# http://stackoverflow.com/questions/13865596/quantile-quantile-plot-using-scipy\n",
    "stats.probplot(rain['ENTRIESn_hourly'], dist=\"norm\", plot=pylab)\n",
    "pylab.title('Q-Q Plot for Rainy ENTRIESn_hourly')\n",
    "pylab.show()\n",
    "\n",
    "stats.probplot(norain['ENTRIESn_hourly'], dist=\"norm\", plot=pylab)\n",
    "pylab.title('Q-Q Plot for Non Rainy ENTRIESn_hourly')\n",
    "pylab.show()"
   ]
  },
  {
   "cell_type": "code",
   "execution_count": 192,
   "metadata": {
    "collapsed": false
   },
   "outputs": [
    {
     "data": {
      "text/plain": [
       "(0.5943876504898071,\n",
       " 0.0,\n",
       " array([  2.13032681e-02,   1.93585046e-02,   1.85939576e-02, ...,\n",
       "          8.53702829e-07,   5.69376368e-07,   2.84688184e-07], dtype=float32))"
      ]
     },
     "execution_count": 192,
     "metadata": {},
     "output_type": "execute_result"
    }
   ],
   "source": [
    "# Shapiro-Wilks Test for normal distribution\n",
    "# scipy.stats.shapiro(x, a=None, reta=False)[source]¶\n",
    "# http://www.itl.nist.gov/div898/handbook/prc/section2/prc213.htm\n",
    "#Returns:\n",
    "# W : The test statistic.\n",
    "# p-value : The p-value for the hypothesis test.\n",
    "# a : array_like, optional\n",
    "stats.shapiro(df['ENTRIESn_hourly'], a=None, reta=True)"
   ]
  },
  {
   "cell_type": "code",
   "execution_count": 176,
   "metadata": {
    "collapsed": false
   },
   "outputs": [
    {
     "data": {
      "text/plain": [
       "<matplotlib.text.Text at 0x7f943bb2c350>"
      ]
     },
     "execution_count": 176,
     "metadata": {},
     "output_type": "execute_result"
    },
    {
     "data": {
      "text/plain": [
       "<matplotlib.figure.Figure at 0x7f943b700cd0>"
      ]
     },
     "metadata": {},
     "output_type": "display_data"
    },
    {
     "data": {
      "image/png": "[encoded data removed]",
      "text/plain": [
       "<matplotlib.figure.Figure at 0x7f943c199090>"
      ]
     },
     "metadata": {},
     "output_type": "display_data"
    }
   ],
   "source": [
    "# Check for outliers\n",
    "x_sec = df[['rain', 'ENTRIESn_hourly']]\n",
    "plt.figure()\n",
    "bp = x_sec.boxplot(by='rain')\n",
    "plt.xlabel(\"Rain vs No Rain\")\n",
    "plt.ylabel(\"ENTRIESn_hourly\")\n"
   ]
  },
  {
   "cell_type": "markdown",
   "metadata": {},
   "source": [
    "DONE: Assumption #1: Your dependent variable should be measured on a continuous scale (i.e., it is measured at the interval or ratio level). Examples of variables that meet this criterion include revision time (measured in hours), intelligence (measured using IQ score), exam performance (measured from 0 to 100), weight (measured in kg), and so forth. You can learn more about continuous variables in our article: Types of Variable.\n",
    "\n",
    "DONE: Assumption #2: Your independent variable should consist of two categorical, independent groups. Example independent variables that meet this criterion include gender (2 groups: male or female), employment status (2 groups: employed or unemployed), smoker (2 groups: yes or no), and so forth.\n",
    "\n",
    "DONE: Assumption #3: You should have independence of observations, which means that there is no relationship between the observations in each group or between the groups themselves. For example, there must be different participants in each group with no participant being in more than one group. This is more of a study design issue than something you can test for, but it is an important assumption of the independent t-test. If your study fails this assumption, you will need to use another statistical test instead of the independent t-test (e.g., a paired-samples t-test). If you are unsure whether your study meets this assumption, you can use our Statistical Test Selector, which is part of our enhanced content.\n",
    "\n",
    "Assumption #4: There should be no significant outliers. Outliers are simply single data points within your data that do not follow the usual pattern (e.g., in a study of 100 students' IQ scores, where the mean score was 108 with only a small variation between students, one student had a score of 156, which is very unusual, and may even put her in the top 1% of IQ scores globally). \n",
    "\n",
    "The problem with outliers is that they can have a negative effect on the independent t-test, reducing the validity of your results. \n",
    "\n",
    "WE HAVE LOTS OF OUTLIERS.  NEED TO CONFIRM\n",
    "\n",
    "\n",
    "https://statistics.laerd.com/spss-tutorials/independent-t-test-using-spss-statistics.php"
   ]
  },
  {
   "cell_type": "markdown",
   "metadata": {},
   "source": [
    "### 1.3 What results did you get from this statistical test? These should include the following numerical values: p-values, as well as the means for each of the two samples under test."
   ]
  },
  {
   "cell_type": "code",
   "execution_count": 183,
   "metadata": {
    "collapsed": false
   },
   "outputs": [
    {
     "name": "stdout",
     "output_type": "stream",
     "text": [
      "\n",
      "\n",
      "TABLE 1.0\n",
      "\n",
      "\n",
      "DESCRIPTIVE STATISTICS\n",
      "\t\tn \t\tmean \t\tmedian \t\tStDev \t\tSE Mean\n",
      "Rain   \t\t9585.00 \t2028.20 \t939.00 \t\t3189.43 \t3189.27\n",
      "No Rain\t\t33064.00 \t1845.54 \t893.00 \t\t2878.77 \t2878.73\n",
      "\n",
      "\n",
      "Pooled Varience: \t8710972\n",
      "Pooled Standard Error: \t34.238\n",
      "\n",
      "\n",
      "INFERENTIAL STATISTICS\n",
      "Type of test\t\t\t = Independent t-test\n",
      "Test statistics: T \t\t = 5.33484\n",
      "Degrees of Freedom\t\t = 42647\n",
      "Significance Level: alpha \t = 0.01 \n",
      "Critical value: t1-α/2,ν \t = 2.58\n",
      "Critical region: Reject H0 if \t = |T| > 2.58\n",
      "P-Value\t\t\t\t = 0.000000096\n",
      "Direction of test\t\t = two tail \n",
      "\n",
      "\n",
      "CONFIDENCE INTERVALS\n",
      "99% CI for the mean difference: (94.46027, 270.85292)\n",
      "Margin of Error: 88.20\n",
      "\n",
      "\n",
      "EFFECT SIZE MEASURES\n",
      "r squared \t\t\t = 0.00067\n",
      "Cohens-D\t\t\t = 0.00002\n",
      "\n",
      "\n"
     ]
    }
   ],
   "source": [
    "print '\\n'\n",
    "print 'TABLE 1.0'\n",
    "print '\\n'\n",
    "print 'DESCRIPTIVE STATISTICS'\n",
    "print '\\t\\tn \\t\\tmean \\t\\tmedian \\t\\tStDev \\t\\tSE Mean'\n",
    "print 'Rain   \\t\\t%.2f \\t%.2f \\t%.2f \\t\\t%.2f \\t%.2f' % (rain_n,rain_xbar, rain_median,rain_sd,rain_se)\n",
    "print 'No Rain\\t\\t%.2f \\t%.2f \\t%.2f \\t\\t%.2f \\t%.2f' % (norain_n,norain_xbar,norain_median,norain_sd,norain_se)\n",
    "print '\\n'\n",
    "print 'Pooled Varience: \\t%.0f' % pooled_varience\n",
    "print 'Pooled Standard Error: \\t%.3f' % pooled_SE\n",
    "print '\\n'\n",
    "\n",
    "print 'INFERENTIAL STATISTICS'\n",
    "# Paired t-test, two tail, t-statistic ,df,p-value, direction of test (two tail, or one tail to in _/- directrion')\n",
    "print 'Type of test\\t\\t\\t = %s' % 'Independent t-test'\n",
    "print 'Test statistics: T \\t\\t = %.5f' % t_statistic\n",
    "print 'Degrees of Freedom\\t\\t = %.0f' % ((rain_n+norain_n)-2)\n",
    "print 'Significance Level: alpha \\t = %s ' % '0.01'\n",
    "print 'Critical value: t1-α/2,ν \\t = %.2f' % critical_value\n",
    "print 'Critical region: Reject H0 if \\t = |T| > %.2f' % critical_value\n",
    "print 'P-Value\\t\\t\\t\\t = %.9f' % p_value\n",
    "print 'Direction of test\\t\\t = %s ' % 'two tail'\n",
    "print '\\n'\n",
    "\n",
    "print 'CONFIDENCE INTERVALS'\n",
    "print '99%% CI for the mean difference: (%.5f, %.5f)' % (lower_CI,upper_CI)\n",
    "print 'Margin of Error: %.2f' % ((upper_CI-lower_CI)/2.0)\n",
    "print '\\n'\n",
    "\n",
    "print 'EFFECT SIZE MEASURES'\n",
    "print 'r squared \\t\\t\\t = %.5f' % r_squared \n",
    "print 'Cohens-D\\t\\t\\t = %.5f' % cohens_d\n",
    "print '\\n'"
   ]
  },
  {
   "cell_type": "markdown",
   "metadata": {},
   "source": [
    "### 1.4 What is the significance and interpretation of these results?\n",
    "\n",
    "We Reject the null hypothesis.\n",
    "\n",
    "Inspection of Q-Q Plots revealed that ENTRIESn_hourly was NOT normally distributed for both groups and that there was homogeneity of variance as assessed by Levene's Test for Equality of Variances.  TODO\n",
    "\n",
    "Therefore, an independent t-test was run on the data as well as 99% confidence intervals (CI) for the mean difference. It was found during days with rain, the ENTRIESn_hourly (2028.20  ± 3189.43) were significantly higher than the days with No Rain (1845.54 ± 2878.77). \n",
    "\n",
    "(t(42647) = 5.33484, p < 0.001) with a difference of 182.66 (99% CI, 94.46 to 270.85) ENTRIESn_hourly.\n",
    "\n",
    "THIS NEEDS SOME WORK"
   ]
  },
  {
   "cell_type": "markdown",
   "metadata": {},
   "source": [
    "## Section 2. Linear Regression"
   ]
  },
  {
   "cell_type": "markdown",
   "metadata": {},
   "source": [
    "### 2.1 What approach did you use to compute the coefficients theta and produce prediction for ENTRIESn_hourly in your regression model: OLS using Statsmodels or Scikit Learn Gradient descent using Scikit Learn Or something different?"
   ]
  },
  {
   "cell_type": "markdown",
   "metadata": {},
   "source": [
    "### 2.2 What features (input variables) did you use in your model? Did you use any dummy variables as part of your features? "
   ]
  },
  {
   "cell_type": "markdown",
   "metadata": {},
   "source": [
    "### 2.3 Why did you select these features in your model? We are looking for specific reasons that lead you to believe that the selected features will contribute to the predictive power of your model. Your reasons might be based on intuition. For example, response for fog might be: “I decided to use fog because I thought that when it is very foggy outside people might decide to use the subway more often.” Your reasons might also be based on data exploration and experimentation, for example: “I used feature X because as soon as I included it in my model, it drastically improved my R2 value.”"
   ]
  },
  {
   "cell_type": "markdown",
   "metadata": {},
   "source": [
    "### 2.4 What are the parameters (also known as \"coefficients\" or \"weights\") of the non-dummy features in your linear regression model? "
   ]
  },
  {
   "cell_type": "markdown",
   "metadata": {},
   "source": [
    "### 2.5 What is your model’s R2 (coefficients of determination) value? 2.6 What does this R2 value mean for the goodness of fit for your regression model? Do you think this linear model to predict ridership is appropriate for this dataset, given this R2 value?"
   ]
  },
  {
   "cell_type": "markdown",
   "metadata": {},
   "source": [
    "## Section 3. Visualization\n",
    "\n",
    "Please include two visualizations that show the relationships between two or more variables in the NYC subway data.  \n",
    "\n",
    "Remember to add appropriate titles and axes labels to your plots. Also, please add a short description below each figure commenting on the key insights depicted in the figure.\n",
    "\n"
   ]
  },
  {
   "cell_type": "markdown",
   "metadata": {},
   "source": [
    "### 3.1 One visualization should contain two histograms: one of  ENTRIESn_hourly for rainy days and one of ENTRIESn_hourly for non-rainy days.\n",
    "You can combine the two histograms in a single plot or you can use two separate plots.\n",
    "If you decide to use to two separate plots for the two histograms, please ensure that the x-axis limits for both of the plots are identical. It is much easier to compare the two in that case.\n",
    "\n",
    "\n",
    "For the histograms, you should have intervals representing the volume of ridership (value of ENTRIESn_hourly) on the x-axis and the frequency of occurrence on the y-axis. For example, each interval (along the x-axis), the height of the bar for this interval will represent the number of records (rows in our data) that have ENTRIESn_hourly that falls in this interval.\n",
    "Remember to increase the number of bins in the histogram (by having larger number of bars). The default bin width is not sufficient to capture the variability in the two samples."
   ]
  },
  {
   "cell_type": "markdown",
   "metadata": {},
   "source": [
    "## 3.2 One visualization can be more freeform. \n",
    "\n",
    "You should feel free to implement something that we discussed in class (e.g., scatter plots, line plots) or attempt to implement something more advanced if you'd like. Some suggestions are:\n",
    "Ridership by time-of-day\n",
    "Ridership by day-of-week"
   ]
  },
  {
   "cell_type": "markdown",
   "metadata": {},
   "source": [
    "## Section 4. Conclusion\n",
    "\n",
    "Please address the following questions in detail. Your answers should be 1-2 paragraphs long."
   ]
  },
  {
   "cell_type": "markdown",
   "metadata": {},
   "source": [
    "### 4.1 From your analysis and interpretation of the data, do more people ride the NYC subway when it is raining or when it is not raining?"
   ]
  },
  {
   "cell_type": "markdown",
   "metadata": {},
   "source": [
    "### 4.2 What analyses lead you to this conclusion? You should use results from both your statistical tests and your linear regression to support your analysis."
   ]
  },
  {
   "cell_type": "markdown",
   "metadata": {},
   "source": [
    "## Section 5. Reflection\n",
    "\n",
    "Please address the following questions in detail. Your answers should be 1-2 paragraphs long."
   ]
  },
  {
   "cell_type": "markdown",
   "metadata": {},
   "source": [
    "### 5.1 Please discuss potential shortcomings of the methods of your analysis, including: Dataset, Analysis, such as the linear regression model or statistical test."
   ]
  },
  {
   "cell_type": "markdown",
   "metadata": {},
   "source": [
    "### 5.1 Please discuss potential shortcomings of the methods of your analysis, including: Dataset, Analysis, such as the linear regression model or statistical test."
   ]
  },
  {
   "cell_type": "markdown",
   "metadata": {},
   "source": [
    "# Referenecs\n",
    "\n",
    "Python 3.4.2 Documentation     \n",
    "Retrieved from https://docs.python.org/\n",
    "\n",
    "ggplot from yhat   \n",
    "Retrieved from http://ggplot.yhathq.com/\n",
    "\n",
    "SciPy.org    \n",
    "Retrieved from http://scipy.org/\n",
    "\n",
    "Engineering Statistics    \n",
    "Retrieved from http://www.itl.nist.gov/div898/handbook/\n",
    "\n",
    "5.2.4.  Are the model residuals well-behaved? [Blog Post]   \n",
    "Retrieved from http://www.itl.nist.gov/div898/handbook/pri/section2/pri24.htm\n",
    "\n",
    "The Minitab Blog What Is the Difference between Linear and Nonlinear Equations in Regression Analysis? [Blog Post]  \n",
    "Retrieved from http://blog.minitab.com/blog/adventures-in-statistics \n",
    "\n",
    "The Minitab Blog Regression Analysis how do I interpret R Squared and assess the goodness of fit. [Blog Post]  \n",
    "Retrieved from http://blog.minitab.com/blog/adventures-in-statistics/regression-analysis-how-do-i-interpret-r-squared-and-assess-the-goodness-of-fit\n",
    "\n",
    "What are the differences between one-tailed and two-tailed tests? [Blog Post]   \n",
    "Retrieved from http://www.ats.ucla.edu/stat/mult_pkg/faq/general/tail_tests.htm\n",
    "\n",
    "Dummy Variables [Wiki Post]   \n",
    "Retrieved from http://en.wikipedia.org/wiki/Dummy_variable_(statistics) \n",
    "\n",
    "Mann-Whitney U Test using SPSS [Blog Post]   \n",
    "Retrieved from https://statistics.laerd.com/spss-tutorials/mann-whitney-u-test-using-spss-statistics.phpRegression \n",
    "\n",
    "Independent T-Test for Two Samples [Blog Post]   \n",
    "Retrieved from https://statistics.laerd.com/statistical-guides/independent-t-test-statistical-guide.php\n",
    "\n",
    "Analysis – How to Interpret the Constant Y Intercept [Blog Post]   \n",
    "Retrieved from http://blog.minitab.com/blog/adventures-in-statistics/regression-analysis-how-to-interpret-the-constant-y-intercept \n",
    "\n",
    "Coding in the Rain [Blog Post]   \n",
    "Retrieved From http://drjasondavis.com/2013/07/08/coding-in-the-rain/ \n",
    "\n",
    "Mann-Whitney U Test using SPSS  \n",
    "Retrieved From https://statistics.laerd.com/spss-tutorials/mann-whitney-u-test-using-spss-statistics.php\n"
   ]
  },
  {
   "cell_type": "code",
   "execution_count": null,
   "metadata": {
    "collapsed": true
   },
   "outputs": [],
   "source": []
  }
 ],
 "metadata": {
  "kernelspec": {
   "display_name": "Python 2",
   "language": "python",
   "name": "python2"
  },
  "language_info": {
   "codemirror_mode": {
    "name": "ipython",
    "version": 2
   },
   "file_extension": ".py",
   "mimetype": "text/x-python",
   "name": "python",
   "nbconvert_exporter": "python",
   "pygments_lexer": "ipython2",
   "version": "2.7.10"
  }
 },
 "nbformat": 4,
 "nbformat_minor": 0
}
